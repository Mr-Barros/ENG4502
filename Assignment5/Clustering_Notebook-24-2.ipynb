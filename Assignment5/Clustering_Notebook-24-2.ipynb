{
  "nbformat": 4,
  "nbformat_minor": 0,
  "metadata": {
    "colab": {
      "provenance": []
    },
    "kernelspec": {
      "name": "python3",
      "display_name": "Python 3"
    },
    "language_info": {
      "name": "python"
    }
  },
  "cells": [
    {
      "cell_type": "markdown",
      "source": [
        "# **Tarefa: Clustering**\n",
        "\n",
        "### Nesta tarefa, você deve carregar um dataset e agrupar os objetos utilizando algoritmos de pelo menos duas categorias diferentes (centroide, hierárquico, densidade)\n",
        "\n",
        "**Dicas:**\n",
        "- Explore diferentes parâmetros, como o número de clusters ou a distância usada, para observar como isso afeta os resultados.\n",
        "- Analise os insights que surgem a partir das visualizações dos agrupamentos encontrados."
      ],
      "metadata": {
        "id": "Yu94FH8JVsIN"
      }
    },
    {
      "cell_type": "markdown",
      "source": [
        "# **Sobre o Dataset**\n",
        "\n",
        "Este dataset contém informações detalhadas sobre clientes, como dados demográficos, hábitos de compra e interações com campanhas de marketing. Ele permite identificar perfis de clientes e realizar segmentações com base em suas preferências e comportamentos de consumo.\n",
        "\n",
        "**Features:**\n",
        "- **Year_Birth:** Ano de nascimento do indivíduo.\n",
        "- **Education:** Nível mais alto de educação alcançado.\n",
        "- **Marital_Status:** Estado civil do indivíduo.\n",
        "- **Income:** Renda anual do indivíduo.\n",
        "- **Kidhome:** Número de crianças pequenas na casa.\n",
        "- **Teenhome:** Número de adolescentes na casa.\n",
        "- **Recency:** Dias desde a última compra ou interação.\n",
        "- **MntWines:** Quantia gasta em vinhos.\n",
        "- **MntFruits:** Quantia gasta em frutas.\n",
        "- **MntMeatProducts:** Quantia gasta em produtos de carne.\n",
        "- **MntFishProducts:** Quantia gasta em produtos de peixe.\n",
        "- **MntSweetProducts:** Quantia gasta em doces.\n",
        "- **NumStorePurchases:** Número de compras em lojas físicas.\n",
        "- **NumWebVisitsMonth:** Número de visitas ao site da empresa em um mês.\n"
      ],
      "metadata": {
        "id": "QDxjIKR9lka2"
      }
    },
    {
      "cell_type": "markdown",
      "source": [
        "# **Carregue as bibliotecas**\n",
        "\n",
        "Dica: Para esta tarefa, além das bibliotecas `pandas` e `matplotlib`, explore funções das bibliotecas `sklearn` e `sklearn_extra`. Considere os seguintes pacotes:\n",
        "- **cluster:** KMeans, KMedoids, AgglomerativeClustering, DBSCAN\n",
        "- **preprocessing:** MinMaxScaler (normalização) e OneHotEncoder (binarização)\n",
        "- **metrics:** silhouette_score\n",
        "\n",
        "Sinta-se à vontade para adicionar outros pacotes que achar úteis.\n",
        "\n",
        "```python\n",
        "!pip install scikit-learn-extra\n",
        "from sklearn_extra.cluster import KMedoids\n",
        "from sklearn.preprocessing import MinMaxScaler\n",
        "from sklearn.metrics import silhouette_score\n",
        "from sklearn.cluster import KMeans, AgglomerativeClustering, DBSCAN\n"
      ],
      "metadata": {
        "id": "3d-1VkT7V1Lw"
      }
    },
    {
      "cell_type": "code",
      "source": [],
      "metadata": {
        "id": "XcMEgRlqROec"
      },
      "execution_count": null,
      "outputs": []
    },
    {
      "cell_type": "markdown",
      "source": [
        "### **Carregue os Dados**"
      ],
      "metadata": {
        "id": "xMAPq-BTWI9u"
      }
    },
    {
      "cell_type": "code",
      "source": [],
      "metadata": {
        "id": "n1894WCFRPON"
      },
      "execution_count": null,
      "outputs": []
    },
    {
      "cell_type": "markdown",
      "source": [
        "## **Pré-Processamento dos Dados**\n",
        "\n",
        "Aplique as técnicas de pré-processamento que vimos em aula no dataset fornecido.\n",
        "\n",
        "### **Dicas:**\n",
        "- **Converter dados categóricos para numéricos:** Use `LabelEncoder` ou `OneHotEncoder`.\n",
        "\n",
        "- **Transformar os dados:** Experimente `MinMaxScaler` para ajustar a escala dos dados.\n",
        "\n",
        "- **Remover outliers:** Verifique outliers com base no IQR e os elimine se necessário.\n",
        "\n",
        "- **Tratar valores nulos:** Preencha com a média, moda, mediana ou remova as linhas, dependendo do impacto no dataset.\n"
      ],
      "metadata": {
        "id": "DcsmXBREWimL"
      }
    },
    {
      "cell_type": "code",
      "source": [],
      "metadata": {
        "id": "gl3kP8v9RQdd"
      },
      "execution_count": null,
      "outputs": []
    },
    {
      "cell_type": "markdown",
      "source": [
        "# **Clustering**\n",
        "\n",
        "**Escolha ao menos 2 algoritmos de clustering que pertençam a métodos diferentes (centróides, densidade ou hierárquico).**\n",
        "\n",
        "### **Passos:**\n",
        "\n",
        "1. Para cada algoritmo, execute-o em 6 diferentes cenários, variando os parâmetros.\n",
        "\n",
        "2. Calcule o índice de silhueta `silhouette_score` para cada cenários e compare os resultados."
      ],
      "metadata": {
        "id": "gFfMnybHZ0h0"
      }
    },
    {
      "cell_type": "code",
      "source": [],
      "metadata": {
        "id": "Po1qVDbkcFTJ"
      },
      "execution_count": null,
      "outputs": []
    },
    {
      "cell_type": "markdown",
      "source": [
        "### **Resultados**\n",
        "\n",
        "1. **Resumo dos Resultados:**\n",
        "   - Para cada algoritmo utilizado, apresente os resultados dos 6 cenários testados e compare as métricas calculadas.\n",
        "\n",
        "2. **Visualização Gráfica:**\n",
        "   - Plote um gráfico comparando o índice de silhueta entre os cenários.\n",
        "\n",
        "\n",
        "\n"
      ],
      "metadata": {
        "id": "G-taBaE7dSCw"
      }
    },
    {
      "cell_type": "code",
      "source": [],
      "metadata": {
        "id": "cb4H2p0IRWpr"
      },
      "execution_count": null,
      "outputs": []
    },
    {
      "cell_type": "markdown",
      "source": [
        "## **Encontre o melhor clustering para cada um dos algoritmos selecionados**\n",
        "\n",
        "Depois de executar os algoritmos com diferentes combinações de parâmetros, identifique quais obtiveram os melhores resultados de acordo com índice de silhueta para cada um dos 2 (ou mais) algoritmos selecionados.\n"
      ],
      "metadata": {
        "id": "JqXedIEAfVeJ"
      }
    },
    {
      "cell_type": "code",
      "source": [],
      "metadata": {
        "id": "oO3jWRLARXnp"
      },
      "execution_count": null,
      "outputs": []
    },
    {
      "cell_type": "markdown",
      "source": [
        "## **Para cada algoritmo, visualize graficamente o modelo que teve o melhor desempenho**\n",
        "\n",
        "Com base nos modelos de melhor desempenho, escolha variáveis e crie gráficos de dispersão que permitam visualizar os clusters gerados.\n",
        "\n",
        "**Dica:**\n",
        "\n",
        "Ao criar scatter plots, teste combinações de 2 variáveis do dataset para facilitar a visualização dos clusters. Para o clustering hierárquico, experimente também plotar um dendrograma.\n",
        "\n",
        "### **Dendrograma:**\n",
        "Use o código abaixo para o dendrograma:\n",
        "```python\n",
        "import scipy.cluster.hierarchy as sch\n",
        "\n",
        "Z = sch.linkage(df[[variavel_1, variavel_2]], method='centroid')\n",
        "\n",
        "# p = altura máxima que será exibida\n",
        "sch.dendrogram(Z, p = ?, truncate_mode = \"level\") # Mude o valor de p para melhorar a vizualização do seu dendrograma\n",
        "\n",
        "```\n",
        "\n",
        "\n",
        "\n",
        "[\n",
        "Documentação Dendrograma](https://docs.scipy.org/doc/scipy/reference/generated/scipy.cluster.hierarchy.dendrogram.html#scipy.cluster.hierarchy.dendrogram)"
      ],
      "metadata": {
        "id": "t3VtT2Arf_ZC"
      }
    },
    {
      "cell_type": "code",
      "source": [],
      "metadata": {
        "id": "itZcWpk3fzCp"
      },
      "execution_count": null,
      "outputs": []
    },
    {
      "cell_type": "markdown",
      "source": [
        "### **Análise dos Clusters**\n",
        "\n",
        "Após identificar o melhor modelo, selecione **3 itens de cada cluster** e explique o que cada agrupamento parece representar com base nas características dos itens.\n",
        "\n",
        "1. **Análise dos Itens:**\n",
        "   - Analise as características principais desses itens (ex.: renda, número de compras, produtos comprados).\n",
        "   - Identifique padrões ou características que diferenciam cada cluster.\n",
        "\n",
        "2. **Interpretação dos Agrupamentos:**\n",
        "   - Explique o que cada cluster parece estar representando.\n",
        "   - Relacione as características predominantes de cada cluster a possíveis perfis de clientes (ex.: clientes com alta renda e foco em produtos premium, ou clientes com baixa frequência de compras).\n"
      ],
      "metadata": {
        "id": "OpxDMgJu5GAQ"
      }
    },
    {
      "cell_type": "code",
      "source": [],
      "metadata": {
        "id": "vCIFr68E5lBs"
      },
      "execution_count": null,
      "outputs": []
    },
    {
      "cell_type": "markdown",
      "source": [
        "Responda aqui...."
      ],
      "metadata": {
        "id": "LyEi71gDhHOI"
      }
    }
  ]
}