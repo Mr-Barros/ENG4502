{
  "cells": [
    {
      "cell_type": "markdown",
      "metadata": {
        "id": "Yu94FH8JVsIN"
      },
      "source": [
        "# **Tarefa: Clustering**\n",
        "\n",
        "### Nesta tarefa, você deve carregar um dataset e agrupar os objetos utilizando algoritmos de pelo menos duas categorias diferentes (centroide, hierárquico, densidade)\n",
        "\n",
        "**Dicas:**\n",
        "- Explore diferentes parâmetros, como o número de clusters ou a distância usada, para observar como isso afeta os resultados.\n",
        "- Analise os insights que surgem a partir das visualizações dos agrupamentos encontrados."
      ]
    },
    {
      "cell_type": "markdown",
      "metadata": {
        "id": "QDxjIKR9lka2"
      },
      "source": [
        "# **Sobre o Dataset**\n",
        "\n",
        "Este dataset contém informações detalhadas sobre clientes, como dados demográficos, hábitos de compra e interações com campanhas de marketing. Ele permite identificar perfis de clientes e realizar segmentações com base em suas preferências e comportamentos de consumo.\n",
        "\n",
        "**Features:**\n",
        "- **Year_Birth:** Ano de nascimento do indivíduo.\n",
        "- **Education:** Nível mais alto de educação alcançado.\n",
        "- **Marital_Status:** Estado civil do indivíduo.\n",
        "- **Income:** Renda anual do indivíduo.\n",
        "- **Kidhome:** Número de crianças pequenas na casa.\n",
        "- **Teenhome:** Número de adolescentes na casa.\n",
        "- **Recency:** Dias desde a última compra ou interação.\n",
        "- **MntWines:** Quantia gasta em vinhos.\n",
        "- **MntFruits:** Quantia gasta em frutas.\n",
        "- **MntMeatProducts:** Quantia gasta em produtos de carne.\n",
        "- **MntFishProducts:** Quantia gasta em produtos de peixe.\n",
        "- **MntSweetProducts:** Quantia gasta em doces.\n",
        "- **NumStorePurchases:** Número de compras em lojas físicas.\n",
        "- **NumWebVisitsMonth:** Número de visitas ao site da empresa em um mês.\n"
      ]
    },
    {
      "cell_type": "markdown",
      "metadata": {
        "id": "3d-1VkT7V1Lw"
      },
      "source": [
        "# **Carregue as bibliotecas**\n",
        "\n",
        "Dica: Para esta tarefa, além das bibliotecas `pandas` e `matplotlib`, explore funções das bibliotecas `sklearn` e `sklearn_extra`. Considere os seguintes pacotes:\n",
        "- **cluster:** KMeans, KMedoids, AgglomerativeClustering, DBSCAN\n",
        "- **preprocessing:** MinMaxScaler (normalização) e OneHotEncoder (binarização)\n",
        "- **metrics:** silhouette_score\n",
        "\n",
        "Sinta-se à vontade para adicionar outros pacotes que achar úteis.\n",
        "\n",
        "```python\n",
        "!pip install scikit-learn-extra\n",
        "from sklearn_extra.cluster import KMedoids\n",
        "from sklearn.preprocessing import MinMaxScaler\n",
        "from sklearn.metrics import silhouette_score\n",
        "from sklearn.cluster import KMeans, AgglomerativeClustering, DBSCAN\n"
      ]
    },
    {
      "cell_type": "code",
      "execution_count": 167,
      "metadata": {
        "id": "XcMEgRlqROec"
      },
      "outputs": [],
      "source": [
        "import pandas as pd\n",
        "import numpy as np\n",
        "import matplotlib.pyplot as plt\n",
        "import seaborn as sns\n",
        "from sklearn.preprocessing import OneHotEncoder, OrdinalEncoder, MinMaxScaler\n",
        "from sklearn.cluster import DBSCAN, AgglomerativeClustering\n",
        "from sklearn.metrics import silhouette_score"
      ]
    },
    {
      "cell_type": "markdown",
      "metadata": {
        "id": "xMAPq-BTWI9u"
      },
      "source": [
        "### **Carregue os Dados**"
      ]
    },
    {
      "cell_type": "code",
      "execution_count": 168,
      "metadata": {
        "id": "n1894WCFRPON"
      },
      "outputs": [
        {
          "data": {
            "text/html": [
              "<div>\n",
              "<style scoped>\n",
              "    .dataframe tbody tr th:only-of-type {\n",
              "        vertical-align: middle;\n",
              "    }\n",
              "\n",
              "    .dataframe tbody tr th {\n",
              "        vertical-align: top;\n",
              "    }\n",
              "\n",
              "    .dataframe thead th {\n",
              "        text-align: right;\n",
              "    }\n",
              "</style>\n",
              "<table border=\"1\" class=\"dataframe\">\n",
              "  <thead>\n",
              "    <tr style=\"text-align: right;\">\n",
              "      <th></th>\n",
              "      <th>Year_Birth</th>\n",
              "      <th>Education</th>\n",
              "      <th>Marital_Status</th>\n",
              "      <th>Income</th>\n",
              "      <th>Kidhome</th>\n",
              "      <th>Teenhome</th>\n",
              "      <th>Recency</th>\n",
              "      <th>MntWines</th>\n",
              "      <th>MntFruits</th>\n",
              "      <th>MntMeatProducts</th>\n",
              "      <th>MntFishProducts</th>\n",
              "      <th>MntSweetProducts</th>\n",
              "      <th>NumStorePurchases</th>\n",
              "      <th>NumWebVisitsMonth</th>\n",
              "    </tr>\n",
              "  </thead>\n",
              "  <tbody>\n",
              "    <tr>\n",
              "      <th>0</th>\n",
              "      <td>1957</td>\n",
              "      <td>Graduation</td>\n",
              "      <td>Single</td>\n",
              "      <td>58138.0</td>\n",
              "      <td>0</td>\n",
              "      <td>0</td>\n",
              "      <td>58</td>\n",
              "      <td>635</td>\n",
              "      <td>88</td>\n",
              "      <td>546</td>\n",
              "      <td>172</td>\n",
              "      <td>88</td>\n",
              "      <td>4</td>\n",
              "      <td>7</td>\n",
              "    </tr>\n",
              "    <tr>\n",
              "      <th>1</th>\n",
              "      <td>1954</td>\n",
              "      <td>Graduation</td>\n",
              "      <td>Single</td>\n",
              "      <td>46344.0</td>\n",
              "      <td>1</td>\n",
              "      <td>1</td>\n",
              "      <td>38</td>\n",
              "      <td>11</td>\n",
              "      <td>1</td>\n",
              "      <td>6</td>\n",
              "      <td>2</td>\n",
              "      <td>1</td>\n",
              "      <td>2</td>\n",
              "      <td>5</td>\n",
              "    </tr>\n",
              "    <tr>\n",
              "      <th>2</th>\n",
              "      <td>1965</td>\n",
              "      <td>Graduation</td>\n",
              "      <td>Together</td>\n",
              "      <td>71613.0</td>\n",
              "      <td>0</td>\n",
              "      <td>0</td>\n",
              "      <td>26</td>\n",
              "      <td>426</td>\n",
              "      <td>49</td>\n",
              "      <td>127</td>\n",
              "      <td>111</td>\n",
              "      <td>21</td>\n",
              "      <td>10</td>\n",
              "      <td>4</td>\n",
              "    </tr>\n",
              "    <tr>\n",
              "      <th>3</th>\n",
              "      <td>1984</td>\n",
              "      <td>Graduation</td>\n",
              "      <td>Together</td>\n",
              "      <td>26646.0</td>\n",
              "      <td>1</td>\n",
              "      <td>0</td>\n",
              "      <td>26</td>\n",
              "      <td>11</td>\n",
              "      <td>4</td>\n",
              "      <td>20</td>\n",
              "      <td>10</td>\n",
              "      <td>3</td>\n",
              "      <td>4</td>\n",
              "      <td>6</td>\n",
              "    </tr>\n",
              "    <tr>\n",
              "      <th>4</th>\n",
              "      <td>1981</td>\n",
              "      <td>PhD</td>\n",
              "      <td>Married</td>\n",
              "      <td>58293.0</td>\n",
              "      <td>1</td>\n",
              "      <td>0</td>\n",
              "      <td>94</td>\n",
              "      <td>173</td>\n",
              "      <td>43</td>\n",
              "      <td>118</td>\n",
              "      <td>46</td>\n",
              "      <td>27</td>\n",
              "      <td>6</td>\n",
              "      <td>5</td>\n",
              "    </tr>\n",
              "  </tbody>\n",
              "</table>\n",
              "</div>"
            ],
            "text/plain": [
              "   Year_Birth   Education Marital_Status   Income  Kidhome  Teenhome  Recency  \\\n",
              "0        1957  Graduation         Single  58138.0        0         0       58   \n",
              "1        1954  Graduation         Single  46344.0        1         1       38   \n",
              "2        1965  Graduation       Together  71613.0        0         0       26   \n",
              "3        1984  Graduation       Together  26646.0        1         0       26   \n",
              "4        1981         PhD        Married  58293.0        1         0       94   \n",
              "\n",
              "   MntWines  MntFruits  MntMeatProducts  MntFishProducts  MntSweetProducts  \\\n",
              "0       635         88              546              172                88   \n",
              "1        11          1                6                2                 1   \n",
              "2       426         49              127              111                21   \n",
              "3        11          4               20               10                 3   \n",
              "4       173         43              118               46                27   \n",
              "\n",
              "   NumStorePurchases  NumWebVisitsMonth  \n",
              "0                  4                  7  \n",
              "1                  2                  5  \n",
              "2                 10                  4  \n",
              "3                  4                  6  \n",
              "4                  6                  5  "
            ]
          },
          "execution_count": 168,
          "metadata": {},
          "output_type": "execute_result"
        }
      ],
      "source": [
        "path = 'customer_segmentation-24-2.csv'\n",
        "df = pd.read_csv(path)\n",
        "df.head()"
      ]
    },
    {
      "cell_type": "code",
      "execution_count": 169,
      "metadata": {},
      "outputs": [
        {
          "name": "stdout",
          "output_type": "stream",
          "text": [
            "['Graduation' 'PhD' 'Master' 'Basic' '2n Cycle']\n",
            "['Single' 'Together' 'Married' 'Divorced' 'Widow']\n",
            "Year_Birth            0\n",
            "Education             0\n",
            "Marital_Status        0\n",
            "Income               13\n",
            "Kidhome               0\n",
            "Teenhome              0\n",
            "Recency               0\n",
            "MntWines              0\n",
            "MntFruits             0\n",
            "MntMeatProducts       0\n",
            "MntFishProducts       0\n",
            "MntSweetProducts      0\n",
            "NumStorePurchases     0\n",
            "NumWebVisitsMonth     0\n",
            "dtype: int64\n"
          ]
        }
      ],
      "source": [
        "print(df.Education.unique())\n",
        "print(df.Marital_Status.unique())\n",
        "print(df.isnull().sum())"
      ]
    },
    {
      "cell_type": "markdown",
      "metadata": {
        "id": "DcsmXBREWimL"
      },
      "source": [
        "## **Pré-Processamento dos Dados**\n",
        "\n",
        "Aplique as técnicas de pré-processamento que vimos em aula no dataset fornecido.\n",
        "\n",
        "### **Dicas:**\n",
        "- **Converter dados categóricos para numéricos:** Use `LabelEncoder` ou `OneHotEncoder`.\n",
        "\n",
        "- **Transformar os dados:** Experimente `MinMaxScaler` para ajustar a escala dos dados.\n",
        "\n",
        "- **Remover outliers:** Verifique outliers com base no IQR e os elimine se necessário.\n",
        "\n",
        "- **Tratar valores nulos:** Preencha com a média, moda, mediana ou remova as linhas, dependendo do impacto no dataset.\n"
      ]
    },
    {
      "cell_type": "code",
      "execution_count": 170,
      "metadata": {
        "id": "gl3kP8v9RQdd"
      },
      "outputs": [
        {
          "data": {
            "text/html": [
              "<div>\n",
              "<style scoped>\n",
              "    .dataframe tbody tr th:only-of-type {\n",
              "        vertical-align: middle;\n",
              "    }\n",
              "\n",
              "    .dataframe tbody tr th {\n",
              "        vertical-align: top;\n",
              "    }\n",
              "\n",
              "    .dataframe thead th {\n",
              "        text-align: right;\n",
              "    }\n",
              "</style>\n",
              "<table border=\"1\" class=\"dataframe\">\n",
              "  <thead>\n",
              "    <tr style=\"text-align: right;\">\n",
              "      <th></th>\n",
              "      <th>Year_Birth</th>\n",
              "      <th>Education</th>\n",
              "      <th>Income</th>\n",
              "      <th>Kidhome</th>\n",
              "      <th>Teenhome</th>\n",
              "      <th>Recency</th>\n",
              "      <th>MntWines</th>\n",
              "      <th>MntFruits</th>\n",
              "      <th>MntMeatProducts</th>\n",
              "      <th>MntFishProducts</th>\n",
              "      <th>MntSweetProducts</th>\n",
              "      <th>NumStorePurchases</th>\n",
              "      <th>NumWebVisitsMonth</th>\n",
              "      <th>Marital_Status_Divorced</th>\n",
              "      <th>Marital_Status_Married</th>\n",
              "      <th>Marital_Status_Single</th>\n",
              "      <th>Marital_Status_Together</th>\n",
              "      <th>Marital_Status_Widow</th>\n",
              "    </tr>\n",
              "  </thead>\n",
              "  <tbody>\n",
              "    <tr>\n",
              "      <th>0</th>\n",
              "      <td>0.621359</td>\n",
              "      <td>0.25</td>\n",
              "      <td>0.348178</td>\n",
              "      <td>0.0</td>\n",
              "      <td>0.0</td>\n",
              "      <td>0.585859</td>\n",
              "      <td>0.425603</td>\n",
              "      <td>0.442211</td>\n",
              "      <td>0.316125</td>\n",
              "      <td>0.677165</td>\n",
              "      <td>0.334601</td>\n",
              "      <td>0.307692</td>\n",
              "      <td>0.35</td>\n",
              "      <td>0.0</td>\n",
              "      <td>0.0</td>\n",
              "      <td>1.0</td>\n",
              "      <td>0.0</td>\n",
              "      <td>0.0</td>\n",
              "    </tr>\n",
              "    <tr>\n",
              "      <th>1</th>\n",
              "      <td>0.592233</td>\n",
              "      <td>0.25</td>\n",
              "      <td>0.274442</td>\n",
              "      <td>0.5</td>\n",
              "      <td>0.5</td>\n",
              "      <td>0.383838</td>\n",
              "      <td>0.007373</td>\n",
              "      <td>0.005025</td>\n",
              "      <td>0.002900</td>\n",
              "      <td>0.007874</td>\n",
              "      <td>0.003802</td>\n",
              "      <td>0.153846</td>\n",
              "      <td>0.25</td>\n",
              "      <td>0.0</td>\n",
              "      <td>0.0</td>\n",
              "      <td>1.0</td>\n",
              "      <td>0.0</td>\n",
              "      <td>0.0</td>\n",
              "    </tr>\n",
              "    <tr>\n",
              "      <th>2</th>\n",
              "      <td>0.699029</td>\n",
              "      <td>0.25</td>\n",
              "      <td>0.432423</td>\n",
              "      <td>0.0</td>\n",
              "      <td>0.0</td>\n",
              "      <td>0.262626</td>\n",
              "      <td>0.285523</td>\n",
              "      <td>0.246231</td>\n",
              "      <td>0.073086</td>\n",
              "      <td>0.437008</td>\n",
              "      <td>0.079848</td>\n",
              "      <td>0.769231</td>\n",
              "      <td>0.20</td>\n",
              "      <td>0.0</td>\n",
              "      <td>0.0</td>\n",
              "      <td>0.0</td>\n",
              "      <td>1.0</td>\n",
              "      <td>0.0</td>\n",
              "    </tr>\n",
              "    <tr>\n",
              "      <th>3</th>\n",
              "      <td>0.883495</td>\n",
              "      <td>0.25</td>\n",
              "      <td>0.151291</td>\n",
              "      <td>0.5</td>\n",
              "      <td>0.0</td>\n",
              "      <td>0.262626</td>\n",
              "      <td>0.007373</td>\n",
              "      <td>0.020101</td>\n",
              "      <td>0.011021</td>\n",
              "      <td>0.039370</td>\n",
              "      <td>0.011407</td>\n",
              "      <td>0.307692</td>\n",
              "      <td>0.30</td>\n",
              "      <td>0.0</td>\n",
              "      <td>0.0</td>\n",
              "      <td>0.0</td>\n",
              "      <td>1.0</td>\n",
              "      <td>0.0</td>\n",
              "    </tr>\n",
              "    <tr>\n",
              "      <th>4</th>\n",
              "      <td>0.854369</td>\n",
              "      <td>1.00</td>\n",
              "      <td>0.349147</td>\n",
              "      <td>0.5</td>\n",
              "      <td>0.0</td>\n",
              "      <td>0.949495</td>\n",
              "      <td>0.115952</td>\n",
              "      <td>0.216080</td>\n",
              "      <td>0.067865</td>\n",
              "      <td>0.181102</td>\n",
              "      <td>0.102662</td>\n",
              "      <td>0.461538</td>\n",
              "      <td>0.25</td>\n",
              "      <td>0.0</td>\n",
              "      <td>1.0</td>\n",
              "      <td>0.0</td>\n",
              "      <td>0.0</td>\n",
              "      <td>0.0</td>\n",
              "    </tr>\n",
              "  </tbody>\n",
              "</table>\n",
              "</div>"
            ],
            "text/plain": [
              "   Year_Birth  Education    Income  Kidhome  Teenhome   Recency  MntWines  \\\n",
              "0    0.621359       0.25  0.348178      0.0       0.0  0.585859  0.425603   \n",
              "1    0.592233       0.25  0.274442      0.5       0.5  0.383838  0.007373   \n",
              "2    0.699029       0.25  0.432423      0.0       0.0  0.262626  0.285523   \n",
              "3    0.883495       0.25  0.151291      0.5       0.0  0.262626  0.007373   \n",
              "4    0.854369       1.00  0.349147      0.5       0.0  0.949495  0.115952   \n",
              "\n",
              "   MntFruits  MntMeatProducts  MntFishProducts  MntSweetProducts  \\\n",
              "0   0.442211         0.316125         0.677165          0.334601   \n",
              "1   0.005025         0.002900         0.007874          0.003802   \n",
              "2   0.246231         0.073086         0.437008          0.079848   \n",
              "3   0.020101         0.011021         0.039370          0.011407   \n",
              "4   0.216080         0.067865         0.181102          0.102662   \n",
              "\n",
              "   NumStorePurchases  NumWebVisitsMonth  Marital_Status_Divorced  \\\n",
              "0           0.307692               0.35                      0.0   \n",
              "1           0.153846               0.25                      0.0   \n",
              "2           0.769231               0.20                      0.0   \n",
              "3           0.307692               0.30                      0.0   \n",
              "4           0.461538               0.25                      0.0   \n",
              "\n",
              "   Marital_Status_Married  Marital_Status_Single  Marital_Status_Together  \\\n",
              "0                     0.0                    1.0                      0.0   \n",
              "1                     0.0                    1.0                      0.0   \n",
              "2                     0.0                    0.0                      1.0   \n",
              "3                     0.0                    0.0                      1.0   \n",
              "4                     1.0                    0.0                      0.0   \n",
              "\n",
              "   Marital_Status_Widow  \n",
              "0                   0.0  \n",
              "1                   0.0  \n",
              "2                   0.0  \n",
              "3                   0.0  \n",
              "4                   0.0  "
            ]
          },
          "execution_count": 170,
          "metadata": {},
          "output_type": "execute_result"
        }
      ],
      "source": [
        "oe_education = OrdinalEncoder(categories=[['Basic', 'Graduation', '2n Cycle', 'Master', 'PhD']])\n",
        "df['Education'] = oe_education.fit_transform(df[['Education']])\n",
        "\n",
        "ohe = OneHotEncoder(sparse_output=False)\n",
        "marital_status = ohe.fit_transform(df[['Marital_Status']])\n",
        "dfMarital_Status = pd.DataFrame(marital_status, columns=ohe.get_feature_names_out(['Marital_Status']))\n",
        "df = pd.concat([df, dfMarital_Status], axis = 1)\n",
        "df.drop(columns=['Marital_Status'], axis = 1, inplace = True)\n",
        "df.reset_index(drop=True, inplace=True)\n",
        "\n",
        "# TODO: should we input the mean in the null values?\n",
        "df['Income'] = df['Income'].fillna(df['Income'].mean())\n",
        "\n",
        "# TODO: analyze outliers and decide which ones to remove\n",
        "for column in []:\n",
        "    Q1 = df[column].quantile(0.25)\n",
        "    Q3 = df[column].quantile(0.75)\n",
        "    IQR = Q3 - Q1\n",
        "    df = df[(df[column] < (Q3 + 1.5 * IQR)) & (df[column] > (Q1 - 1.5 * IQR))]\n",
        "\n",
        "scaler = MinMaxScaler()\n",
        "df[df.columns] = scaler.fit_transform(df[df.columns])\n",
        "\n",
        "df.head()"
      ]
    },
    {
      "cell_type": "markdown",
      "metadata": {
        "id": "gFfMnybHZ0h0"
      },
      "source": [
        "# **Clustering**\n",
        "\n",
        "**Escolha ao menos 2 algoritmos de clustering que pertençam a métodos diferentes (centróides, densidade ou hierárquico).**\n",
        "\n",
        "### **Passos:**\n",
        "\n",
        "1. Para cada algoritmo, execute-o em 6 diferentes cenários, variando os parâmetros.\n",
        "\n",
        "2. Calcule o índice de silhueta `silhouette_score` para cada cenários e compare os resultados."
      ]
    },
    {
      "cell_type": "code",
      "execution_count": 171,
      "metadata": {
        "id": "Po1qVDbkcFTJ"
      },
      "outputs": [],
      "source": [
        "# DBSCAN\n",
        "\n",
        "dbscan_params = [\n",
        "    {'eps': 0.5, 'min_samples': 1},\n",
        "    {'eps': 0.5, 'min_samples': 2},\n",
        "    {'eps': 0.5, 'min_samples': 3},\n",
        "    {'eps': 1, 'min_samples': 1},\n",
        "    {'eps': 1, 'min_samples': 2},\n",
        "    {'eps': 1, 'min_samples': 3},\n",
        "]\n",
        "\n",
        "dbscan_scores = []\n",
        "for param in dbscan_params:\n",
        "    eps, min_samples = param['eps'], param['min_samples']\n",
        "    dbscan = DBSCAN(eps=eps, min_samples=min_samples)\n",
        "    dbscan_labels = dbscan.fit_predict(df)\n",
        "    if len(set(dbscan_labels)) > 1:\n",
        "        dbscan_score = {'eps': eps, 'min_samples': min_samples, 'score': silhouette_score(df, dbscan_labels)}\n",
        "        dbscan_scores.append(dbscan_score)\n",
        "    else:\n",
        "        print(f'The DBSCAN with eps={eps} and min_samples={min_samples} did not generate enough clusters')\n",
        "\n",
        "# Agglomerative Clustering\n",
        "\n",
        "agg_params = [\n",
        "    {'n_clusters': 2, 'linkage': 'ward'},\n",
        "    {'n_clusters': 3, 'linkage': 'ward'},\n",
        "    {'n_clusters': 4, 'linkage': 'ward'},\n",
        "    {'n_clusters': 2, 'linkage': 'complete'},\n",
        "    {'n_clusters': 3, 'linkage': 'complete'},\n",
        "    {'n_clusters': 4, 'linkage': 'complete'},\n",
        "]\n",
        "\n",
        "agg_scores = []\n",
        "for param in agg_params:\n",
        "    n_clusters, linkage = param['n_clusters'], param['linkage']\n",
        "    agg_cluster = AgglomerativeClustering(n_clusters=n_clusters, linkage=linkage)\n",
        "    agg_labels = agg_cluster.fit_predict(df)\n",
        "    if len(set(agg_labels)) > 1:\n",
        "        agg_score = {'n_clusters': n_clusters, 'linkage': linkage, 'score': silhouette_score(df, agg_labels)}\n",
        "        agg_scores.append(agg_score)\n",
        "    else:\n",
        "        print(f'The Agglomerative clustering with n_clusters={n_clusters} and linkage={linkage} did not generate enough clusters')\n"
      ]
    },
    {
      "cell_type": "markdown",
      "metadata": {
        "id": "G-taBaE7dSCw"
      },
      "source": [
        "### **Resultados**\n",
        "\n",
        "1. **Resumo dos Resultados:**\n",
        "   - Para cada algoritmo utilizado, apresente os resultados dos 6 cenários testados e compare as métricas calculadas.\n",
        "\n",
        "2. **Visualização Gráfica:**\n",
        "   - Plote um gráfico comparando o índice de silhueta entre os cenários.\n",
        "\n",
        "\n",
        "\n"
      ]
    },
    {
      "cell_type": "code",
      "execution_count": 172,
      "metadata": {
        "id": "cb4H2p0IRWpr"
      },
      "outputs": [
        {
          "name": "stdout",
          "output_type": "stream",
          "text": [
            "DBSCAN(eps=0.5, min_samples=1): 0.027306888543435433\n",
            "DBSCAN(eps=0.5, min_samples=2): 0.013654928717735399\n",
            "DBSCAN(eps=0.5, min_samples=3): 0.013291780033490483\n",
            "DBSCAN(eps=1, min_samples=1): 0.29222572105714484\n",
            "DBSCAN(eps=1, min_samples=2): 0.35340764182591605\n",
            "DBSCAN(eps=1, min_samples=3): 0.37818970374552574\n",
            "AggglomerativeClustering(nclusters=2, linkage=ward): 0.23230537683982674\n",
            "AggglomerativeClustering(nclusters=3, linkage=ward): 0.31837219697996727\n",
            "AggglomerativeClustering(nclusters=4, linkage=ward): 0.37519245226939407\n",
            "AggglomerativeClustering(nclusters=2, linkage=complete): 0.21368991228507947\n",
            "AggglomerativeClustering(nclusters=3, linkage=complete): 0.30711292185736055\n",
            "AggglomerativeClustering(nclusters=4, linkage=complete): 0.37519245226939407\n"
          ]
        },
        {
          "data": {
            "image/png": "[encoded data removed]",
            "text/plain": [
              "<Figure size 1000x600 with 1 Axes>"
            ]
          },
          "metadata": {},
          "output_type": "display_data"
        }
      ],
      "source": [
        "# DBSCAN\n",
        "for score in dbscan_scores:\n",
        "    eps, min_samples, silhouette_score = score['eps'], score['min_samples'], score['score']\n",
        "    print(f'DBSCAN(eps={eps}, min_samples={min_samples}): {silhouette_score}')\n",
        "\n",
        "# Agglomerative Clustering\n",
        "for score in agg_scores:\n",
        "    n_clusters, linkage, silhouette_score = score['n_clusters'], score['linkage'], score['score']\n",
        "    print(f\"AggglomerativeClustering(nclusters={n_clusters}, linkage={linkage}): {silhouette_score}\")\n",
        "\n"
      ]
    },
    {
      "cell_type": "markdown",
      "metadata": {
        "id": "JqXedIEAfVeJ"
      },
      "source": [
        "## **Encontre o melhor clustering para cada um dos algoritmos selecionados**\n",
        "\n",
        "Depois de executar os algoritmos com diferentes combinações de parâmetros, identifique quais obtiveram os melhores resultados de acordo com índice de silhueta para cada um dos 2 (ou mais) algoritmos selecionados.\n"
      ]
    },
    {
      "cell_type": "code",
      "execution_count": null,
      "metadata": {
        "id": "oO3jWRLARXnp"
      },
      "outputs": [],
      "source": []
    },
    {
      "cell_type": "markdown",
      "metadata": {
        "id": "t3VtT2Arf_ZC"
      },
      "source": [
        "## **Para cada algoritmo, visualize graficamente o modelo que teve o melhor desempenho**\n",
        "\n",
        "Com base nos modelos de melhor desempenho, escolha variáveis e crie gráficos de dispersão que permitam visualizar os clusters gerados.\n",
        "\n",
        "**Dica:**\n",
        "\n",
        "Ao criar scatter plots, teste combinações de 2 variáveis do dataset para facilitar a visualização dos clusters. Para o clustering hierárquico, experimente também plotar um dendrograma.\n",
        "\n",
        "### **Dendrograma:**\n",
        "Use o código abaixo para o dendrograma:\n",
        "```python\n",
        "import scipy.cluster.hierarchy as sch\n",
        "\n",
        "Z = sch.linkage(df[[variavel_1, variavel_2]], method='centroid')\n",
        "\n",
        "# p = altura máxima que será exibida\n",
        "sch.dendrogram(Z, p = ?, truncate_mode = \"level\") # Mude o valor de p para melhorar a vizualização do seu dendrograma\n",
        "\n",
        "```\n",
        "\n",
        "\n",
        "\n",
        "[\n",
        "Documentação Dendrograma](https://docs.scipy.org/doc/scipy/reference/generated/scipy.cluster.hierarchy.dendrogram.html#scipy.cluster.hierarchy.dendrogram)"
      ]
    },
    {
      "cell_type": "code",
      "execution_count": null,
      "metadata": {
        "id": "itZcWpk3fzCp"
      },
      "outputs": [],
      "source": []
    },
    {
      "cell_type": "markdown",
      "metadata": {
        "id": "OpxDMgJu5GAQ"
      },
      "source": [
        "### **Análise dos Clusters**\n",
        "\n",
        "Após identificar o melhor modelo, selecione **3 itens de cada cluster** e explique o que cada agrupamento parece representar com base nas características dos itens.\n",
        "\n",
        "1. **Análise dos Itens:**\n",
        "   - Analise as características principais desses itens (ex.: renda, número de compras, produtos comprados).\n",
        "   - Identifique padrões ou características que diferenciam cada cluster.\n",
        "\n",
        "2. **Interpretação dos Agrupamentos:**\n",
        "   - Explique o que cada cluster parece estar representando.\n",
        "   - Relacione as características predominantes de cada cluster a possíveis perfis de clientes (ex.: clientes com alta renda e foco em produtos premium, ou clientes com baixa frequência de compras).\n"
      ]
    },
    {
      "cell_type": "code",
      "execution_count": null,
      "metadata": {
        "id": "vCIFr68E5lBs"
      },
      "outputs": [],
      "source": []
    },
    {
      "cell_type": "markdown",
      "metadata": {
        "id": "LyEi71gDhHOI"
      },
      "source": [
        "Responda aqui...."
      ]
    }
  ],
  "metadata": {
    "colab": {
      "provenance": []
    },
    "kernelspec": {
      "display_name": "Python 3",
      "name": "python3"
    },
    "language_info": {
      "codemirror_mode": {
        "name": "ipython",
        "version": 3
      },
      "file_extension": ".py",
      "mimetype": "text/x-python",
      "name": "python",
      "nbconvert_exporter": "python",
      "pygments_lexer": "ipython3",
      "version": "3.11.7"
    }
  },
  "nbformat": 4,
  "nbformat_minor": 0
}
