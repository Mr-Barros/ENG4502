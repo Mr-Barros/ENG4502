{
  "cells": [
    {
      "cell_type": "markdown",
      "metadata": {
        "id": "QOcM8rYe5dnp"
      },
      "source": [
        "#Tarefa 5 - Regressão Linear e logística\n",
        "\n",
        "## Nesta tarefa, você deve carregar um dataset sobre as vendas de cadeirinhas infantis, construir modelo de Regressão com os algoritmos vistos em aula e predizer o valor das vendas.\n",
        "\n",
        "Dica: Para toda a tarefa, além da biblioteca pandas e numpy, você pode querer explorar funções da biblioteca sklearn.linear_model (em particular os pacotes LinearRegression e LogisticRegression).\n",
        "Além disso, você vai precisar usar funções de pré-processamento e de pós-procesamento (das bibliotecas sklearn.preprocessing, sklearn.model_selection e sklearn.metrics)\n"
      ]
    },
    {
      "cell_type": "markdown",
      "metadata": {
        "id": "RotuSVCBI2o9"
      },
      "source": [
        "###Importe os pacotes e carregue o arquivo com os dados\n",
        "O dataset a ser utilizado encontra-se no arquivo casseats.csv, disponível no EAD.\n",
        "\n",
        "\n",
        "Este dataset contém dados sobre as vendas de cadeirinhas infantis em 400 lojas diferentes, descritas pelos seguintes atributos/variáveis:\n",
        "* Sales - Vendas unitárias (em milhares) em cada local\n",
        "* CompPrice - Preço cobrado pelo concorrente em cada local\n",
        "* Income - Nível de renda da comunidade (em milhares de dólares)\n",
        "* Advertising - Orçamento de publicidade local para a empresa em cada local (em milhares de dólares)\n",
        "* Population - Tamanho da população na região (em milhares)\n",
        "* Price - Preço que a empresa cobra por assentos de carro em cada local\n",
        "* ShelveLoc - Um fator com níveis Ruim, Bom e Médio que indica a qualidade da localização das estantes para as cadeirinhas em cada local\n",
        "* Age - Idade média da população local\n",
        "* Education - Nível de escolaridade em cada localidade\n",
        "* Urban - Um fator com níveis Não e Sim para indicar se a loja está localizada em área urbana ou rural\n",
        "* US - Um fator com níveis Não e Sim para indicar se a loja é nos EUA ou não\n",
        "* High - Um fator com níveis Não e Sim para indicar se a compra é alta ou não"
      ]
    },
    {
      "cell_type": "code",
      "execution_count": null,
      "metadata": {
        "id": "sHkoFvfS5J_5"
      },
      "outputs": [],
      "source": [
        "import pandas as pd\n",
        "from sklearn.model_selection import train_test_split\n",
        "from sklearn.linear_model import LinearRegression, LogisticRegression\n",
        "from sklearn.preprocessing import MinMaxScaler, OneHotEncoder\n",
        "from sklearn.metrics import mean_squared_error, r2_score, accuracy_score, precision_score, recall_score, roc_auc_score\n",
        "from sklearn.metrics import confusion_matrix, roc_curve, auc\n",
        "import numpy as np"
      ]
    },
    {
      "cell_type": "code",
      "execution_count": null,
      "metadata": {
        "id": "16diksMbI_h8"
      },
      "outputs": [],
      "source": [
        "# Carregar a base de dados\n",
        "df = pd.read_csv('Carseats.csv')\n",
        "\n"
      ]
    },
    {
      "cell_type": "markdown",
      "metadata": {
        "id": "V7kWehh75J_8"
      },
      "source": [
        "### Pré-processe a base de dados\n",
        "\n",
        "Dica: avalie a necessidade de converter os tipos das variáveis, normalizar os dados, ..."
      ]
    },
    {
      "cell_type": "code",
      "execution_count": null,
      "metadata": {
        "id": "M-PY5L7FJtSA"
      },
      "outputs": [],
      "source": []
    },
    {
      "cell_type": "markdown",
      "metadata": {
        "id": "S_4aQAIbJyRE"
      },
      "source": [
        "### Crie os conjuntos de treinamento e de teste\n",
        "\n",
        "Atenção: Selecione aleatoriamente e sem reposição (para que não se repitam) 320 registros para o conjunto de treinamento. As 80 observações restantes serão usadas para o conjunto de teste. Fixe a semente de geração de dados aleatórios em 456."
      ]
    },
    {
      "cell_type": "code",
      "execution_count": null,
      "metadata": {
        "id": "Kvzvib1X5J_-"
      },
      "outputs": [],
      "source": [
        "# Dividir os dados em conjunto de treino e teste\n"
      ]
    },
    {
      "cell_type": "code",
      "execution_count": null,
      "metadata": {
        "id": "_OsDwebA5J__"
      },
      "outputs": [],
      "source": [
        "# visualizar os dados\n"
      ]
    },
    {
      "cell_type": "markdown",
      "metadata": {
        "id": "2HYln2wl5KAA"
      },
      "source": [
        "### Construa um modelo de Regressão Linear Múltipla.\n",
        "\n",
        "Utilizando o modelo, faça a predição do atributo Sales no conjunto teste\n",
        "\n",
        "Atenção: o atributo High deve ser eliminado para este processo"
      ]
    },
    {
      "cell_type": "code",
      "execution_count": null,
      "metadata": {
        "id": "8x51yrfHLEEt"
      },
      "outputs": [],
      "source": []
    },
    {
      "cell_type": "markdown",
      "metadata": {
        "id": "LtpyNQMdLH55"
      },
      "source": [
        "### Pós-processamento: Avalie cada modelo de regressão\n",
        "\n",
        "Calcule as medidas de desempenho vistas em aula (erro quadrático médio, R2)"
      ]
    },
    {
      "cell_type": "code",
      "execution_count": null,
      "metadata": {
        "id": "5nT2Idu35KAB"
      },
      "outputs": [],
      "source": [
        "# Calcular métricas de desempenho para cada modelo\n"
      ]
    },
    {
      "cell_type": "markdown",
      "metadata": {
        "id": "EJt449Vr5KAB"
      },
      "source": [
        "### Agora, construa um modelo de Regressão Logística\n",
        "\n",
        "Faça a predição do atributo High no conjunto teste, e avalie utilizando métricas adequadas\n",
        "\n",
        "Atenção: o atributo Sales deve ser eliminado para este processo"
      ]
    },
    {
      "cell_type": "code",
      "execution_count": null,
      "metadata": {
        "id": "tISQ4F1U5KAB"
      },
      "outputs": [],
      "source": [
        "# Didivir dados de treino e teste\n",
        "\n",
        "# Treinar o modelo de Regressão Logística\n",
        "\n",
        "# Fazer predições com o conjunto de teste\n",
        "\n",
        "# Calcular métricas de desempenho\n"
      ]
    },
    {
      "cell_type": "code",
      "execution_count": null,
      "metadata": {
        "id": "JUGHqXB75KAC"
      },
      "outputs": [],
      "source": []
    }
  ],
  "metadata": {
    "colab": {
      "provenance": []
    },
    "kernelspec": {
      "display_name": "ml",
      "language": "python",
      "name": "python3"
    },
    "language_info": {
      "codemirror_mode": {
        "name": "ipython",
        "version": 3
      },
      "file_extension": ".py",
      "mimetype": "text/x-python",
      "name": "python",
      "nbconvert_exporter": "python",
      "pygments_lexer": "ipython3",
      "version": "3.9.16"
    },
    "orig_nbformat": 4
  },
  "nbformat": 4,
  "nbformat_minor": 0
}
