{
  "cells": [
    {
      "cell_type": "markdown",
      "metadata": {
        "id": "QOcM8rYe5dnp"
      },
      "source": [
        "#Tarefa 5 - Regressão Linear e logística\n",
        "\n",
        "## Nesta tarefa, você deve carregar um dataset sobre as vendas de cadeirinhas infantis, construir modelo de Regressão com os algoritmos vistos em aula e predizer o valor das vendas.\n",
        "\n",
        "Dica: Para toda a tarefa, além da biblioteca pandas e numpy, você pode querer explorar funções da biblioteca sklearn.linear_model (em particular os pacotes LinearRegression e LogisticRegression).\n",
        "Além disso, você vai precisar usar funções de pré-processamento e de pós-procesamento (das bibliotecas sklearn.preprocessing, sklearn.model_selection e sklearn.metrics)\n"
      ]
    },
    {
      "cell_type": "markdown",
      "metadata": {
        "id": "RotuSVCBI2o9"
      },
      "source": [
        "###Importe os pacotes e carregue o arquivo com os dados\n",
        "O dataset a ser utilizado encontra-se no arquivo casseats.csv, disponível no EAD.\n",
        "\n",
        "\n",
        "Este dataset contém dados sobre as vendas de cadeirinhas infantis em 400 lojas diferentes, descritas pelos seguintes atributos/variáveis:\n",
        "* Sales - Vendas unitárias (em milhares) em cada local\n",
        "* CompPrice - Preço cobrado pelo concorrente em cada local\n",
        "* Income - Nível de renda da comunidade (em milhares de dólares)\n",
        "* Advertising - Orçamento de publicidade local para a empresa em cada local (em milhares de dólares)\n",
        "* Population - Tamanho da população na região (em milhares)\n",
        "* Price - Preço que a empresa cobra por assentos de carro em cada local\n",
        "* ShelveLoc - Um fator com níveis Ruim, Bom e Médio que indica a qualidade da localização das estantes para as cadeirinhas em cada local\n",
        "* Age - Idade média da população local\n",
        "* Education - Nível de escolaridade em cada localidade\n",
        "* Urban - Um fator com níveis Não e Sim para indicar se a loja está localizada em área urbana ou rural\n",
        "* US - Um fator com níveis Não e Sim para indicar se a loja é nos EUA ou não\n",
        "* High - Um fator com níveis Não e Sim para indicar se a compra é alta ou não"
      ]
    },
    {
      "cell_type": "code",
      "execution_count": 70,
      "metadata": {
        "id": "sHkoFvfS5J_5"
      },
      "outputs": [],
      "source": [
        "import pandas as pd\n",
        "from sklearn.model_selection import train_test_split\n",
        "from sklearn.linear_model import LinearRegression, LogisticRegression\n",
        "from sklearn.preprocessing import MinMaxScaler, OneHotEncoder, LabelBinarizer, OrdinalEncoder\n",
        "from sklearn.metrics import mean_squared_error, r2_score, accuracy_score, precision_score, recall_score, roc_auc_score\n",
        "from sklearn.metrics import confusion_matrix, roc_curve, auc\n",
        "import numpy as np"
      ]
    },
    {
      "cell_type": "code",
      "execution_count": 71,
      "metadata": {
        "id": "16diksMbI_h8"
      },
      "outputs": [
        {
          "data": {
            "text/html": [
              "<div>\n",
              "<style scoped>\n",
              "    .dataframe tbody tr th:only-of-type {\n",
              "        vertical-align: middle;\n",
              "    }\n",
              "\n",
              "    .dataframe tbody tr th {\n",
              "        vertical-align: top;\n",
              "    }\n",
              "\n",
              "    .dataframe thead th {\n",
              "        text-align: right;\n",
              "    }\n",
              "</style>\n",
              "<table border=\"1\" class=\"dataframe\">\n",
              "  <thead>\n",
              "    <tr style=\"text-align: right;\">\n",
              "      <th></th>\n",
              "      <th>Sales</th>\n",
              "      <th>CompPrice</th>\n",
              "      <th>Income</th>\n",
              "      <th>Advertising</th>\n",
              "      <th>Population</th>\n",
              "      <th>Price</th>\n",
              "      <th>ShelveLoc</th>\n",
              "      <th>Age</th>\n",
              "      <th>Education</th>\n",
              "      <th>Urban</th>\n",
              "      <th>US</th>\n",
              "      <th>High</th>\n",
              "    </tr>\n",
              "  </thead>\n",
              "  <tbody>\n",
              "    <tr>\n",
              "      <th>1</th>\n",
              "      <td>9,5</td>\n",
              "      <td>138</td>\n",
              "      <td>73</td>\n",
              "      <td>11</td>\n",
              "      <td>276</td>\n",
              "      <td>120</td>\n",
              "      <td>Bad</td>\n",
              "      <td>42</td>\n",
              "      <td>17</td>\n",
              "      <td>Yes</td>\n",
              "      <td>Yes</td>\n",
              "      <td>Yes</td>\n",
              "    </tr>\n",
              "    <tr>\n",
              "      <th>2</th>\n",
              "      <td>11,22</td>\n",
              "      <td>111</td>\n",
              "      <td>48</td>\n",
              "      <td>16</td>\n",
              "      <td>260</td>\n",
              "      <td>83</td>\n",
              "      <td>Good</td>\n",
              "      <td>65</td>\n",
              "      <td>10</td>\n",
              "      <td>Yes</td>\n",
              "      <td>Yes</td>\n",
              "      <td>Yes</td>\n",
              "    </tr>\n",
              "    <tr>\n",
              "      <th>3</th>\n",
              "      <td>10,06</td>\n",
              "      <td>113</td>\n",
              "      <td>35</td>\n",
              "      <td>10</td>\n",
              "      <td>269</td>\n",
              "      <td>80</td>\n",
              "      <td>Medium</td>\n",
              "      <td>59</td>\n",
              "      <td>12</td>\n",
              "      <td>Yes</td>\n",
              "      <td>Yes</td>\n",
              "      <td>Yes</td>\n",
              "    </tr>\n",
              "    <tr>\n",
              "      <th>4</th>\n",
              "      <td>7,4</td>\n",
              "      <td>117</td>\n",
              "      <td>100</td>\n",
              "      <td>4</td>\n",
              "      <td>466</td>\n",
              "      <td>97</td>\n",
              "      <td>Medium</td>\n",
              "      <td>55</td>\n",
              "      <td>14</td>\n",
              "      <td>Yes</td>\n",
              "      <td>Yes</td>\n",
              "      <td>No</td>\n",
              "    </tr>\n",
              "    <tr>\n",
              "      <th>5</th>\n",
              "      <td>4,15</td>\n",
              "      <td>141</td>\n",
              "      <td>64</td>\n",
              "      <td>3</td>\n",
              "      <td>340</td>\n",
              "      <td>128</td>\n",
              "      <td>Bad</td>\n",
              "      <td>38</td>\n",
              "      <td>13</td>\n",
              "      <td>Yes</td>\n",
              "      <td>No</td>\n",
              "      <td>No</td>\n",
              "    </tr>\n",
              "  </tbody>\n",
              "</table>\n",
              "</div>"
            ],
            "text/plain": [
              "   Sales  CompPrice  Income  Advertising  Population  Price ShelveLoc  Age  \\\n",
              "1    9,5        138      73           11         276    120       Bad   42   \n",
              "2  11,22        111      48           16         260     83      Good   65   \n",
              "3  10,06        113      35           10         269     80    Medium   59   \n",
              "4    7,4        117     100            4         466     97    Medium   55   \n",
              "5   4,15        141      64            3         340    128       Bad   38   \n",
              "\n",
              "   Education Urban   US   High  \n",
              "1         17   Yes  Yes   Yes   \n",
              "2         10   Yes  Yes   Yes   \n",
              "3         12   Yes  Yes   Yes   \n",
              "4         14   Yes  Yes     No  \n",
              "5         13   Yes   No     No  "
            ]
          },
          "execution_count": 71,
          "metadata": {},
          "output_type": "execute_result"
        }
      ],
      "source": [
        "# Carregar a base de dados\n",
        "df = pd.read_csv('Carseats.csv', sep=';', index_col=0)\n",
        "\n",
        "df.head()"
      ]
    },
    {
      "cell_type": "code",
      "execution_count": 72,
      "metadata": {},
      "outputs": [
        {
          "data": {
            "text/html": [
              "<div>\n",
              "<style scoped>\n",
              "    .dataframe tbody tr th:only-of-type {\n",
              "        vertical-align: middle;\n",
              "    }\n",
              "\n",
              "    .dataframe tbody tr th {\n",
              "        vertical-align: top;\n",
              "    }\n",
              "\n",
              "    .dataframe thead th {\n",
              "        text-align: right;\n",
              "    }\n",
              "</style>\n",
              "<table border=\"1\" class=\"dataframe\">\n",
              "  <thead>\n",
              "    <tr style=\"text-align: right;\">\n",
              "      <th></th>\n",
              "      <th>CompPrice</th>\n",
              "      <th>Income</th>\n",
              "      <th>Advertising</th>\n",
              "      <th>Population</th>\n",
              "      <th>Price</th>\n",
              "      <th>Age</th>\n",
              "      <th>Education</th>\n",
              "    </tr>\n",
              "  </thead>\n",
              "  <tbody>\n",
              "    <tr>\n",
              "      <th>count</th>\n",
              "      <td>400.000000</td>\n",
              "      <td>400.000000</td>\n",
              "      <td>400.000000</td>\n",
              "      <td>400.000000</td>\n",
              "      <td>400.000000</td>\n",
              "      <td>400.000000</td>\n",
              "      <td>400.000000</td>\n",
              "    </tr>\n",
              "    <tr>\n",
              "      <th>mean</th>\n",
              "      <td>124.975000</td>\n",
              "      <td>68.657500</td>\n",
              "      <td>6.635000</td>\n",
              "      <td>264.840000</td>\n",
              "      <td>115.795000</td>\n",
              "      <td>53.322500</td>\n",
              "      <td>13.900000</td>\n",
              "    </tr>\n",
              "    <tr>\n",
              "      <th>std</th>\n",
              "      <td>15.334512</td>\n",
              "      <td>27.986037</td>\n",
              "      <td>6.650364</td>\n",
              "      <td>147.376436</td>\n",
              "      <td>23.676664</td>\n",
              "      <td>16.200297</td>\n",
              "      <td>2.620528</td>\n",
              "    </tr>\n",
              "    <tr>\n",
              "      <th>min</th>\n",
              "      <td>77.000000</td>\n",
              "      <td>21.000000</td>\n",
              "      <td>0.000000</td>\n",
              "      <td>10.000000</td>\n",
              "      <td>24.000000</td>\n",
              "      <td>25.000000</td>\n",
              "      <td>10.000000</td>\n",
              "    </tr>\n",
              "    <tr>\n",
              "      <th>25%</th>\n",
              "      <td>115.000000</td>\n",
              "      <td>42.750000</td>\n",
              "      <td>0.000000</td>\n",
              "      <td>139.000000</td>\n",
              "      <td>100.000000</td>\n",
              "      <td>39.750000</td>\n",
              "      <td>12.000000</td>\n",
              "    </tr>\n",
              "    <tr>\n",
              "      <th>50%</th>\n",
              "      <td>125.000000</td>\n",
              "      <td>69.000000</td>\n",
              "      <td>5.000000</td>\n",
              "      <td>272.000000</td>\n",
              "      <td>117.000000</td>\n",
              "      <td>54.500000</td>\n",
              "      <td>14.000000</td>\n",
              "    </tr>\n",
              "    <tr>\n",
              "      <th>75%</th>\n",
              "      <td>135.000000</td>\n",
              "      <td>91.000000</td>\n",
              "      <td>12.000000</td>\n",
              "      <td>398.500000</td>\n",
              "      <td>131.000000</td>\n",
              "      <td>66.000000</td>\n",
              "      <td>16.000000</td>\n",
              "    </tr>\n",
              "    <tr>\n",
              "      <th>max</th>\n",
              "      <td>175.000000</td>\n",
              "      <td>120.000000</td>\n",
              "      <td>29.000000</td>\n",
              "      <td>509.000000</td>\n",
              "      <td>191.000000</td>\n",
              "      <td>80.000000</td>\n",
              "      <td>18.000000</td>\n",
              "    </tr>\n",
              "  </tbody>\n",
              "</table>\n",
              "</div>"
            ],
            "text/plain": [
              "        CompPrice      Income  Advertising  Population       Price  \\\n",
              "count  400.000000  400.000000   400.000000  400.000000  400.000000   \n",
              "mean   124.975000   68.657500     6.635000  264.840000  115.795000   \n",
              "std     15.334512   27.986037     6.650364  147.376436   23.676664   \n",
              "min     77.000000   21.000000     0.000000   10.000000   24.000000   \n",
              "25%    115.000000   42.750000     0.000000  139.000000  100.000000   \n",
              "50%    125.000000   69.000000     5.000000  272.000000  117.000000   \n",
              "75%    135.000000   91.000000    12.000000  398.500000  131.000000   \n",
              "max    175.000000  120.000000    29.000000  509.000000  191.000000   \n",
              "\n",
              "              Age   Education  \n",
              "count  400.000000  400.000000  \n",
              "mean    53.322500   13.900000  \n",
              "std     16.200297    2.620528  \n",
              "min     25.000000   10.000000  \n",
              "25%     39.750000   12.000000  \n",
              "50%     54.500000   14.000000  \n",
              "75%     66.000000   16.000000  \n",
              "max     80.000000   18.000000  "
            ]
          },
          "execution_count": 72,
          "metadata": {},
          "output_type": "execute_result"
        }
      ],
      "source": [
        "df.describe()"
      ]
    },
    {
      "cell_type": "code",
      "execution_count": 73,
      "metadata": {},
      "outputs": [
        {
          "name": "stdout",
          "output_type": "stream",
          "text": [
            "['Yes' 'No']\n",
            "['Yes' 'No']\n",
            "[' Yes ' ' No']\n",
            "['Bad' 'Good' 'Medium']\n"
          ]
        }
      ],
      "source": [
        "print(df['Urban'].unique())\n",
        "print(df['US'].unique())\n",
        "print(df['High'].unique())\n",
        "print(df['ShelveLoc'].unique())"
      ]
    },
    {
      "cell_type": "markdown",
      "metadata": {
        "id": "V7kWehh75J_8"
      },
      "source": [
        "### Pré-processe a base de dados\n",
        "\n",
        "Dica: avalie a necessidade de converter os tipos das variáveis, normalizar os dados, ..."
      ]
    },
    {
      "cell_type": "code",
      "execution_count": 74,
      "metadata": {
        "id": "M-PY5L7FJtSA"
      },
      "outputs": [],
      "source": [
        "le_urban = LabelBinarizer()\n"
      ]
    },
    {
      "cell_type": "markdown",
      "metadata": {
        "id": "S_4aQAIbJyRE"
      },
      "source": [
        "### Crie os conjuntos de treinamento e de teste\n",
        "\n",
        "Atenção: Selecione aleatoriamente e sem reposição (para que não se repitam) 320 registros para o conjunto de treinamento. As 80 observações restantes serão usadas para o conjunto de teste. Fixe a semente de geração de dados aleatórios em 456."
      ]
    },
    {
      "cell_type": "code",
      "execution_count": 75,
      "metadata": {
        "id": "Kvzvib1X5J_-"
      },
      "outputs": [],
      "source": [
        "# Dividir os dados em conjunto de treino e teste\n"
      ]
    },
    {
      "cell_type": "code",
      "execution_count": 76,
      "metadata": {
        "id": "_OsDwebA5J__"
      },
      "outputs": [],
      "source": [
        "# visualizar os dados\n"
      ]
    },
    {
      "cell_type": "markdown",
      "metadata": {
        "id": "2HYln2wl5KAA"
      },
      "source": [
        "### Construa um modelo de Regressão Linear Múltipla.\n",
        "\n",
        "Utilizando o modelo, faça a predição do atributo Sales no conjunto teste\n",
        "\n",
        "Atenção: o atributo High deve ser eliminado para este processo"
      ]
    },
    {
      "cell_type": "code",
      "execution_count": null,
      "metadata": {
        "id": "8x51yrfHLEEt"
      },
      "outputs": [],
      "source": []
    },
    {
      "cell_type": "markdown",
      "metadata": {
        "id": "LtpyNQMdLH55"
      },
      "source": [
        "### Pós-processamento: Avalie cada modelo de regressão\n",
        "\n",
        "Calcule as medidas de desempenho vistas em aula (erro quadrático médio, R2)"
      ]
    },
    {
      "cell_type": "code",
      "execution_count": 77,
      "metadata": {
        "id": "5nT2Idu35KAB"
      },
      "outputs": [],
      "source": [
        "# Calcular métricas de desempenho para cada modelo\n"
      ]
    },
    {
      "cell_type": "markdown",
      "metadata": {
        "id": "EJt449Vr5KAB"
      },
      "source": [
        "### Agora, construa um modelo de Regressão Logística\n",
        "\n",
        "Faça a predição do atributo High no conjunto teste, e avalie utilizando métricas adequadas\n",
        "\n",
        "Atenção: o atributo Sales deve ser eliminado para este processo"
      ]
    },
    {
      "cell_type": "code",
      "execution_count": 78,
      "metadata": {
        "id": "tISQ4F1U5KAB"
      },
      "outputs": [],
      "source": [
        "# Didivir dados de treino e teste\n",
        "\n",
        "# Treinar o modelo de Regressão Logística\n",
        "\n",
        "# Fazer predições com o conjunto de teste\n",
        "\n",
        "# Calcular métricas de desempenho\n"
      ]
    },
    {
      "cell_type": "code",
      "execution_count": null,
      "metadata": {
        "id": "JUGHqXB75KAC"
      },
      "outputs": [],
      "source": []
    }
  ],
  "metadata": {
    "colab": {
      "provenance": []
    },
    "kernelspec": {
      "display_name": "venv",
      "language": "python",
      "name": "python3"
    },
    "language_info": {
      "codemirror_mode": {
        "name": "ipython",
        "version": 3
      },
      "file_extension": ".py",
      "mimetype": "text/x-python",
      "name": "python",
      "nbconvert_exporter": "python",
      "pygments_lexer": "ipython3",
      "version": "3.11.7"
    },
    "orig_nbformat": 4
  },
  "nbformat": 4,
  "nbformat_minor": 0
}
