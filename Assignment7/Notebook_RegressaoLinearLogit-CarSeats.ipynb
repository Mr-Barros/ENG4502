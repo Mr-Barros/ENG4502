{
 "cells": [
  {
   "cell_type": "markdown",
   "metadata": {
    "id": "QOcM8rYe5dnp"
   },
   "source": [
    "#Tarefa 5 - Regressão Linear e logística\n",
    "\n",
    "## Nesta tarefa, você deve carregar um dataset sobre as vendas de cadeirinhas infantis, construir modelo de Regressão com os algoritmos vistos em aula e predizer o valor das vendas.\n",
    "\n",
    "Dica: Para toda a tarefa, além da biblioteca pandas e numpy, você pode querer explorar funções da biblioteca sklearn.linear_model (em particular os pacotes LinearRegression e LogisticRegression).\n",
    "Além disso, você vai precisar usar funções de pré-processamento e de pós-procesamento (das bibliotecas sklearn.preprocessing, sklearn.model_selection e sklearn.metrics)\n"
   ]
  },
  {
   "cell_type": "markdown",
   "metadata": {
    "id": "RotuSVCBI2o9"
   },
   "source": [
    "###Importe os pacotes e carregue o arquivo com os dados\n",
    "O dataset a ser utilizado encontra-se no arquivo casseats.csv, disponível no EAD.\n",
    "\n",
    "\n",
    "Este dataset contém dados sobre as vendas de cadeirinhas infantis em 400 lojas diferentes, descritas pelos seguintes atributos/variáveis:\n",
    "* Sales - Vendas unitárias (em milhares) em cada local\n",
    "* CompPrice - Preço cobrado pelo concorrente em cada local\n",
    "* Income - Nível de renda da comunidade (em milhares de dólares)\n",
    "* Advertising - Orçamento de publicidade local para a empresa em cada local (em milhares de dólares)\n",
    "* Population - Tamanho da população na região (em milhares)\n",
    "* Price - Preço que a empresa cobra por assentos de carro em cada local\n",
    "* ShelveLoc - Um fator com níveis Ruim, Bom e Médio que indica a qualidade da localização das estantes para as cadeirinhas em cada local\n",
    "* Age - Idade média da população local\n",
    "* Education - Nível de escolaridade em cada localidade\n",
    "* Urban - Um fator com níveis Não e Sim para indicar se a loja está localizada em área urbana ou rural\n",
    "* US - Um fator com níveis Não e Sim para indicar se a loja é nos EUA ou não\n",
    "* High - Um fator com níveis Não e Sim para indicar se a compra é alta ou não"
   ]
  },
  {
   "cell_type": "code",
   "execution_count": null,
   "metadata": {},
   "outputs": [],
   "source": [
    "import pandas as pd\n",
    "from sklearn.model_selection import train_test_split\n",
    "from sklearn.linear_model import LinearRegression, LogisticRegression\n",
    "from sklearn.preprocessing import MinMaxScaler, LabelEncoder, OrdinalEncoder\n",
    "from sklearn.metrics import mean_squared_error, r2_score, accuracy_score, precision_score, recall_score, f1_score, roc_auc_score\n",
    "from sklearn.metrics import confusion_matrix, roc_curve, auc\n",
    "import numpy as np\n",
    "import pandas as pd\n",
    "import matplotlib.pyplot as plt\n",
    "import seaborn as sns"
   ]
  },
  {
   "cell_type": "code",
   "execution_count": null,
   "metadata": {},
   "outputs": [],
   "source": [
    "# Carregar a base de dados\n",
    "df = pd.read_csv('Carseats.csv', sep=';', index_col=0)\n",
    "\n",
    "df.head()"
   ]
  },
  {
   "cell_type": "code",
   "execution_count": null,
   "metadata": {},
   "outputs": [],
   "source": [
    "df.describe()"
   ]
  },
  {
   "cell_type": "code",
   "execution_count": null,
   "metadata": {},
   "outputs": [],
   "source": [
    "print(df['Urban'].unique())\n",
    "print(df['US'].unique())\n",
    "print(df['High'].unique())\n",
    "print(df['ShelveLoc'].unique())"
   ]
  },
  {
   "cell_type": "markdown",
   "metadata": {
    "id": "V7kWehh75J_8"
   },
   "source": [
    "### Pré-processe a base de dados\n",
    "\n",
    "Dica: avalie a necessidade de converter os tipos das variáveis, normalizar os dados, ..."
   ]
  },
  {
   "cell_type": "code",
   "execution_count": null,
   "metadata": {},
   "outputs": [],
   "source": [
    "le_urban = LabelEncoder()\n",
    "le_us = LabelEncoder()\n",
    "le_high = LabelEncoder()\n",
    "oe_shelve_loc = OrdinalEncoder(categories=[['Bad', 'Medium', 'Good']])\n",
    "scaler = MinMaxScaler()\n",
    "\n",
    "def preprocessing(df: pd.DataFrame):\n",
    "    if not hasattr(le_urban, 'classes_'):\n",
    "        df['Urban'] = le_urban.fit_transform(df['Urban'])\n",
    "    else:\n",
    "        df['Urban'] = le_urban.transform(df['Urban'])\n",
    "        \n",
    "    if not hasattr(le_us, 'classes_'):\n",
    "        df['US'] = le_us.fit_transform(df['US'])\n",
    "    else:\n",
    "        df['US'] = le_us.transform(df['US'])\n",
    "        \n",
    "    if not hasattr(le_high, 'classes_'):\n",
    "        df['High'] = le_high.fit_transform(df['High'])\n",
    "    else:\n",
    "        df['High'] = le_high.transform(df['High'])\n",
    "    \n",
    "    if not hasattr(oe_shelve_loc, 'categories_'):\n",
    "        df['ShelveLoc'] = oe_shelve_loc.fit_transform(df[['ShelveLoc']])\n",
    "    else:\n",
    "        df['ShelveLoc'] = oe_shelve_loc.transform(df[['ShelveLoc']])\n",
    "    \n",
    "    df['Sales'] = df['Sales'].apply(lambda x: x.replace(',', '.'))\n",
    "    \n",
    "    if not hasattr(scaler, 'mean_'):\n",
    "        df[df.columns] = scaler.fit_transform(df[df.columns])\n",
    "    else:\n",
    "        df[df.columns] = scaler.transform(df[df.columns])\n",
    "    return df\n",
    "\n",
    "df = preprocessing(df)\n",
    "\n",
    "df.head()"
   ]
  },
  {
   "cell_type": "markdown",
   "metadata": {
    "id": "S_4aQAIbJyRE"
   },
   "source": [
    "### Crie os conjuntos de treinamento e de teste\n",
    "\n",
    "Atenção: Selecione aleatoriamente e sem reposição (para que não se repitam) 320 registros para o conjunto de treinamento. As 80 observações restantes serão usadas para o conjunto de teste. Fixe a semente de geração de dados aleatórios em 456."
   ]
  },
  {
   "cell_type": "code",
   "execution_count": null,
   "metadata": {},
   "outputs": [],
   "source": [
    "# Dividir os dados em conjunto de treino e teste\n",
    "df_linear = df.drop('High', axis=1)\n",
    "\n",
    "X = df_linear.drop('Sales', axis=1)\n",
    "y = df_linear['Sales']\n",
    "\n",
    "np.random.seed(456)\n",
    "X_train, X_test, y_train, y_test = train_test_split(X, y, train_size=0.80)\n"
   ]
  },
  {
   "cell_type": "code",
   "execution_count": null,
   "metadata": {},
   "outputs": [],
   "source": [
    "# visualizar os dados\n",
    "\n",
    "plt.figure(figsize=(8, 6))\n",
    "sns.histplot(df['Sales'], kde=True, bins=20, color='blue')\n",
    "plt.title('Distribuição das Vendas (Sales)', fontsize=16)\n",
    "plt.xlabel('Vendas (em milhares)', fontsize=14)\n",
    "plt.ylabel('Frequência', fontsize=14)\n",
    "plt.show()"
   ]
  },
  {
   "cell_type": "code",
   "execution_count": null,
   "metadata": {},
   "outputs": [],
   "source": [
    "plt.figure(figsize=(8, 6))\n",
    "sns.scatterplot(x='Price', y='Sales', data=df, color='green')\n",
    "plt.title('Relação entre Preço da Empresa e Vendas', fontsize=16)\n",
    "plt.xlabel('Preço da Empresa (em milhares)', fontsize=14)\n",
    "plt.ylabel('Vendas (em milhares)', fontsize=14)\n",
    "plt.show()"
   ]
  },
  {
   "cell_type": "code",
   "execution_count": null,
   "metadata": {},
   "outputs": [],
   "source": [
    "plt.figure(figsize=(8, 6))\n",
    "sns.boxplot(x='ShelveLoc', y='Sales', data=df, hue='ShelveLoc', palette='Set2')\n",
    "plt.title('Vendas por Qualidade da Localização das Estantes', fontsize=16)\n",
    "plt.xlabel('Qualidade da Estante', fontsize=14)\n",
    "plt.ylabel('Vendas (em milhares)', fontsize=14)\n",
    "plt.show()"
   ]
  },
  {
   "cell_type": "code",
   "execution_count": null,
   "metadata": {},
   "outputs": [],
   "source": [
    "plt.figure(figsize=(8, 6))\n",
    "sns.scatterplot(x='Income', y='Sales', data=df, hue='Urban', palette='coolwarm')\n",
    "plt.title('Relação entre Renda da Comunidade e Vendas', fontsize=16)\n",
    "plt.xlabel('Renda', fontsize=14)\n",
    "plt.ylabel('Vendas', fontsize=14)\n",
    "plt.legend(title='Área Urbana')\n",
    "plt.show()"
   ]
  },
  {
   "cell_type": "code",
   "execution_count": null,
   "metadata": {},
   "outputs": [],
   "source": [
    "plt.figure(figsize=(10, 8))\n",
    "corr_matrix = df.corr()\n",
    "sns.heatmap(corr_matrix, annot=True, cmap='coolwarm', linewidths=0.5)\n",
    "plt.title('Matriz de Correlação entre Variáveis Numéricas', fontsize=16)\n",
    "plt.show()"
   ]
  },
  {
   "cell_type": "code",
   "execution_count": null,
   "metadata": {},
   "outputs": [],
   "source": [
    "plt.figure(figsize=(8, 6))\n",
    "sns.boxplot(x='Urban', y='Sales', data=df, hue='Urban', palette='pastel')\n",
    "plt.title('Vendas por Localização Urbana ou Rural', fontsize=16)\n",
    "plt.xlabel('Localização Urbana', fontsize=14)\n",
    "plt.ylabel('Vendas', fontsize=14)\n",
    "plt.show()"
   ]
  },
  {
   "cell_type": "code",
   "execution_count": null,
   "metadata": {},
   "outputs": [],
   "source": [
    "plt.figure(figsize=(8, 6))\n",
    "sns.barplot(x='US', y='Sales', data=df, hue='US', palette='muted')\n",
    "plt.title('Vendas entre Lojas nos EUA e Fora', fontsize=16)\n",
    "plt.xlabel('Loja nos EUA', fontsize=14)\n",
    "plt.ylabel('Vendas', fontsize=14)\n",
    "plt.show()"
   ]
  },
  {
   "cell_type": "markdown",
   "metadata": {
    "id": "2HYln2wl5KAA"
   },
   "source": [
    "### Construa um modelo de Regressão Linear Múltipla.\n",
    "\n",
    "Utilizando o modelo, faça a predição do atributo Sales no conjunto teste\n",
    "\n",
    "Atenção: o atributo High deve ser eliminado para este processo"
   ]
  },
  {
   "cell_type": "code",
   "execution_count": null,
   "metadata": {},
   "outputs": [],
   "source": [
    "regressao_linear = LinearRegression()\n",
    "\n",
    "regressao_linear.fit(X_train, y_train)\n",
    "y_pred = regressao_linear.predict(X_test)"
   ]
  },
  {
   "cell_type": "markdown",
   "metadata": {
    "id": "LtpyNQMdLH55"
   },
   "source": [
    "### Pós-processamento: Avalie cada modelo de regressão\n",
    "\n",
    "Calcule as medidas de desempenho vistas em aula (erro quadrático médio, R2)"
   ]
  },
  {
   "cell_type": "code",
   "execution_count": null,
   "metadata": {},
   "outputs": [],
   "source": [
    "mse = mean_squared_error(y_test, y_pred)\n",
    "r2 = r2_score(y_test, y_pred)\n",
    "\n",
    "print(\"Performance on the Test Set:\")\n",
    "print(f\"MSE: {mse:.4%}\")\n",
    "print(f\"R2 Score: {r2:.4%}\")"
   ]
  },
  {
   "cell_type": "markdown",
   "metadata": {
    "id": "EJt449Vr5KAB"
   },
   "source": [
    "### Agora, construa um modelo de Regressão Logística\n",
    "\n",
    "Faça a predição do atributo High no conjunto teste, e avalie utilizando métricas adequadas\n",
    "\n",
    "Atenção: o atributo Sales deve ser eliminado para este processo"
   ]
  },
  {
   "cell_type": "code",
   "execution_count": null,
   "metadata": {},
   "outputs": [],
   "source": [
    "# Didivir dados de treino e teste\n",
    "\n",
    "df_linear = df.drop('Sales', axis=1)\n",
    "\n",
    "X = df_linear.drop('High', axis=1)\n",
    "y = df_linear['High']\n",
    "\n",
    "np.random.seed(456)\n",
    "X_train, X_test, y_train, y_test = train_test_split(X, y, train_size=0.80)\n",
    "\n",
    "\n",
    "# Treinar o modelo de Regressão Logística\n",
    "\n",
    "regressao_logistica = LogisticRegression()\n",
    "\n",
    "regressao_logistica.fit(X_train, y_train)\n",
    "\n",
    "# Fazer predições com o conjunto de teste\n",
    "\n",
    "y_pred = regressao_logistica.predict(X_test)\n",
    "\n",
    "y_prob = regressao_logistica.predict_proba(X_test)[:, 1]\n",
    "\n",
    "# Calcular métricas de desempenho\n",
    "\n",
    "accuracy = accuracy_score(y_test, y_pred)\n",
    "precision = precision_score(y_test, y_pred)\n",
    "recall = recall_score(y_test, y_pred)\n",
    "f1 = f1_score(y_test, y_pred)\n",
    "roc_auc = roc_auc_score(y_test, y_prob)\n",
    "\n",
    "print(\"Performance on the Test Set:\")\n",
    "print(f\"Test Accuracy: {accuracy:.4%}\")\n",
    "print(f\"Test Precision: {precision:.4%}\")\n",
    "print(f\"Test Recall: {recall:.4%}\")\n",
    "print(f\"Test F1 Score: {f1:.4%}\")\n",
    "print(f\"Test ROC AUC Score: {roc_auc:.4%}\")"
   ]
  },
  {
   "cell_type": "code",
   "execution_count": null,
   "metadata": {},
   "outputs": [],
   "source": []
  }
 ],
 "metadata": {
  "language_info": {
   "name": "python"
  }
 },
 "nbformat": 4,
 "nbformat_minor": 0
}
