{
  "cells": [
    {
      "cell_type": "markdown",
      "metadata": {
        "id": "_55Dkof4qEBc"
      },
      "source": [
        "# **Tarefa 3 - Árvore de decisão**\n",
        "\n",
        "####**Dicas:**\n",
        "\n",
        "- Tutorial para iniciantes em Python: https://www.datacamp.com/cheat-sheet/getting-started-with-python-cheat-sheet\n",
        "\n",
        "- Documentação do pandas: https://colab.research.google.com/drive/1a4sbKG7jOJGn4oeonQPA8XjJm7OYgcdX\n",
        "\n",
        "- Documentação do scikit-learn: https://scikit-learn.org/stable/\n",
        "\n",
        "- Documentação do matplotlib: https://matplotlib.org/stable/index.html\n",
        "\n",
        "- Documentação do seaborn: https://seaborn.pydata.org/tutorial.html\n",
        "\n",
        "---\n",
        "## **Dataset:**\n",
        "\n",
        "Nesse dataset os dados estão relacionados com campanhas de marketing direto (telefonemas) de uma instituição bancária portuguesa. O objetivo da classificação é prever se o cliente irá subscrever um depósito a prazo (**feature y**).\n",
        "\n",
        "\n",
        "---\n",
        "\n",
        "\n",
        "**Colunas:**\n",
        "\n",
        "1 - **age**\n",
        "\n",
        "2 - **education**\n",
        "\n",
        "3 - **default**: tem crédito em atraso?\n",
        "\n",
        "4 - **balance**: saldo médio anual, em euros\n",
        "\n",
        "5 - **housing**: tem empréstimo para habitação?\n",
        "\n",
        "6 - **loan**: tem empréstimo pessoal?\n",
        "\n",
        "7 - **contact**: tipo de comunicação de contato\n",
        "\n",
        "8 - **day**: último dia de contato do mês\n",
        "\n",
        "9 - **month**: último mês de contato do ano\n",
        "\n",
        "10 - **campaign**: número de contatos realizados durante esta campanha e para este cliente\n",
        "\n",
        "11 - **previous**: número de contatos realizados antes desta campanha e para este cliente\n",
        "\n",
        "12 - **poutcome**: resultado da campanha de marketing anterior\n",
        "\n",
        "13 - **y** - o cliente subscreveu um depósito a prazo?"
      ]
    },
    {
      "cell_type": "markdown",
      "metadata": {
        "id": "R5SImmMsxFN4"
      },
      "source": [
        "## **Importe os pacotes**"
      ]
    },
    {
      "cell_type": "code",
      "execution_count": null,
      "metadata": {
        "id": "wbUpEefdqC7D"
      },
      "outputs": [],
      "source": []
    },
    {
      "cell_type": "markdown",
      "metadata": {
        "id": "0M5Q1zWOxNYI"
      },
      "source": [
        "## **Crie os datasets**\n",
        "### **Crie um DataFrame a partir do arquivo de dados disponibilizados no EaD**\n",
        "\n",
        "**Dicas:**\n",
        "\n",
        "* Certifique-se que os arquivos a serem lidos estão carregados na sua sessão do Colab, ou em um drive previamente montado, e ajuste o comando para incluir todo o caminho até cada um dos arquivos a serem lidos."
      ]
    },
    {
      "cell_type": "code",
      "execution_count": null,
      "metadata": {
        "id": "a5xg9e7fsnGi"
      },
      "outputs": [],
      "source": []
    },
    {
      "cell_type": "markdown",
      "metadata": {
        "id": "Y4_QCv_y0PZ_"
      },
      "source": [
        "# **Pré-processamento**\n",
        "\n",
        "Utilize o conhecimento adquirido nos exercícios anteriores para realizar o pré-processamento desta base de dados, incluindo normalização, tratamento de features categóricas e manipulação de valores nulos."
      ]
    },
    {
      "cell_type": "code",
      "execution_count": null,
      "metadata": {
        "id": "AD4rygHNjTJG"
      },
      "outputs": [],
      "source": []
    },
    {
      "cell_type": "markdown",
      "metadata": {
        "id": "niK2Ow3m0liO"
      },
      "source": [
        "# **Criação de Conjuntos de Treinamento, Teste e Validação**\n",
        "\n",
        "Divida os dados em conjuntos de treino, validação e teste. Para isso, selecione aleatoriamente 70% dos registros, sem reposição, para o conjunto de treinamento. Os 30% restantes deverão ser divididos igualmente entre os conjuntos de validação e teste.\n",
        "\n",
        "Dicas:\n",
        "- Fixe a semente de geração de dados aleatórios, utilize o comando `np.random.seed(escolha um número)`, antes de executar qualquer célula de comando que possa variar de valor resultante toda vez que for executada.\n",
        "\n",
        "- Para fazer a divisão de treino, validação, teste use a função `train_test_split()`"
      ]
    },
    {
      "cell_type": "code",
      "execution_count": null,
      "metadata": {
        "id": "33TbzSbHxuw4"
      },
      "outputs": [],
      "source": []
    },
    {
      "cell_type": "markdown",
      "metadata": {
        "id": "2sqPg3Gk0YvV"
      },
      "source": [
        "# **Treine e Teste o Modelo de Árvore de Decisão**\n",
        "\n",
        "Treinar três versões diferentes do modelo de Árvore de Decisão utilizando valores variados para a sua profundidade.\n",
        "\n",
        "**Dica:**\n",
        "\n",
        "- Busque pela função `DecisionTreeClassifier(max_depth=?)` da biblioteca scikitlearn"
      ]
    },
    {
      "cell_type": "code",
      "execution_count": null,
      "metadata": {
        "collapsed": true,
        "id": "lOsH924Ryp9w"
      },
      "outputs": [],
      "source": []
    },
    {
      "cell_type": "markdown",
      "source": [
        "# **Escolha e Avaliação do Modelo**\n",
        "\n",
        "Neste momento, é importante avaliar cada um dos modelos gerados utilizando o **dataset de validação**. Apresente a matriz de confusão, bem como as métricas de acurácia, precisão, recall e F1-score para cada modelo. Após avaliá-los **escolha o melhor modelo**\n",
        "\n",
        "**Dica:**\n",
        "\n",
        "- Você pode usar a função `confusion_matrix(_, _)` da biblioteca `scikitlearn.metrics`\n",
        "- Para calcular as métricas do modelo busque pelas funções `accuracy_score()`, `recall_score()`, `precision_score()`, `f1_score()`"
      ],
      "metadata": {
        "id": "UIfeMwqW9Oik"
      }
    },
    {
      "cell_type": "code",
      "execution_count": null,
      "metadata": {
        "id": "0QhASpshzCQv"
      },
      "outputs": [],
      "source": []
    },
    {
      "cell_type": "markdown",
      "source": [
        "# **Feature Importance**\n",
        "\n",
        "Utilizando o melhor modelo gere o gráfico de importância das features para o modelo que obteve o melhor desempenho nos dados de validação. Em seguida, **remova as** **cinco** **features com menor importância e treine o modelo com o conjunto de treino novamente.**\n",
        "\n",
        "**Dica**\n",
        "\n",
        "- Utilize o método `.feature_importances_` da biblioteca `sklearn` para obter os valores de importância de cada feature.\n",
        "\n"
      ],
      "metadata": {
        "id": "oX5MzDWA9d06"
      }
    },
    {
      "cell_type": "markdown",
      "source": [
        "# **Avaliação do Novo Modelo**\n",
        "\n",
        "Com as cinco features removidas, avalie novamente o modelo de árvore de decisão escolhido, utilizando apenas o **conjunto de validação**."
      ],
      "metadata": {
        "id": "hCuZ3m9j-0ih"
      }
    },
    {
      "cell_type": "markdown",
      "source": [
        "# **Plotar a árvore do melhor modelo**\n",
        "\n",
        "Gere a visualização da Árvore de Decisão do novo modelo\n",
        "\n",
        "**Dica:**\n",
        "\n",
        "- Use a função `plot_tree()` da biblioteca `sklearn`\n",
        "\n",
        "- Para tornar a visualização mais clara e facilitar a interpretação dos resultados, ajuste o parâmetro max_depth em `plot_tree(max_depth=?)`, limitando a profundidade da árvore exibida e destacando os nós mais significativos."
      ],
      "metadata": {
        "id": "H5Ehqu9C--Lu"
      }
    },
    {
      "cell_type": "code",
      "execution_count": null,
      "metadata": {
        "id": "aFo0y1qQwKO_"
      },
      "outputs": [],
      "source": []
    },
    {
      "cell_type": "markdown",
      "source": [
        "# **Criação de Exemplos Fictícios**\n",
        "\n",
        "Observe a estrutura da árvore de decisão treinada e crie dois exemplos fictícios, um para cada possível valor do target. Para cada exemplo, descreva detalhadamente o caminho que ele seguirá na árvore, ou seja, a sequência de nós que serão percorridos até chegar à folha correspondente."
      ],
      "metadata": {
        "id": "7ABFSW18DNcU"
      }
    },
    {
      "cell_type": "code",
      "source": [],
      "metadata": {
        "id": "SJD9waZp_2E5"
      },
      "execution_count": null,
      "outputs": []
    },
    {
      "cell_type": "markdown",
      "source": [
        "# **Inferência e Verificação**\n",
        "\n",
        "Realize uma inferência utilizando esses dois exemplos fictícios no modelo treinado. Verifique se os resultados obtidos na inferência correspondem aos valores do target que você imaginou ao criar os exemplos."
      ],
      "metadata": {
        "id": "XRHay9QsEG0Z"
      }
    },
    {
      "cell_type": "code",
      "source": [],
      "metadata": {
        "id": "_XGyFStVEQlC"
      },
      "execution_count": null,
      "outputs": []
    },
    {
      "cell_type": "markdown",
      "source": [
        "# **Escolha do melhor modelo**\n",
        "\n",
        "Selecione o melhor modelo até agora com base no desempenho no conjunto de validação durante a etapa de avaliação e faça uma avaliação final do desempenho utilizando o **conjunto de** **teste**."
      ],
      "metadata": {
        "id": "5537eg5RFCCP"
      }
    },
    {
      "cell_type": "code",
      "source": [],
      "metadata": {
        "id": "eaAMaI8TFNhy"
      },
      "execution_count": null,
      "outputs": []
    },
    {
      "cell_type": "markdown",
      "source": [
        "# **Mostre uma análise comparativa entre validação e teste para o modelo escolhido**\n",
        "\n",
        "**Observação:** Se houver uma discrepância muito grande nos resultados, algo pode estar errado, verifique seu treinamento e avaliação do modelo."
      ],
      "metadata": {
        "id": "rTtGDGOlDXSO"
      }
    },
    {
      "cell_type": "code",
      "execution_count": null,
      "metadata": {
        "id": "tkRrDHPqn5LO"
      },
      "outputs": [],
      "source": []
    }
  ],
  "metadata": {
    "colab": {
      "provenance": []
    },
    "kernelspec": {
      "display_name": "Python 3",
      "name": "python3"
    },
    "language_info": {
      "name": "python"
    }
  },
  "nbformat": 4,
  "nbformat_minor": 0
}