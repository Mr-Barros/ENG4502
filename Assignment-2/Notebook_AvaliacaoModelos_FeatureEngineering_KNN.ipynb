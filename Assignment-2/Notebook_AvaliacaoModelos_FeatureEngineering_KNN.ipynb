{
  "cells": [
    {
      "cell_type": "markdown",
      "metadata": {
        "id": "r58UXpPwC8ec"
      },
      "source": [
        "# **Tarefa 2 - Feature Engineering e Avaliação de Modelos**\n",
        "\n",
        "####**Dicas:**\n",
        "\n",
        "- Tutorial para iniciantes em Python: https://www.datacamp.com/cheat-sheet/getting-started-with-python-cheat-sheet\n",
        "\n",
        "- Documentação do pandas: https://colab.research.google.com/drive/1a4sbKG7jOJGn4oeonQPA8XjJm7OYgcdX\n",
        "\n",
        "- Documentação do scikit-learn: https://scikit-learn.org/stable/\n",
        "\n",
        "- Documentação do matplotlib: https://matplotlib.org/stable/index.html\n",
        "\n",
        "- Documentação do seaborn: https://seaborn.pydata.org/tutorial.html\n",
        "\n",
        "---\n",
        "\n",
        "### **Dataset:**\n",
        "\n",
        "  Este conjunto de dados inclui informações para a estimativa dos níveis de obesidade em indivíduos dos países México, Peru e Colômbia, com base em seus hábitos alimentares e condição física. Os dados contêm 18 atributos e 2111 registros, que estão rotulados com a variável de classe **NObesity** (Nível de Obesidade), permitindo a classificação dos dados usando os valores **Normal Weight** e **Obesity**.\n",
        "  \n",
        "**Colunas:**\n",
        "\n",
        "1. **Gender**\n",
        "\n",
        "2. **Age**\n",
        "3. **Height**\n",
        "4. **Weight**\n",
        "5. **family_history_with_overweight** → Algum membro da família já sofreu ou sofre de excesso de peso?\n",
        "6. **FAVC** → Você come alimentos altamente calóricos com frequência?\n",
        "7. **FCVC** → Você costuma comer vegetais nas suas refeições?\n",
        "8. **NCP** → Quantas refeições principais você faz diariamente?\n",
        "9. **CAEC** → Você come algo entre as refeições?\n",
        "10. **SMOKE** → Você fuma?\n",
        "11. **CH2O** → Quanto de água você bebe diariamente?\n",
        "12. **SCC** → Você monitora as calorias que consome diariamente?\n",
        "13. **FAF** → Com que frequência você pratica atividade física?\n",
        "14. **TUE** → Quanto tempo você utiliza dispositivos tecnológicos como celular, videogames, televisão, computador e outros?\n",
        "15. **CALC** → Com que frequência você consome álcool?\n",
        "16. **MTRANS** → Qual meio de transporte você costuma usar?\n",
        "17. **TW1** → Quantas calorias você consumiu na última refeição?\n",
        "18. **NObeyesdad** → Nível de obesidade (alvo)\n",
        "\n"
      ]
    },
    {
      "cell_type": "markdown",
      "metadata": {
        "id": "LZsrmrJ9DCy7"
      },
      "source": [
        "## **Importe os Pacotes**"
      ]
    },
    {
      "cell_type": "code",
      "execution_count": 1,
      "metadata": {
        "id": "Fh2ptIjSDEuM"
      },
      "outputs": [],
      "source": []
    },
    {
      "cell_type": "markdown",
      "metadata": {
        "id": "P8rqmNeTDHrW"
      },
      "source": [
        "## **Crie os datasets**\n",
        "### **Crie um DataFrame a partir do arquivo de dados disponibilizados no EaD**"
      ]
    },
    {
      "cell_type": "code",
      "execution_count": 1,
      "metadata": {
        "id": "HFXK74NeDIDs"
      },
      "outputs": [],
      "source": []
    },
    {
      "cell_type": "markdown",
      "metadata": {
        "id": "BliuyeiRkBTM"
      },
      "source": [
        "## **Feature Engineering**\n",
        "Olhando para o dataset, que features poderiam ser criadas que seriam úteis para nossa tarefa de predição?\n",
        "\n",
        "**Dica que quase não é dica**: IMC deve ser interessante.... Crie uma coluna IMC e discretize os seus dados em grupos e veja se há alguma relação com a variável de nível de obesidade (alvo)"
      ]
    },
    {
      "cell_type": "code",
      "execution_count": 1,
      "metadata": {
        "id": "rf90MiwJkBTM"
      },
      "outputs": [],
      "source": []
    },
    {
      "cell_type": "markdown",
      "metadata": {
        "id": "X6koKAcjDQpe"
      },
      "source": [
        "## **Pré-Processe os dados novamente**\n",
        "**Dica 1:**\n",
        "- Aproveite o que foi feito no trabalho anterior (remoção de outliers, transformação de valores e etc), lembrando que agora será necessario pré-processar as colunas novas criadas\n",
        "\n",
        "**Dica 2:**\n",
        "- Se estiver tendo problema com o OneHotEncoder criando valores NaN, resete o index do dataframe df original e do dataframe criado para o onehot para alinhar os dados"
      ]
    },
    {
      "cell_type": "code",
      "execution_count": 1,
      "metadata": {
        "id": "fV0veXzgDKQ_"
      },
      "outputs": [],
      "source": []
    },
    {
      "cell_type": "markdown",
      "metadata": {
        "id": "8mPgRi_DDs6M"
      },
      "source": [
        "## **Criação de Conjuntos de Treinamento e Teste**\n",
        "\n",
        "Divida os dados em conjuntos de treino, validação e teste. Para isso, selecione aleatoriamente e sem reposição 75% dos registros para o conjunto de treinamento. As observações restantes (25%) serão ditribidas igualmente para os conjuntos de validação e teste.\n",
        "\n",
        "Dicas:\n",
        "- Fixe a semente de geração de dados aleatórios (escolha um número), utilize o comando `np.random.seed(escolha um número)`, antes de executar qualquer célula de comando que possa variar de valor resultante toda vez que for executada.\n",
        "\n",
        "- Para fazer a divisão de treino, validação, teste use a função `train_test_split()`\n"
      ]
    },
    {
      "cell_type": "code",
      "execution_count": 2,
      "metadata": {
        "id": "Fi5Tac57DtQu"
      },
      "outputs": [],
      "source": []
    },
    {
      "cell_type": "markdown",
      "metadata": {
        "id": "6n_1IRklEGLT"
      },
      "source": [
        "## **Treine e Teste o Modelo de KNN**\n",
        "\n",
        "Treinar cinco versões diferentes do modelo K-Nearest Neighbors (KNN) utilizando valores variados para o parâmetro K.\n",
        "\n",
        "**Dica:**\n",
        "- Busque pela função `KNeighborsClassifier(n_neighbors=?)` da biblioteca `scikitlearn`"
      ]
    },
    {
      "cell_type": "code",
      "execution_count": 2,
      "metadata": {
        "id": "Bkimt9g8EJUZ"
      },
      "outputs": [],
      "source": []
    },
    {
      "cell_type": "markdown",
      "metadata": {
        "id": "TuSXZ0vnGQju"
      },
      "source": [
        "### **Interprete e explique a Matriz de Confusão gerada**"
      ]
    },
    {
      "cell_type": "markdown",
      "metadata": {
        "id": "MSHdPflJGcqt"
      },
      "source": [
        "Escreva aqui..."
      ]
    },
    {
      "cell_type": "markdown",
      "metadata": {
        "id": "MB8DKEAHGeHQ"
      },
      "source": [
        "### **Calcule e mostre as métricas de precisão, cobertura (recall) e medida F1 para cada classe, além da acurácia, todas para o conjunto de validação.**\n",
        "\n",
        "**Dica:**\n",
        "- Para calcular as métricas do modelo busque pelas funções `accuracy_score()`, `recall_score()`, `precision_score()`, `f1_score()`"
      ]
    },
    {
      "cell_type": "code",
      "execution_count": 2,
      "metadata": {
        "id": "anrrC2DQGUAk"
      },
      "outputs": [],
      "source": []
    },
    {
      "cell_type": "markdown",
      "metadata": {
        "id": "2PB6AZoRG73X"
      },
      "source": [
        "## **Baseado no desempenho em validação, escolher o melhor modelo utilizando uma das métricas (justificando a escolha da métrica)**"
      ]
    },
    {
      "cell_type": "code",
      "source": [],
      "metadata": {
        "id": "lyyfdQijsi2F"
      },
      "execution_count": 2,
      "outputs": []
    },
    {
      "cell_type": "markdown",
      "metadata": {
        "id": "lWLJCpf3H7-o"
      },
      "source": [
        "## **Avalie o modelo escolhido utilizando o dataset de teste**"
      ]
    },
    {
      "cell_type": "code",
      "execution_count": 2,
      "metadata": {
        "id": "H4zUfwOtICix"
      },
      "outputs": [],
      "source": []
    },
    {
      "cell_type": "markdown",
      "metadata": {
        "id": "mws_hPUIIEQb"
      },
      "source": [
        "## **Mostre uma análise comparativa entre validação e teste para o modelo escolhido**\n",
        "**Observação:** Se houver uma discrepância muito grande nos resultados, algo pode estar errado, verifique seu treinamento e avaliação do modelo."
      ]
    },
    {
      "cell_type": "code",
      "execution_count": 2,
      "metadata": {
        "id": "PO6p2OxfIagb"
      },
      "outputs": [],
      "source": []
    }
  ],
  "metadata": {
    "colab": {
      "provenance": []
    },
    "kernelspec": {
      "display_name": "Python 3",
      "name": "python3"
    },
    "language_info": {
      "name": "python",
      "version": "3.11.9"
    }
  },
  "nbformat": 4,
  "nbformat_minor": 0
}