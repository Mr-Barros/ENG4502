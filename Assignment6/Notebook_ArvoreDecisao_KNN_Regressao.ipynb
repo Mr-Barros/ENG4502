{
  "cells": [
    {
      "cell_type": "markdown",
      "metadata": {
        "id": "d3460EU0Fc9D"
      },
      "source": [
        "# Tarefa 6 - Árvore de decisão e KNN com Regressão\n",
        "\n",
        "####**Dicas:**\n",
        "\n",
        "- Tutorial para iniciantes em Python: https://www.datacamp.com/cheat-sheet/getting-started-with-python-cheat-sheet\n",
        "\n",
        "- Documentação do pandas: https://colab.research.google.com/drive/1a4sbKG7jOJGn4oeonQPA8XjJm7OYgcdX\n",
        "\n",
        "- Documentação do scikit-learn: https://scikit-learn.org/stable/\n",
        "\n",
        "- Documentação do matplotlib: https://matplotlib.org/stable/index.html\n",
        "\n",
        "- Documentação do seaborn: https://seaborn.pydata.org/tutorial.html\n",
        "\n",
        "---\n",
        "## **Sobre o dataset:**\n",
        "\n",
        "Este dataset contém informações sobre o uso de bicicletas de aluguel em cidades urbanas, incluindo dados meteorológicos, como temperatura, umidade, velocidade do vento, visibilidade, ponto de orvalho, radiação solar, queda de neve e precipitação. Ele permite prever a quantidade de bicicletas necessárias a cada hora, facilitando a disponibilidade e acessibilidade para os usuários.\n",
        "\n",
        "**Colunas:**\n",
        "\n",
        "- **Rented Bike Count** - Contagem de bicicletas alugadas a cada hora **(target)**\n",
        "\n",
        "- **Hour** - Hora do dia\n",
        "- **Temperature** - Temperatura em Celsius\n",
        "- **Humidity** - %\n",
        "- **Windspeed** - m/s\n",
        "- **Visibility** - 10m\n",
        "- **Dew point temperature** - Temperatura do ponto de orvalho em Celsius\n",
        "- **Solar radiation** - MJ/m²\n",
        "- **Rainfall** - mm\n",
        "- **Snowfall** - cm\n",
        "- **Seasons** - Inverno, Primavera, Verão, Outono\n",
        "- **Holiday** - Feriado/Sem feriado\n",
        "\n",
        "\n"
      ]
    },
    {
      "cell_type": "markdown",
      "metadata": {
        "id": "jzhGRQJUFdCB"
      },
      "source": [
        "## **Importe os pacotes**"
      ]
    },
    {
      "cell_type": "code",
      "execution_count": 127,
      "metadata": {
        "id": "gkS62roEH1VW"
      },
      "outputs": [],
      "source": [
        "import pandas as pd\n",
        "import numpy as np\n",
        "import matplotlib.pyplot as plt\n",
        "import seaborn as sns\n",
        "from sklearn.preprocessing import LabelEncoder, OneHotEncoder, MinMaxScaler\n",
        "from sklearn.model_selection import train_test_split\n",
        "from sklearn.tree import DecisionTreeRegressor, plot_tree\n",
        "from sklearn.metrics import mean_squared_error, mean_absolute_error, r2_score\n",
        "from sklearn.neighbors import KNeighborsRegressor"
      ]
    },
    {
      "cell_type": "markdown",
      "metadata": {
        "id": "dNBdcSiRFdHB"
      },
      "source": [
        "## **Crie os datasets**\n",
        "### **Crie um DataFrame a partir do arquivo de dados disponibilizados no EaD**\n",
        "\n",
        "**Dicas:**\n",
        "\n",
        "* Certifique-se que os arquivos a serem lidos estão carregados na sua sessão do Colab, ou em um drive previamente montado, e ajuste o comando para incluir todo o caminho até cada um dos arquivos a serem lidos."
      ]
    },
    {
      "cell_type": "code",
      "execution_count": 128,
      "metadata": {
        "id": "DBXw19UkG2F2"
      },
      "outputs": [
        {
          "data": {
            "text/html": [
              "<div>\n",
              "<style scoped>\n",
              "    .dataframe tbody tr th:only-of-type {\n",
              "        vertical-align: middle;\n",
              "    }\n",
              "\n",
              "    .dataframe tbody tr th {\n",
              "        vertical-align: top;\n",
              "    }\n",
              "\n",
              "    .dataframe thead th {\n",
              "        text-align: right;\n",
              "    }\n",
              "</style>\n",
              "<table border=\"1\" class=\"dataframe\">\n",
              "  <thead>\n",
              "    <tr style=\"text-align: right;\">\n",
              "      <th></th>\n",
              "      <th>Rented Bike Count</th>\n",
              "      <th>Hour</th>\n",
              "      <th>Temperature</th>\n",
              "      <th>Humidity(%)</th>\n",
              "      <th>Wind speed (m/s)</th>\n",
              "      <th>Visibility (10m)</th>\n",
              "      <th>Dew point temperature</th>\n",
              "      <th>Solar Radiation (MJ/m2)</th>\n",
              "      <th>Rainfall(mm)</th>\n",
              "      <th>Snowfall (cm)</th>\n",
              "      <th>Seasons</th>\n",
              "      <th>Holiday</th>\n",
              "    </tr>\n",
              "  </thead>\n",
              "  <tbody>\n",
              "    <tr>\n",
              "      <th>0</th>\n",
              "      <td>254</td>\n",
              "      <td>0</td>\n",
              "      <td>-5.2</td>\n",
              "      <td>37</td>\n",
              "      <td>2.2</td>\n",
              "      <td>2000</td>\n",
              "      <td>-17.6</td>\n",
              "      <td>0.0</td>\n",
              "      <td>0.0</td>\n",
              "      <td>0.0</td>\n",
              "      <td>Winter</td>\n",
              "      <td>No Holiday</td>\n",
              "    </tr>\n",
              "    <tr>\n",
              "      <th>1</th>\n",
              "      <td>204</td>\n",
              "      <td>1</td>\n",
              "      <td>-5.5</td>\n",
              "      <td>38</td>\n",
              "      <td>0.8</td>\n",
              "      <td>2000</td>\n",
              "      <td>-17.6</td>\n",
              "      <td>0.0</td>\n",
              "      <td>0.0</td>\n",
              "      <td>0.0</td>\n",
              "      <td>Winter</td>\n",
              "      <td>No Holiday</td>\n",
              "    </tr>\n",
              "    <tr>\n",
              "      <th>2</th>\n",
              "      <td>173</td>\n",
              "      <td>2</td>\n",
              "      <td>-6.0</td>\n",
              "      <td>39</td>\n",
              "      <td>1.0</td>\n",
              "      <td>2000</td>\n",
              "      <td>-17.7</td>\n",
              "      <td>0.0</td>\n",
              "      <td>0.0</td>\n",
              "      <td>0.0</td>\n",
              "      <td>Winter</td>\n",
              "      <td>No Holiday</td>\n",
              "    </tr>\n",
              "    <tr>\n",
              "      <th>3</th>\n",
              "      <td>107</td>\n",
              "      <td>3</td>\n",
              "      <td>-6.2</td>\n",
              "      <td>40</td>\n",
              "      <td>0.9</td>\n",
              "      <td>2000</td>\n",
              "      <td>-17.6</td>\n",
              "      <td>0.0</td>\n",
              "      <td>0.0</td>\n",
              "      <td>0.0</td>\n",
              "      <td>Winter</td>\n",
              "      <td>No Holiday</td>\n",
              "    </tr>\n",
              "    <tr>\n",
              "      <th>4</th>\n",
              "      <td>78</td>\n",
              "      <td>4</td>\n",
              "      <td>-6.0</td>\n",
              "      <td>36</td>\n",
              "      <td>2.3</td>\n",
              "      <td>2000</td>\n",
              "      <td>-18.6</td>\n",
              "      <td>0.0</td>\n",
              "      <td>0.0</td>\n",
              "      <td>0.0</td>\n",
              "      <td>Winter</td>\n",
              "      <td>No Holiday</td>\n",
              "    </tr>\n",
              "  </tbody>\n",
              "</table>\n",
              "</div>"
            ],
            "text/plain": [
              "   Rented Bike Count  Hour  Temperature  Humidity(%)  Wind speed (m/s)  \\\n",
              "0                254     0         -5.2           37               2.2   \n",
              "1                204     1         -5.5           38               0.8   \n",
              "2                173     2         -6.0           39               1.0   \n",
              "3                107     3         -6.2           40               0.9   \n",
              "4                 78     4         -6.0           36               2.3   \n",
              "\n",
              "   Visibility (10m)  Dew point temperature  Solar Radiation (MJ/m2)  \\\n",
              "0              2000                  -17.6                      0.0   \n",
              "1              2000                  -17.6                      0.0   \n",
              "2              2000                  -17.7                      0.0   \n",
              "3              2000                  -17.6                      0.0   \n",
              "4              2000                  -18.6                      0.0   \n",
              "\n",
              "   Rainfall(mm)  Snowfall (cm) Seasons     Holiday  \n",
              "0           0.0            0.0  Winter  No Holiday  \n",
              "1           0.0            0.0  Winter  No Holiday  \n",
              "2           0.0            0.0  Winter  No Holiday  \n",
              "3           0.0            0.0  Winter  No Holiday  \n",
              "4           0.0            0.0  Winter  No Holiday  "
            ]
          },
          "execution_count": 128,
          "metadata": {},
          "output_type": "execute_result"
        }
      ],
      "source": [
        "path = 'SeoulBikeData.csv'\n",
        "df = pd.read_csv(path)\n",
        "df.head()"
      ]
    },
    {
      "cell_type": "code",
      "execution_count": 129,
      "metadata": {},
      "outputs": [
        {
          "data": {
            "text/html": [
              "<div>\n",
              "<style scoped>\n",
              "    .dataframe tbody tr th:only-of-type {\n",
              "        vertical-align: middle;\n",
              "    }\n",
              "\n",
              "    .dataframe tbody tr th {\n",
              "        vertical-align: top;\n",
              "    }\n",
              "\n",
              "    .dataframe thead th {\n",
              "        text-align: right;\n",
              "    }\n",
              "</style>\n",
              "<table border=\"1\" class=\"dataframe\">\n",
              "  <thead>\n",
              "    <tr style=\"text-align: right;\">\n",
              "      <th></th>\n",
              "      <th>Rented Bike Count</th>\n",
              "      <th>Hour</th>\n",
              "      <th>Temperature</th>\n",
              "      <th>Humidity(%)</th>\n",
              "      <th>Wind speed (m/s)</th>\n",
              "      <th>Visibility (10m)</th>\n",
              "      <th>Dew point temperature</th>\n",
              "      <th>Solar Radiation (MJ/m2)</th>\n",
              "      <th>Rainfall(mm)</th>\n",
              "      <th>Snowfall (cm)</th>\n",
              "    </tr>\n",
              "  </thead>\n",
              "  <tbody>\n",
              "    <tr>\n",
              "      <th>count</th>\n",
              "      <td>8760.000000</td>\n",
              "      <td>8760.000000</td>\n",
              "      <td>8760.000000</td>\n",
              "      <td>8760.000000</td>\n",
              "      <td>8760.000000</td>\n",
              "      <td>8760.000000</td>\n",
              "      <td>8760.000000</td>\n",
              "      <td>8760.000000</td>\n",
              "      <td>8760.000000</td>\n",
              "      <td>8760.000000</td>\n",
              "    </tr>\n",
              "    <tr>\n",
              "      <th>mean</th>\n",
              "      <td>704.602055</td>\n",
              "      <td>11.500000</td>\n",
              "      <td>12.882922</td>\n",
              "      <td>58.226256</td>\n",
              "      <td>1.724909</td>\n",
              "      <td>1436.825799</td>\n",
              "      <td>4.073813</td>\n",
              "      <td>0.569111</td>\n",
              "      <td>0.148687</td>\n",
              "      <td>0.075068</td>\n",
              "    </tr>\n",
              "    <tr>\n",
              "      <th>std</th>\n",
              "      <td>644.997468</td>\n",
              "      <td>6.922582</td>\n",
              "      <td>11.944825</td>\n",
              "      <td>20.362413</td>\n",
              "      <td>1.036300</td>\n",
              "      <td>608.298712</td>\n",
              "      <td>13.060369</td>\n",
              "      <td>0.868746</td>\n",
              "      <td>1.128193</td>\n",
              "      <td>0.436746</td>\n",
              "    </tr>\n",
              "    <tr>\n",
              "      <th>min</th>\n",
              "      <td>0.000000</td>\n",
              "      <td>0.000000</td>\n",
              "      <td>-17.800000</td>\n",
              "      <td>0.000000</td>\n",
              "      <td>0.000000</td>\n",
              "      <td>27.000000</td>\n",
              "      <td>-30.600000</td>\n",
              "      <td>0.000000</td>\n",
              "      <td>0.000000</td>\n",
              "      <td>0.000000</td>\n",
              "    </tr>\n",
              "    <tr>\n",
              "      <th>25%</th>\n",
              "      <td>191.000000</td>\n",
              "      <td>5.750000</td>\n",
              "      <td>3.500000</td>\n",
              "      <td>42.000000</td>\n",
              "      <td>0.900000</td>\n",
              "      <td>940.000000</td>\n",
              "      <td>-4.700000</td>\n",
              "      <td>0.000000</td>\n",
              "      <td>0.000000</td>\n",
              "      <td>0.000000</td>\n",
              "    </tr>\n",
              "    <tr>\n",
              "      <th>50%</th>\n",
              "      <td>504.500000</td>\n",
              "      <td>11.500000</td>\n",
              "      <td>13.700000</td>\n",
              "      <td>57.000000</td>\n",
              "      <td>1.500000</td>\n",
              "      <td>1698.000000</td>\n",
              "      <td>5.100000</td>\n",
              "      <td>0.010000</td>\n",
              "      <td>0.000000</td>\n",
              "      <td>0.000000</td>\n",
              "    </tr>\n",
              "    <tr>\n",
              "      <th>75%</th>\n",
              "      <td>1065.250000</td>\n",
              "      <td>17.250000</td>\n",
              "      <td>22.500000</td>\n",
              "      <td>74.000000</td>\n",
              "      <td>2.300000</td>\n",
              "      <td>2000.000000</td>\n",
              "      <td>14.800000</td>\n",
              "      <td>0.930000</td>\n",
              "      <td>0.000000</td>\n",
              "      <td>0.000000</td>\n",
              "    </tr>\n",
              "    <tr>\n",
              "      <th>max</th>\n",
              "      <td>3556.000000</td>\n",
              "      <td>23.000000</td>\n",
              "      <td>39.400000</td>\n",
              "      <td>98.000000</td>\n",
              "      <td>7.400000</td>\n",
              "      <td>2000.000000</td>\n",
              "      <td>27.200000</td>\n",
              "      <td>3.520000</td>\n",
              "      <td>35.000000</td>\n",
              "      <td>8.800000</td>\n",
              "    </tr>\n",
              "  </tbody>\n",
              "</table>\n",
              "</div>"
            ],
            "text/plain": [
              "       Rented Bike Count         Hour  Temperature  Humidity(%)  \\\n",
              "count        8760.000000  8760.000000  8760.000000  8760.000000   \n",
              "mean          704.602055    11.500000    12.882922    58.226256   \n",
              "std           644.997468     6.922582    11.944825    20.362413   \n",
              "min             0.000000     0.000000   -17.800000     0.000000   \n",
              "25%           191.000000     5.750000     3.500000    42.000000   \n",
              "50%           504.500000    11.500000    13.700000    57.000000   \n",
              "75%          1065.250000    17.250000    22.500000    74.000000   \n",
              "max          3556.000000    23.000000    39.400000    98.000000   \n",
              "\n",
              "       Wind speed (m/s)  Visibility (10m)  Dew point temperature  \\\n",
              "count       8760.000000       8760.000000            8760.000000   \n",
              "mean           1.724909       1436.825799               4.073813   \n",
              "std            1.036300        608.298712              13.060369   \n",
              "min            0.000000         27.000000             -30.600000   \n",
              "25%            0.900000        940.000000              -4.700000   \n",
              "50%            1.500000       1698.000000               5.100000   \n",
              "75%            2.300000       2000.000000              14.800000   \n",
              "max            7.400000       2000.000000              27.200000   \n",
              "\n",
              "       Solar Radiation (MJ/m2)  Rainfall(mm)  Snowfall (cm)  \n",
              "count              8760.000000   8760.000000    8760.000000  \n",
              "mean                  0.569111      0.148687       0.075068  \n",
              "std                   0.868746      1.128193       0.436746  \n",
              "min                   0.000000      0.000000       0.000000  \n",
              "25%                   0.000000      0.000000       0.000000  \n",
              "50%                   0.010000      0.000000       0.000000  \n",
              "75%                   0.930000      0.000000       0.000000  \n",
              "max                   3.520000     35.000000       8.800000  "
            ]
          },
          "execution_count": 129,
          "metadata": {},
          "output_type": "execute_result"
        }
      ],
      "source": [
        "df.describe()"
      ]
    },
    {
      "cell_type": "code",
      "execution_count": 130,
      "metadata": {},
      "outputs": [
        {
          "name": "stdout",
          "output_type": "stream",
          "text": [
            "['Winter' 'Spring' 'Summer' 'Autumn']\n",
            "['No Holiday' 'Holiday']\n"
          ]
        }
      ],
      "source": [
        "print(df.Seasons.unique())\n",
        "print(df.Holiday.unique())"
      ]
    },
    {
      "cell_type": "code",
      "execution_count": 131,
      "metadata": {},
      "outputs": [
        {
          "data": {
            "text/plain": [
              "Rented Bike Count          0\n",
              "Hour                       0\n",
              "Temperature                0\n",
              "Humidity(%)                0\n",
              "Wind speed (m/s)           0\n",
              "Visibility (10m)           0\n",
              "Dew point temperature      0\n",
              "Solar Radiation (MJ/m2)    0\n",
              "Rainfall(mm)               0\n",
              "Snowfall (cm)              0\n",
              "Seasons                    0\n",
              "Holiday                    0\n",
              "dtype: int64"
            ]
          },
          "execution_count": 131,
          "metadata": {},
          "output_type": "execute_result"
        }
      ],
      "source": [
        "df.isna().sum()"
      ]
    },
    {
      "cell_type": "markdown",
      "metadata": {
        "id": "fG7QgqxbFdMY"
      },
      "source": [
        "## **Pré-Processamento dos Dados**\n",
        "\n",
        "Aplique as técnicas de pré-processamento que vimos em aula no dataset fornecido.\n",
        "\n",
        "### **Dicas:**\n",
        "- **Converter dados categóricos para numéricos:** Use `LabelEncoder` ou `OneHotEncoder`.\n",
        "\n",
        "- **Transformar os dados:** Experimente `MinMaxScaler` para ajustar a escala dos dados.\n",
        "\n",
        "- **Remover outliers:** Verifique outliers com base no IQR e os elimine se necessário.\n",
        "\n",
        "- **Tratar valores nulos:** Preencha com a média, moda, mediana ou remova as linhas, dependendo do impacto no dataset.\n"
      ]
    },
    {
      "cell_type": "code",
      "execution_count": 132,
      "metadata": {
        "id": "UR3jmkHrYAyk"
      },
      "outputs": [
        {
          "name": "stdout",
          "output_type": "stream",
          "text": [
            "Index(['Rented Bike Count', 'Hour', 'Temperature', 'Humidity(%)',\n",
            "       'Wind speed (m/s)', 'Visibility (10m)', 'Dew point temperature',\n",
            "       'Solar Radiation (MJ/m2)', 'Rainfall(mm)', 'Snowfall (cm)', 'Holiday',\n",
            "       'Seasons_Autumn', 'Seasons_Spring', 'Seasons_Summer', 'Seasons_Winter'],\n",
            "      dtype='object')\n",
            "(7760, 15)\n"
          ]
        },
        {
          "data": {
            "text/html": [
              "<div>\n",
              "<style scoped>\n",
              "    .dataframe tbody tr th:only-of-type {\n",
              "        vertical-align: middle;\n",
              "    }\n",
              "\n",
              "    .dataframe tbody tr th {\n",
              "        vertical-align: top;\n",
              "    }\n",
              "\n",
              "    .dataframe thead th {\n",
              "        text-align: right;\n",
              "    }\n",
              "</style>\n",
              "<table border=\"1\" class=\"dataframe\">\n",
              "  <thead>\n",
              "    <tr style=\"text-align: right;\">\n",
              "      <th></th>\n",
              "      <th>Rented Bike Count</th>\n",
              "      <th>Hour</th>\n",
              "      <th>Temperature</th>\n",
              "      <th>Humidity(%)</th>\n",
              "      <th>Wind speed (m/s)</th>\n",
              "      <th>Visibility (10m)</th>\n",
              "      <th>Dew point temperature</th>\n",
              "      <th>Solar Radiation (MJ/m2)</th>\n",
              "      <th>Rainfall(mm)</th>\n",
              "      <th>Snowfall (cm)</th>\n",
              "      <th>Holiday</th>\n",
              "      <th>Seasons_Autumn</th>\n",
              "      <th>Seasons_Spring</th>\n",
              "      <th>Seasons_Summer</th>\n",
              "      <th>Seasons_Winter</th>\n",
              "    </tr>\n",
              "  </thead>\n",
              "  <tbody>\n",
              "    <tr>\n",
              "      <th>0</th>\n",
              "      <td>0.071429</td>\n",
              "      <td>0.000000</td>\n",
              "      <td>0.220280</td>\n",
              "      <td>0.377551</td>\n",
              "      <td>0.297297</td>\n",
              "      <td>1.0</td>\n",
              "      <td>0.224913</td>\n",
              "      <td>0.0</td>\n",
              "      <td>0.0</td>\n",
              "      <td>0.0</td>\n",
              "      <td>1.0</td>\n",
              "      <td>0.0</td>\n",
              "      <td>0.0</td>\n",
              "      <td>0.0</td>\n",
              "      <td>1.0</td>\n",
              "    </tr>\n",
              "    <tr>\n",
              "      <th>1</th>\n",
              "      <td>0.057368</td>\n",
              "      <td>0.043478</td>\n",
              "      <td>0.215035</td>\n",
              "      <td>0.387755</td>\n",
              "      <td>0.108108</td>\n",
              "      <td>1.0</td>\n",
              "      <td>0.224913</td>\n",
              "      <td>0.0</td>\n",
              "      <td>0.0</td>\n",
              "      <td>0.0</td>\n",
              "      <td>1.0</td>\n",
              "      <td>0.0</td>\n",
              "      <td>0.0</td>\n",
              "      <td>0.0</td>\n",
              "      <td>1.0</td>\n",
              "    </tr>\n",
              "    <tr>\n",
              "      <th>2</th>\n",
              "      <td>0.048650</td>\n",
              "      <td>0.086957</td>\n",
              "      <td>0.206294</td>\n",
              "      <td>0.397959</td>\n",
              "      <td>0.135135</td>\n",
              "      <td>1.0</td>\n",
              "      <td>0.223183</td>\n",
              "      <td>0.0</td>\n",
              "      <td>0.0</td>\n",
              "      <td>0.0</td>\n",
              "      <td>1.0</td>\n",
              "      <td>0.0</td>\n",
              "      <td>0.0</td>\n",
              "      <td>0.0</td>\n",
              "      <td>1.0</td>\n",
              "    </tr>\n",
              "    <tr>\n",
              "      <th>3</th>\n",
              "      <td>0.030090</td>\n",
              "      <td>0.130435</td>\n",
              "      <td>0.202797</td>\n",
              "      <td>0.408163</td>\n",
              "      <td>0.121622</td>\n",
              "      <td>1.0</td>\n",
              "      <td>0.224913</td>\n",
              "      <td>0.0</td>\n",
              "      <td>0.0</td>\n",
              "      <td>0.0</td>\n",
              "      <td>1.0</td>\n",
              "      <td>0.0</td>\n",
              "      <td>0.0</td>\n",
              "      <td>0.0</td>\n",
              "      <td>1.0</td>\n",
              "    </tr>\n",
              "    <tr>\n",
              "      <th>4</th>\n",
              "      <td>0.021935</td>\n",
              "      <td>0.173913</td>\n",
              "      <td>0.206294</td>\n",
              "      <td>0.367347</td>\n",
              "      <td>0.310811</td>\n",
              "      <td>1.0</td>\n",
              "      <td>0.207612</td>\n",
              "      <td>0.0</td>\n",
              "      <td>0.0</td>\n",
              "      <td>0.0</td>\n",
              "      <td>1.0</td>\n",
              "      <td>0.0</td>\n",
              "      <td>0.0</td>\n",
              "      <td>0.0</td>\n",
              "      <td>1.0</td>\n",
              "    </tr>\n",
              "  </tbody>\n",
              "</table>\n",
              "</div>"
            ],
            "text/plain": [
              "   Rented Bike Count      Hour  Temperature  Humidity(%)  Wind speed (m/s)  \\\n",
              "0           0.071429  0.000000     0.220280     0.377551          0.297297   \n",
              "1           0.057368  0.043478     0.215035     0.387755          0.108108   \n",
              "2           0.048650  0.086957     0.206294     0.397959          0.135135   \n",
              "3           0.030090  0.130435     0.202797     0.408163          0.121622   \n",
              "4           0.021935  0.173913     0.206294     0.367347          0.310811   \n",
              "\n",
              "   Visibility (10m)  Dew point temperature  Solar Radiation (MJ/m2)  \\\n",
              "0               1.0               0.224913                      0.0   \n",
              "1               1.0               0.224913                      0.0   \n",
              "2               1.0               0.223183                      0.0   \n",
              "3               1.0               0.224913                      0.0   \n",
              "4               1.0               0.207612                      0.0   \n",
              "\n",
              "   Rainfall(mm)  Snowfall (cm)  Holiday  Seasons_Autumn  Seasons_Spring  \\\n",
              "0           0.0            0.0      1.0             0.0             0.0   \n",
              "1           0.0            0.0      1.0             0.0             0.0   \n",
              "2           0.0            0.0      1.0             0.0             0.0   \n",
              "3           0.0            0.0      1.0             0.0             0.0   \n",
              "4           0.0            0.0      1.0             0.0             0.0   \n",
              "\n",
              "   Seasons_Summer  Seasons_Winter  \n",
              "0             0.0             1.0  \n",
              "1             0.0             1.0  \n",
              "2             0.0             1.0  \n",
              "3             0.0             1.0  \n",
              "4             0.0             1.0  "
            ]
          },
          "execution_count": 132,
          "metadata": {},
          "output_type": "execute_result"
        }
      ],
      "source": [
        "le_holiday = LabelEncoder()\n",
        "ohe = OneHotEncoder(sparse_output=False).set_output(transform='pandas')\n",
        "scaler = MinMaxScaler()\n",
        "\n",
        "def pre_processing(df: pd.DataFrame, remove_outliers: bool):\n",
        "    df['Holiday'] = le_holiday.fit_transform(df['Holiday'])\n",
        "    seasons = ohe.fit_transform(df[['Seasons']])\n",
        "    df = pd.concat([df, seasons], axis=1)\n",
        "    df.drop(columns=['Seasons'], axis = 1, inplace = True)\n",
        "    df[df.columns] = scaler.fit_transform(df[df.columns])\n",
        "\n",
        "    if remove_outliers:\n",
        "        # as outras colunas ou não possuem outliers ou zeram o DataFrame\n",
        "        for col in ['Rented Bike Count', 'Wind speed (m/s)', 'Solar Radiation (MJ/m2)']:\n",
        "            Q1 = df[col].quantile(0.25)\n",
        "            Q3 = df[col].quantile(0.75)\n",
        "            IQR = Q3 - Q1\n",
        "            lower_bound = Q1 - 1.5 * IQR\n",
        "            upper_bound = Q3 + 1.5 * IQR\n",
        "            df = df[(df[col] > lower_bound) & (df[col] < upper_bound)]\n",
        "\n",
        "    # df não possui valores nulos\n",
        "    return df\n",
        "\n",
        "df = pre_processing(df=df, remove_outliers=True)\n",
        "\n",
        "print(df.columns)\n",
        "print(df.shape)\n",
        "df.head()"
      ]
    },
    {
      "cell_type": "markdown",
      "metadata": {
        "id": "PtYYP7ySFdQ6"
      },
      "source": [
        "# **Criação de Conjuntos de Treinamento, Teste e Validação**\n",
        "\n",
        "Divida os dados em conjuntos de treino, validação e teste. Para isso, selecione aleatoriamente 70% dos registros, sem reposição, para o conjunto de treinamento. Os 30% restantes deverão ser divididos igualmente entre os conjuntos de validação e teste.\n",
        "\n",
        "Dicas:\n",
        "- Fixe a semente de geração de dados aleatórios, utilize o comando `np.random.seed(escolha um número)`, antes de executar qualquer célula de comando que possa variar de valor resultante toda vez que for executada.\n",
        "\n",
        "- Para fazer a divisão de treino, validação, teste use a função `train_test_split()`"
      ]
    },
    {
      "cell_type": "code",
      "execution_count": 133,
      "metadata": {
        "id": "gyQXm85iG7tD"
      },
      "outputs": [],
      "source": [
        "np.random.seed(42)\n",
        "X = df.drop('Rented Bike Count', axis=1)\n",
        "y = df['Rented Bike Count']\n",
        "X_train, X_temp, y_train, y_temp = train_test_split(X, y, test_size=0.70)\n",
        "X_val, X_test, y_val, y_test = train_test_split(X_temp, y_temp, test_size=0.5)"
      ]
    },
    {
      "cell_type": "markdown",
      "metadata": {
        "id": "JqdZU0zqFdWS"
      },
      "source": [
        "# **Treine e Teste o Modelo de Árvore de Decisão**\n",
        "\n",
        "Treinar três versões diferentes do modelo de Árvore de Decisão utilizando valores variados para a sua profundidade.\n",
        "\n",
        "**Dica:**\n",
        "\n",
        "- Busque pela função `DecisionTreeRegressor(max_depth=?)` da biblioteca scikitlearn"
      ]
    },
    {
      "cell_type": "code",
      "execution_count": 134,
      "metadata": {
        "id": "-15XB89UG86Z"
      },
      "outputs": [],
      "source": [
        "depths = [3, 6, 9]\n",
        "trees = []\n",
        "\n",
        "for depth in depths:\n",
        "    regressor = DecisionTreeRegressor(max_depth=depth)\n",
        "    regressor.fit(X_train, y_train)\n",
        "    y_val_pred = regressor.predict(X_val)\n",
        "\n",
        "    trees.append({ \n",
        "        'model': regressor,\n",
        "        'depth': depth,\n",
        "        'pred': y_val_pred\n",
        "    })"
      ]
    },
    {
      "cell_type": "markdown",
      "metadata": {
        "id": "YINwE_SMFdbP"
      },
      "source": [
        "# **Avaliação do Modelo**\n",
        "\n",
        "Neste momento, é importante avaliar cada um dos modelos gerados utilizando o **dataset de validação**. Apresente as métricas de erro quadrático médio (MSE), erro absoluto médio (MAE), e coeficiente de determinação (R²) para cada modelo.\n",
        "\n",
        "**Dica:**\n",
        "\n",
        "- Você pode usar a função `mean_squared_error(_, _)` da biblioteca `scikitlearn.metrics` e, para calcular as demais métricas do modelo, busque pelas funções `mean_absolute_error()` e `r2_score()`."
      ]
    },
    {
      "cell_type": "code",
      "execution_count": 135,
      "metadata": {
        "id": "NyM2wJlfG9Pr"
      },
      "outputs": [
        {
          "name": "stdout",
          "output_type": "stream",
          "text": [
            "Tree of depth 3:\n",
            "• MSE: 0.0123499407621435\n",
            "• MAE: 0.07805643994062597\n",
            "• R2: 0.5637257689886447\n",
            "\n",
            "Tree of depth 6:\n",
            "• MSE: 0.009234647495865372\n",
            "• MAE: 0.06219754520600927\n",
            "• R2: 0.6737766753287371\n",
            "\n",
            "Tree of depth 9:\n",
            "• MSE: 0.010488590615901927\n",
            "• MAE: 0.061337993042860084\n",
            "• R2: 0.6294798579623857\n",
            "\n"
          ]
        }
      ],
      "source": [
        "for tree in trees:\n",
        "    tree['MSE'] = mean_squared_error(y_val, tree['pred'])\n",
        "    tree['MAE'] = mean_absolute_error(y_val, tree['pred'])\n",
        "    tree['R2'] = r2_score(y_val, tree['pred'])\n",
        "\n",
        "    print(f'Tree of depth {tree[\"depth\"]}:')\n",
        "    print(f'• MSE: {tree[\"MSE\"]}')\n",
        "    print(f'• MAE: {tree[\"MAE\"]}')\n",
        "    print(f'• R2: {tree[\"R2\"]}\\n')\n"
      ]
    },
    {
      "cell_type": "markdown",
      "metadata": {
        "id": "etYsHeCyHGRU"
      },
      "source": [
        "# **Feature Importance**\n",
        "\n",
        "Gere o gráfico de importância das features para o modelo que obteve o melhor desempenho nos dados de validação. Em seguida, remova as **cinco** features com menor importância e treine o modelo novamente.\n",
        "\n",
        "**Dica**\n",
        "\n",
        "- Utilize o método `.feature_importances_` da biblioteca `sklearn` para obter os valores de importância de cada feature.\n",
        "\n"
      ]
    },
    {
      "cell_type": "code",
      "execution_count": 136,
      "metadata": {
        "id": "AsgNI0wXHFyT"
      },
      "outputs": [
        {
          "data": {
            "image/png": "[encoded data removed]",
            "text/plain": [
              "<Figure size 1200x600 with 1 Axes>"
            ]
          },
          "metadata": {},
          "output_type": "display_data"
        }
      ],
      "source": [
        "best_model = trees[1]['model']\n",
        "\n",
        "plt.figure(figsize=(12, 6))\n",
        "plt.bar(X.columns, best_model.feature_importances_)\n",
        "\n",
        "plt.xticks(rotation=65)\n",
        "plt.xlabel('Feature Name')\n",
        "plt.ylabel('Feature Importance')\n",
        "plt.title('Feature Importances')\n",
        "plt.show()"
      ]
    },
    {
      "cell_type": "code",
      "execution_count": 137,
      "metadata": {},
      "outputs": [],
      "source": [
        "least_important_features = ['Dew point temperature', 'Snowfall (cm)', 'Holiday', 'Seasons_Summer', 'Seasons_Winter']\n",
        "\n",
        "X_train.drop(columns=least_important_features, inplace=True)\n",
        "X_val.drop(columns=least_important_features, inplace=True)\n",
        "X_test.drop(columns=least_important_features, inplace=True)"
      ]
    },
    {
      "cell_type": "markdown",
      "metadata": {
        "id": "uRsAJQd_HGkT"
      },
      "source": [
        "# **Avaliação do Novo Modelo**\n",
        "\n",
        "Com as cinco features removidas, treine novamente o modelo de árvore de decisão escolhido, e o avalie novamente utilizando apenas o **conjunto de validação**."
      ]
    },
    {
      "cell_type": "code",
      "execution_count": 138,
      "metadata": {
        "id": "-GxHdy3FHVOn"
      },
      "outputs": [
        {
          "name": "stdout",
          "output_type": "stream",
          "text": [
            "• MSE: 0.009239272325222881\n",
            "• MAE: 0.062232044861761725\n",
            "• R2: 0.6736132985231016\n"
          ]
        }
      ],
      "source": [
        "depth = 6\n",
        "regressor = DecisionTreeRegressor(max_depth=depth)\n",
        "\n",
        "regressor.fit(X_train, y_train)\n",
        "y_val_pred = regressor.predict(X_val)\n",
        "\n",
        "mse = mean_squared_error(y_val, y_val_pred)\n",
        "mae = mean_absolute_error(y_val, y_val_pred)\n",
        "r2 = r2_score(y_val, y_val_pred)\n",
        "\n",
        "print(f'• MSE: {mse}')\n",
        "print(f'• MAE: {mae}')\n",
        "print(f'• R2: {r2}')"
      ]
    },
    {
      "cell_type": "markdown",
      "metadata": {
        "id": "5pNLbix8yTyv"
      },
      "source": [
        "# **Plotar a árvore do melhor modelo**\n",
        "\n",
        "Gere a visualização da Árvore de Decisão do novo modelo\n",
        "\n",
        "**Dica:**\n",
        "\n",
        "- Use a função `plot_tree()` da biblioteca `sklearn`\n",
        "\n",
        "- Para tornar a visualização mais clara e facilitar a interpretação dos resultados, ajuste o parâmetro max_depth em `plot_tree(max_depth=?)`, limitando a profundidade da árvore exibida e destacando os nós mais significativos."
      ]
    },
    {
      "cell_type": "code",
      "execution_count": 139,
      "metadata": {
        "id": "j4CdMaVwyTYD"
      },
      "outputs": [
        {
          "data": {
            "image/png": "[encoded data removed]",
            "text/plain": [
              "<Figure size 640x480 with 1 Axes>"
            ]
          },
          "metadata": {},
          "output_type": "display_data"
        }
      ],
      "source": [
        "plot_tree(regressor, max_depth=3, filled=True)\n",
        "plt.savefig('decision_tree_regressor.svg', format='svg')"
      ]
    },
    {
      "cell_type": "markdown",
      "metadata": {
        "id": "NXqjV4tqylUp"
      },
      "source": [
        "# **Criação de Exemplos Fictícios**\n",
        "\n",
        "Observe a estrutura da árvore de decisão treinada e crie dois exemplos fictícios com valores de entrada diferentes. Para cada exemplo, descreva detalhadamente o caminho que ele seguirá na árvore, ou seja, a sequência de nós que serão percorridos até chegar à folha correspondente."
      ]
    },
    {
      "cell_type": "code",
      "execution_count": 140,
      "metadata": {
        "id": "LKCKiatZ2WWi"
      },
      "outputs": [],
      "source": [
        "example_df = pd.DataFrame(data={\n",
        "    'Rented Bike Count': [254, 107], # Valores não representativos do conjunto de dados\n",
        "    'Hour': [0, 3], \n",
        "    'Temperature': [-5.2, 16.8], \n",
        "    'Humidity(%)': [37, 40], \n",
        "    'Wind speed (m/s)': [2.2, 0.9], \n",
        "    'Visibility (10m)': [2000, 2000], \n",
        "    'Dew point temperature': [-17.6, 5.7], \n",
        "    'Solar Radiation (MJ/m2)': [0.0, 0.0], \n",
        "    'Rainfall(mm)': [0.0, 0.0], \n",
        "    'Snowfall (cm)': [0.0, 0.0], \n",
        "    'Seasons': ['Autumn', 'Spring'], \n",
        "    'Holiday': ['No Holiday', 'Holiday']\n",
        "})"
      ]
    },
    {
      "cell_type": "code",
      "execution_count": 141,
      "metadata": {},
      "outputs": [
        {
          "data": {
            "text/html": [
              "<div>\n",
              "<style scoped>\n",
              "    .dataframe tbody tr th:only-of-type {\n",
              "        vertical-align: middle;\n",
              "    }\n",
              "\n",
              "    .dataframe tbody tr th {\n",
              "        vertical-align: top;\n",
              "    }\n",
              "\n",
              "    .dataframe thead th {\n",
              "        text-align: right;\n",
              "    }\n",
              "</style>\n",
              "<table border=\"1\" class=\"dataframe\">\n",
              "  <thead>\n",
              "    <tr style=\"text-align: right;\">\n",
              "      <th></th>\n",
              "      <th>Rented Bike Count</th>\n",
              "      <th>Hour</th>\n",
              "      <th>Temperature</th>\n",
              "      <th>Humidity(%)</th>\n",
              "      <th>Wind speed (m/s)</th>\n",
              "      <th>Visibility (10m)</th>\n",
              "      <th>Solar Radiation (MJ/m2)</th>\n",
              "      <th>Rainfall(mm)</th>\n",
              "      <th>Seasons_Autumn</th>\n",
              "      <th>Seasons_Spring</th>\n",
              "    </tr>\n",
              "  </thead>\n",
              "  <tbody>\n",
              "    <tr>\n",
              "      <th>0</th>\n",
              "      <td>1.0</td>\n",
              "      <td>0.0</td>\n",
              "      <td>0.0</td>\n",
              "      <td>0.0</td>\n",
              "      <td>1.0</td>\n",
              "      <td>0.0</td>\n",
              "      <td>0.0</td>\n",
              "      <td>0.0</td>\n",
              "      <td>1.0</td>\n",
              "      <td>0.0</td>\n",
              "    </tr>\n",
              "    <tr>\n",
              "      <th>1</th>\n",
              "      <td>0.0</td>\n",
              "      <td>1.0</td>\n",
              "      <td>1.0</td>\n",
              "      <td>1.0</td>\n",
              "      <td>0.0</td>\n",
              "      <td>0.0</td>\n",
              "      <td>0.0</td>\n",
              "      <td>0.0</td>\n",
              "      <td>0.0</td>\n",
              "      <td>1.0</td>\n",
              "    </tr>\n",
              "  </tbody>\n",
              "</table>\n",
              "</div>"
            ],
            "text/plain": [
              "   Rented Bike Count  Hour  Temperature  Humidity(%)  Wind speed (m/s)  \\\n",
              "0                1.0   0.0          0.0          0.0               1.0   \n",
              "1                0.0   1.0          1.0          1.0               0.0   \n",
              "\n",
              "   Visibility (10m)  Solar Radiation (MJ/m2)  Rainfall(mm)  Seasons_Autumn  \\\n",
              "0               0.0                      0.0           0.0             1.0   \n",
              "1               0.0                      0.0           0.0             0.0   \n",
              "\n",
              "   Seasons_Spring  \n",
              "0             0.0  \n",
              "1             1.0  "
            ]
          },
          "execution_count": 141,
          "metadata": {},
          "output_type": "execute_result"
        }
      ],
      "source": [
        "example_df = pre_processing(df=example_df, remove_outliers=False)\n",
        "example_df['Seasons_Summer'] = [0.0, 0.0] # Seasons_Summer e Seasons_Winter não são criados automaticamente pelo OneHotEncoder\n",
        "example_df['Seasons_Winter'] = [0.0, 0.0]\n",
        "example_df.drop(least_important_features, axis=1, inplace=True)\n",
        "example_df.head()\n",
        "\n",
        "# TODO: consertar discrepância entre análise da árvore e valores preditos"
      ]
    },
    {
      "cell_type": "markdown",
      "metadata": {
        "id": "eFFuX6sHymWA"
      },
      "source": [
        "# **Inferência e Verificação**\n",
        "\n",
        "Realize uma inferência utilizando esses dois exemplos fictícios no modelo treinado. Verifique se os resultados obtidos na inferência correspondem aos valores do target que você imaginou ao criar os exemplos."
      ]
    },
    {
      "cell_type": "code",
      "execution_count": 142,
      "metadata": {
        "id": "mecU7qjQyoVD"
      },
      "outputs": [
        {
          "data": {
            "text/plain": [
              "array([0.12528121, 0.20066242])"
            ]
          },
          "execution_count": 142,
          "metadata": {},
          "output_type": "execute_result"
        }
      ],
      "source": [
        "regressor.predict(example_df.drop('Rented Bike Count', axis=1))"
      ]
    },
    {
      "cell_type": "markdown",
      "metadata": {
        "id": "mQnNRgA4HHcQ"
      },
      "source": [
        "# **Treine e Teste o Modelo de KNN**\n",
        "\n",
        "Treinar três versões diferentes do modelo K-Nearest Neighbors (KNN) utilizando valores variados para o parâmetro K.\n",
        "\n",
        "**Dica:**\n",
        "- Busque pela função `KNeighborsRegressor(n_neighbors=?)` da biblioteca `scikitlearn`"
      ]
    },
    {
      "cell_type": "code",
      "execution_count": 143,
      "metadata": {
        "id": "oJT4kST_HlMN"
      },
      "outputs": [],
      "source": [
        "k_values = [3, 5, 7]\n",
        "knn_models = []\n",
        "\n",
        "for k in k_values:\n",
        "    regressor = KNeighborsRegressor(n_neighbors=k)\n",
        "    regressor.fit(X_train, y_train)\n",
        "    y_val_pred = regressor.predict(X_val)\n",
        "\n",
        "    knn_models.append({ \n",
        "        'model': regressor,\n",
        "        'k': k,\n",
        "        'pred': y_val_pred\n",
        "    })"
      ]
    },
    {
      "cell_type": "markdown",
      "metadata": {
        "id": "v8c5SUGSHHg5"
      },
      "source": [
        "# **Avaliação do Modelo**\n",
        "\n",
        "Neste momento, é importante avaliar cada um dos modelos gerados utilizando o **dataset de validação**. Apresente as métricas de erro quadrático médio (MSE), erro absoluto médio (MAE), e coeficiente de determinação (R²) para cada modelo.\n",
        "\n",
        "**Dica:**\n",
        "\n",
        "- Você pode usar a função `mean_squared_error()` da biblioteca `scikitlearn.metrics` e, para calcular as demais métricas do modelo, busque pelas funções `mean_absolute_error()` e `r2_score()`."
      ]
    },
    {
      "cell_type": "code",
      "execution_count": 144,
      "metadata": {
        "id": "VsEaU1iVHlin"
      },
      "outputs": [
        {
          "name": "stdout",
          "output_type": "stream",
          "text": [
            "KNN with 3 neighbors:\n",
            "• MSE: 0.010511481738355428\n",
            "• MAE: 0.06646620617562717\n",
            "• R2: 0.6286712057560528\n",
            "\n",
            "KNN with 5 neighbors:\n",
            "• MSE: 0.01001743988170583\n",
            "• MAE: 0.06660813891268011\n",
            "• R2: 0.6461237373307724\n",
            "\n",
            "KNN with 7 neighbors:\n",
            "• MSE: 0.010149386281144292\n",
            "• MAE: 0.0674669505991953\n",
            "• R2: 0.6414625964347621\n",
            "\n"
          ]
        }
      ],
      "source": [
        "for knn in knn_models:\n",
        "    knn['MSE'] = mean_squared_error(y_val, knn['pred'])\n",
        "    knn['MAE'] = mean_absolute_error(y_val, knn['pred'])\n",
        "    knn['R2'] = r2_score(y_val, knn['pred'])\n",
        "\n",
        "    print(f'KNN with {knn[\"k\"]} neighbors:')\n",
        "    print(f'• MSE: {knn[\"MSE\"]}')\n",
        "    print(f'• MAE: {knn[\"MAE\"]}')\n",
        "    print(f'• R2: {knn[\"R2\"]}\\n')"
      ]
    },
    {
      "cell_type": "markdown",
      "metadata": {
        "id": "a7kF50u5HHek"
      },
      "source": [
        "# **Escolha do melhor modelo**\n",
        "\n",
        "Selecione o melhor modelo até agora com base no desempenho no conjunto de validação (KNN ou a Árvore de Decisão; a avaliação determinará a escolha) e avalie-o no **conjunto de** **teste**."
      ]
    },
    {
      "cell_type": "code",
      "execution_count": 145,
      "metadata": {
        "id": "RnIKiEbVcVrj"
      },
      "outputs": [
        {
          "name": "stdout",
          "output_type": "stream",
          "text": [
            "Best tree (depth 6):\n",
            "• MSE: 0.009234647495865372\n",
            "• MAE: 0.06219754520600927\n",
            "• R2: 0.6737766753287371\n",
            "\n",
            "Best KNN (5 neighbors):\n",
            "• MSE: 0.01001743988170583\n",
            "• MAE: 0.06660813891268011\n",
            "• R2: 0.6461237373307724\n",
            "\n",
            "The best model is the tree of depth 6\n",
            "\n"
          ]
        }
      ],
      "source": [
        "best_tree = trees[1]\n",
        "print(f'Best tree (depth {best_tree[\"depth\"]}):')\n",
        "print(f'• MSE: {best_tree[\"MSE\"]}')\n",
        "print(f'• MAE: {best_tree[\"MAE\"]}')\n",
        "print(f'• R2: {best_tree[\"R2\"]}\\n')\n",
        "\n",
        "best_knn = knn_models[1]\n",
        "print(f'Best KNN ({best_knn[\"k\"]} neighbors):')\n",
        "print(f'• MSE: {best_knn[\"MSE\"]}')\n",
        "print(f'• MAE: {best_knn[\"MAE\"]}')\n",
        "print(f'• R2: {best_knn[\"R2\"]}\\n')\n",
        "\n",
        "print(f'The best model is the tree of depth {best_tree[\"depth\"]}\\n')"
      ]
    },
    {
      "cell_type": "code",
      "execution_count": 146,
      "metadata": {},
      "outputs": [],
      "source": [
        "y_test_pred = regressor.predict(X_test)"
      ]
    },
    {
      "cell_type": "markdown",
      "metadata": {
        "id": "Y7XxfLHDHHix"
      },
      "source": [
        "# **Mostre uma análise comparativa entre validação e teste para o modelo escolhido**\n",
        "\n",
        "**Observação:** Se houver uma discrepância muito grande nos resultados, algo pode estar errado, verifique seu treinamento e avaliação do modelo."
      ]
    },
    {
      "cell_type": "code",
      "execution_count": 147,
      "metadata": {
        "id": "lw5kNfWjHmQi"
      },
      "outputs": [
        {
          "name": "stdout",
          "output_type": "stream",
          "text": [
            "Validation set predictions:\n",
            "• MSE: 0.009234647495865372\n",
            "• MAE: 0.06219754520600927\n",
            "• R2: 0.6737766753287371\n",
            "\n",
            "Test set predictions:\n",
            "• MSE: 0.010188425813187218\n",
            "• MAE: 0.06653389180286821\n",
            "• R2: 0.640981830667199\n",
            "\n"
          ]
        }
      ],
      "source": [
        "print('Validation set predictions:')\n",
        "print(f'• MSE: {best_tree[\"MSE\"]}')\n",
        "print(f'• MAE: {best_tree[\"MAE\"]}')\n",
        "print(f'• R2: {best_tree[\"R2\"]}\\n')\n",
        "\n",
        "print('Test set predictions:')\n",
        "print(f'• MSE: {mean_squared_error(y_test, y_test_pred)}')\n",
        "print(f'• MAE: {mean_absolute_error(y_test, y_test_pred)}')\n",
        "print(f'• R2: {r2_score(y_test, y_test_pred)}\\n')"
      ]
    }
  ],
  "metadata": {
    "colab": {
      "provenance": []
    },
    "kernelspec": {
      "display_name": "venv",
      "language": "python",
      "name": "python3"
    },
    "language_info": {
      "codemirror_mode": {
        "name": "ipython",
        "version": 3
      },
      "file_extension": ".py",
      "mimetype": "text/x-python",
      "name": "python",
      "nbconvert_exporter": "python",
      "pygments_lexer": "ipython3",
      "version": "3.11.7"
    }
  },
  "nbformat": 4,
  "nbformat_minor": 0
}
