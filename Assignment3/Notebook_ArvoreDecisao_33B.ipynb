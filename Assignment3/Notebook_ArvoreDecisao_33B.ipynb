{
  "cells": [
    {
      "cell_type": "markdown",
      "metadata": {
        "id": "_55Dkof4qEBc"
      },
      "source": [
        "# **Tarefa 3 - Árvore de decisão**\n",
        "\n",
        "#### **Dicas:**\n",
        "\n",
        "- Tutorial para iniciantes em Python: https://www.datacamp.com/cheat-sheet/getting-started-with-python-cheat-sheet\n",
        "\n",
        "- Documentação do pandas: https://colab.research.google.com/drive/1a4sbKG7jOJGn4oeonQPA8XjJm7OYgcdX\n",
        "\n",
        "- Documentação do scikit-learn: https://scikit-learn.org/stable/\n",
        "\n",
        "- Documentação do matplotlib: https://matplotlib.org/stable/index.html\n",
        "\n",
        "- Documentação do seaborn: https://seaborn.pydata.org/tutorial.html\n",
        "\n",
        "---\n",
        "## **Dataset:**\n",
        "\n",
        "Nesse dataset os dados estão relacionados com campanhas de marketing direto (telefonemas) de uma instituição bancária portuguesa. O objetivo da classificação é prever se o cliente irá subscrever um depósito a prazo (**feature y**).\n",
        "\n",
        "\n",
        "---\n",
        "\n",
        "\n",
        "**Colunas:**\n",
        "\n",
        "1 - **age**\n",
        "\n",
        "2 - **education**\n",
        "\n",
        "3 - **default**: tem crédito em atraso?\n",
        "\n",
        "4 - **balance**: saldo médio anual, em euros\n",
        "\n",
        "5 - **housing**: tem empréstimo para habitação?\n",
        "\n",
        "6 - **loan**: tem empréstimo pessoal?\n",
        "\n",
        "7 - **contact**: tipo de comunicação de contato\n",
        "\n",
        "8 - **day**: último dia de contato do mês\n",
        "\n",
        "9 - **month**: último mês de contato do ano\n",
        "\n",
        "10 - **campaign**: número de contatos realizados durante esta campanha e para este cliente\n",
        "\n",
        "11 - **previous**: número de contatos realizados antes desta campanha e para este cliente\n",
        "\n",
        "12 - **poutcome**: resultado da campanha de marketing anterior\n",
        "\n",
        "13 - **y** - o cliente subscreveu um depósito a prazo?"
      ]
    },
    {
      "cell_type": "markdown",
      "metadata": {
        "id": "R5SImmMsxFN4"
      },
      "source": [
        "## **Importe os pacotes**"
      ]
    },
    {
      "cell_type": "code",
      "execution_count": 42,
      "metadata": {
        "id": "wbUpEefdqC7D"
      },
      "outputs": [],
      "source": [
        "import pandas as pd\n",
        "import numpy as np\n",
        "import matplotlib.pyplot as plt\n",
        "import seaborn as sns\n",
        "from sklearn.model_selection import train_test_split, cross_val_score\n",
        "from sklearn.preprocessing import MinMaxScaler, OrdinalEncoder, LabelEncoder, OneHotEncoder\n",
        "from sklearn.tree import DecisionTreeClassifier\n",
        "from sklearn.metrics import accuracy_score, confusion_matrix , recall_score, precision_score, f1_score\n"
      ]
    },
    {
      "cell_type": "markdown",
      "metadata": {
        "id": "0M5Q1zWOxNYI"
      },
      "source": [
        "## **Crie os datasets**\n",
        "### **Crie um DataFrame a partir do arquivo de dados disponibilizados no EaD**\n",
        "\n",
        "**Dicas:**\n",
        "\n",
        "* Certifique-se que os arquivos a serem lidos estão carregados na sua sessão do Colab, ou em um drive previamente montado, e ajuste o comando para incluir todo o caminho até cada um dos arquivos a serem lidos."
      ]
    },
    {
      "cell_type": "code",
      "execution_count": 43,
      "metadata": {
        "id": "a5xg9e7fsnGi"
      },
      "outputs": [
        {
          "name": "stdout",
          "output_type": "stream",
          "text": [
            "   age  education default  balance housing loan   contact  day month  \\\n",
            "0   23  secondary      no      567     yes  yes  cellular   15   may   \n",
            "1   35  secondary      no        0     yes   no  cellular   17   apr   \n",
            "2   42  secondary      no      400     yes   no  cellular    3   feb   \n",
            "3   35    primary      no      793     yes   no  cellular   17   apr   \n",
            "4   45  secondary      no     1723      no   no  cellular    1   jun   \n",
            "\n",
            "   campaign  previous poutcome    y  \n",
            "0         1         0    other   no  \n",
            "1         1         0    other   no  \n",
            "2         5         6  failure   no  \n",
            "3         1         0    other   no  \n",
            "4         2         0    other  yes  \n",
            "education\n",
            "secondary    3967\n",
            "tertiary     3055\n",
            "primary      1012\n",
            "unknown       356\n",
            "Name: count, dtype: int64\n",
            "month\n",
            "aug    1429\n",
            "jul    1393\n",
            "may    1321\n",
            "apr     891\n",
            "nov     859\n",
            "feb     736\n",
            "jun     405\n",
            "oct     363\n",
            "jan     304\n",
            "sep     301\n",
            "mar     271\n",
            "dec     117\n",
            "Name: count, dtype: int64\n",
            "['cellular' 'telephone']\n",
            "poutcome\n",
            "other      6181\n",
            "failure    1166\n",
            "success    1043\n",
            "Name: count, dtype: int64\n",
            "y\n",
            "yes    4759\n",
            "no     3631\n",
            "Name: count, dtype: int64\n"
          ]
        },
        {
          "data": {
            "text/html": [
              "<div>\n",
              "<style scoped>\n",
              "    .dataframe tbody tr th:only-of-type {\n",
              "        vertical-align: middle;\n",
              "    }\n",
              "\n",
              "    .dataframe tbody tr th {\n",
              "        vertical-align: top;\n",
              "    }\n",
              "\n",
              "    .dataframe thead th {\n",
              "        text-align: right;\n",
              "    }\n",
              "</style>\n",
              "<table border=\"1\" class=\"dataframe\">\n",
              "  <thead>\n",
              "    <tr style=\"text-align: right;\">\n",
              "      <th></th>\n",
              "      <th>age</th>\n",
              "      <th>balance</th>\n",
              "      <th>day</th>\n",
              "      <th>campaign</th>\n",
              "      <th>previous</th>\n",
              "    </tr>\n",
              "  </thead>\n",
              "  <tbody>\n",
              "    <tr>\n",
              "      <th>count</th>\n",
              "      <td>8390.000000</td>\n",
              "      <td>8390.000000</td>\n",
              "      <td>8390.000000</td>\n",
              "      <td>8390.000000</td>\n",
              "      <td>8390.000000</td>\n",
              "    </tr>\n",
              "    <tr>\n",
              "      <th>mean</th>\n",
              "      <td>41.540167</td>\n",
              "      <td>1639.136949</td>\n",
              "      <td>15.557688</td>\n",
              "      <td>2.413468</td>\n",
              "      <td>1.050894</td>\n",
              "    </tr>\n",
              "    <tr>\n",
              "      <th>std</th>\n",
              "      <td>12.551213</td>\n",
              "      <td>3388.213746</td>\n",
              "      <td>8.389036</td>\n",
              "      <td>2.413275</td>\n",
              "      <td>2.510706</td>\n",
              "    </tr>\n",
              "    <tr>\n",
              "      <th>min</th>\n",
              "      <td>18.000000</td>\n",
              "      <td>-3058.000000</td>\n",
              "      <td>1.000000</td>\n",
              "      <td>1.000000</td>\n",
              "      <td>0.000000</td>\n",
              "    </tr>\n",
              "    <tr>\n",
              "      <th>25%</th>\n",
              "      <td>32.000000</td>\n",
              "      <td>139.000000</td>\n",
              "      <td>8.000000</td>\n",
              "      <td>1.000000</td>\n",
              "      <td>0.000000</td>\n",
              "    </tr>\n",
              "    <tr>\n",
              "      <th>50%</th>\n",
              "      <td>39.000000</td>\n",
              "      <td>592.000000</td>\n",
              "      <td>15.000000</td>\n",
              "      <td>2.000000</td>\n",
              "      <td>0.000000</td>\n",
              "    </tr>\n",
              "    <tr>\n",
              "      <th>75%</th>\n",
              "      <td>50.000000</td>\n",
              "      <td>1853.000000</td>\n",
              "      <td>22.000000</td>\n",
              "      <td>3.000000</td>\n",
              "      <td>1.000000</td>\n",
              "    </tr>\n",
              "    <tr>\n",
              "      <th>max</th>\n",
              "      <td>95.000000</td>\n",
              "      <td>81204.000000</td>\n",
              "      <td>31.000000</td>\n",
              "      <td>43.000000</td>\n",
              "      <td>58.000000</td>\n",
              "    </tr>\n",
              "  </tbody>\n",
              "</table>\n",
              "</div>"
            ],
            "text/plain": [
              "               age       balance          day     campaign     previous\n",
              "count  8390.000000   8390.000000  8390.000000  8390.000000  8390.000000\n",
              "mean     41.540167   1639.136949    15.557688     2.413468     1.050894\n",
              "std      12.551213   3388.213746     8.389036     2.413275     2.510706\n",
              "min      18.000000  -3058.000000     1.000000     1.000000     0.000000\n",
              "25%      32.000000    139.000000     8.000000     1.000000     0.000000\n",
              "50%      39.000000    592.000000    15.000000     2.000000     0.000000\n",
              "75%      50.000000   1853.000000    22.000000     3.000000     1.000000\n",
              "max      95.000000  81204.000000    31.000000    43.000000    58.000000"
            ]
          },
          "execution_count": 43,
          "metadata": {},
          "output_type": "execute_result"
        }
      ],
      "source": [
        "df = pd.read_csv(\"bank.csv\")\n",
        "print(df.head())\n",
        "print(df.education.value_counts())\n",
        "print(df.month.value_counts())\n",
        "print(df.contact.unique())\n",
        "print(df.poutcome.value_counts())\n",
        "print(df.y.value_counts())\n",
        "\n",
        "df.describe()"
      ]
    },
    {
      "cell_type": "markdown",
      "metadata": {
        "id": "Y4_QCv_y0PZ_"
      },
      "source": [
        "# **Pré-processamento**\n",
        "\n",
        "Utilize o conhecimento adquirido nos exercícios anteriores para realizar o pré-processamento desta base de dados, incluindo normalização, tratamento de features categóricas e manipulação de valores nulos."
      ]
    },
    {
      "cell_type": "code",
      "execution_count": 44,
      "metadata": {
        "id": "AD4rygHNjTJG"
      },
      "outputs": [
        {
          "data": {
            "text/html": [
              "<div>\n",
              "<style scoped>\n",
              "    .dataframe tbody tr th:only-of-type {\n",
              "        vertical-align: middle;\n",
              "    }\n",
              "\n",
              "    .dataframe tbody tr th {\n",
              "        vertical-align: top;\n",
              "    }\n",
              "\n",
              "    .dataframe thead th {\n",
              "        text-align: right;\n",
              "    }\n",
              "</style>\n",
              "<table border=\"1\" class=\"dataframe\">\n",
              "  <thead>\n",
              "    <tr style=\"text-align: right;\">\n",
              "      <th></th>\n",
              "      <th>age</th>\n",
              "      <th>education</th>\n",
              "      <th>default</th>\n",
              "      <th>balance</th>\n",
              "      <th>housing</th>\n",
              "      <th>loan</th>\n",
              "      <th>contact</th>\n",
              "      <th>day</th>\n",
              "      <th>month</th>\n",
              "      <th>campaign</th>\n",
              "      <th>previous</th>\n",
              "      <th>y</th>\n",
              "      <th>poutcome_failure</th>\n",
              "      <th>poutcome_other</th>\n",
              "      <th>poutcome_success</th>\n",
              "    </tr>\n",
              "  </thead>\n",
              "  <tbody>\n",
              "    <tr>\n",
              "      <th>0</th>\n",
              "      <td>0.086207</td>\n",
              "      <td>0.5</td>\n",
              "      <td>0.0</td>\n",
              "      <td>0.399937</td>\n",
              "      <td>1.0</td>\n",
              "      <td>1.0</td>\n",
              "      <td>0.0</td>\n",
              "      <td>0.466667</td>\n",
              "      <td>0.000000</td>\n",
              "      <td>0.00</td>\n",
              "      <td>0.0</td>\n",
              "      <td>0.0</td>\n",
              "      <td>0.0</td>\n",
              "      <td>1.0</td>\n",
              "      <td>0.0</td>\n",
              "    </tr>\n",
              "    <tr>\n",
              "      <th>1</th>\n",
              "      <td>0.293103</td>\n",
              "      <td>0.5</td>\n",
              "      <td>0.0</td>\n",
              "      <td>0.310378</td>\n",
              "      <td>1.0</td>\n",
              "      <td>0.0</td>\n",
              "      <td>0.0</td>\n",
              "      <td>0.533333</td>\n",
              "      <td>0.090909</td>\n",
              "      <td>0.00</td>\n",
              "      <td>0.0</td>\n",
              "      <td>0.0</td>\n",
              "      <td>0.0</td>\n",
              "      <td>1.0</td>\n",
              "      <td>0.0</td>\n",
              "    </tr>\n",
              "    <tr>\n",
              "      <th>2</th>\n",
              "      <td>0.293103</td>\n",
              "      <td>0.0</td>\n",
              "      <td>0.0</td>\n",
              "      <td>0.435634</td>\n",
              "      <td>1.0</td>\n",
              "      <td>0.0</td>\n",
              "      <td>0.0</td>\n",
              "      <td>0.533333</td>\n",
              "      <td>0.090909</td>\n",
              "      <td>0.00</td>\n",
              "      <td>0.0</td>\n",
              "      <td>0.0</td>\n",
              "      <td>0.0</td>\n",
              "      <td>1.0</td>\n",
              "      <td>0.0</td>\n",
              "    </tr>\n",
              "    <tr>\n",
              "      <th>3</th>\n",
              "      <td>0.465517</td>\n",
              "      <td>0.5</td>\n",
              "      <td>0.0</td>\n",
              "      <td>0.582530</td>\n",
              "      <td>0.0</td>\n",
              "      <td>0.0</td>\n",
              "      <td>0.0</td>\n",
              "      <td>0.000000</td>\n",
              "      <td>0.272727</td>\n",
              "      <td>0.25</td>\n",
              "      <td>0.0</td>\n",
              "      <td>1.0</td>\n",
              "      <td>0.0</td>\n",
              "      <td>1.0</td>\n",
              "      <td>0.0</td>\n",
              "    </tr>\n",
              "    <tr>\n",
              "      <th>4</th>\n",
              "      <td>0.637931</td>\n",
              "      <td>1.0</td>\n",
              "      <td>0.0</td>\n",
              "      <td>0.361396</td>\n",
              "      <td>1.0</td>\n",
              "      <td>1.0</td>\n",
              "      <td>0.0</td>\n",
              "      <td>0.400000</td>\n",
              "      <td>0.000000</td>\n",
              "      <td>0.00</td>\n",
              "      <td>0.0</td>\n",
              "      <td>0.0</td>\n",
              "      <td>0.0</td>\n",
              "      <td>1.0</td>\n",
              "      <td>0.0</td>\n",
              "    </tr>\n",
              "    <tr>\n",
              "      <th>5</th>\n",
              "      <td>0.413793</td>\n",
              "      <td>0.5</td>\n",
              "      <td>0.0</td>\n",
              "      <td>0.344969</td>\n",
              "      <td>1.0</td>\n",
              "      <td>1.0</td>\n",
              "      <td>0.0</td>\n",
              "      <td>0.200000</td>\n",
              "      <td>0.363636</td>\n",
              "      <td>0.50</td>\n",
              "      <td>0.0</td>\n",
              "      <td>0.0</td>\n",
              "      <td>0.0</td>\n",
              "      <td>1.0</td>\n",
              "      <td>0.0</td>\n",
              "    </tr>\n",
              "    <tr>\n",
              "      <th>6</th>\n",
              "      <td>0.103448</td>\n",
              "      <td>0.5</td>\n",
              "      <td>0.0</td>\n",
              "      <td>0.336756</td>\n",
              "      <td>0.0</td>\n",
              "      <td>1.0</td>\n",
              "      <td>0.0</td>\n",
              "      <td>0.800000</td>\n",
              "      <td>0.000000</td>\n",
              "      <td>0.00</td>\n",
              "      <td>1.0</td>\n",
              "      <td>1.0</td>\n",
              "      <td>0.0</td>\n",
              "      <td>0.0</td>\n",
              "      <td>1.0</td>\n",
              "    </tr>\n",
              "    <tr>\n",
              "      <th>7</th>\n",
              "      <td>0.500000</td>\n",
              "      <td>0.5</td>\n",
              "      <td>0.0</td>\n",
              "      <td>0.352393</td>\n",
              "      <td>0.0</td>\n",
              "      <td>0.0</td>\n",
              "      <td>0.0</td>\n",
              "      <td>0.600000</td>\n",
              "      <td>0.363636</td>\n",
              "      <td>0.00</td>\n",
              "      <td>0.0</td>\n",
              "      <td>0.0</td>\n",
              "      <td>0.0</td>\n",
              "      <td>1.0</td>\n",
              "      <td>0.0</td>\n",
              "    </tr>\n",
              "    <tr>\n",
              "      <th>8</th>\n",
              "      <td>0.517241</td>\n",
              "      <td>0.5</td>\n",
              "      <td>0.0</td>\n",
              "      <td>0.348918</td>\n",
              "      <td>1.0</td>\n",
              "      <td>1.0</td>\n",
              "      <td>0.0</td>\n",
              "      <td>0.033333</td>\n",
              "      <td>0.181818</td>\n",
              "      <td>0.00</td>\n",
              "      <td>0.0</td>\n",
              "      <td>0.0</td>\n",
              "      <td>0.0</td>\n",
              "      <td>1.0</td>\n",
              "      <td>0.0</td>\n",
              "    </tr>\n",
              "    <tr>\n",
              "      <th>9</th>\n",
              "      <td>0.724138</td>\n",
              "      <td>1.0</td>\n",
              "      <td>0.0</td>\n",
              "      <td>0.714263</td>\n",
              "      <td>1.0</td>\n",
              "      <td>0.0</td>\n",
              "      <td>0.0</td>\n",
              "      <td>0.033333</td>\n",
              "      <td>0.181818</td>\n",
              "      <td>0.00</td>\n",
              "      <td>0.0</td>\n",
              "      <td>1.0</td>\n",
              "      <td>0.0</td>\n",
              "      <td>1.0</td>\n",
              "      <td>0.0</td>\n",
              "    </tr>\n",
              "  </tbody>\n",
              "</table>\n",
              "</div>"
            ],
            "text/plain": [
              "        age  education  default   balance  housing  loan  contact       day  \\\n",
              "0  0.086207        0.5      0.0  0.399937      1.0   1.0      0.0  0.466667   \n",
              "1  0.293103        0.5      0.0  0.310378      1.0   0.0      0.0  0.533333   \n",
              "2  0.293103        0.0      0.0  0.435634      1.0   0.0      0.0  0.533333   \n",
              "3  0.465517        0.5      0.0  0.582530      0.0   0.0      0.0  0.000000   \n",
              "4  0.637931        1.0      0.0  0.361396      1.0   1.0      0.0  0.400000   \n",
              "5  0.413793        0.5      0.0  0.344969      1.0   1.0      0.0  0.200000   \n",
              "6  0.103448        0.5      0.0  0.336756      0.0   1.0      0.0  0.800000   \n",
              "7  0.500000        0.5      0.0  0.352393      0.0   0.0      0.0  0.600000   \n",
              "8  0.517241        0.5      0.0  0.348918      1.0   1.0      0.0  0.033333   \n",
              "9  0.724138        1.0      0.0  0.714263      1.0   0.0      0.0  0.033333   \n",
              "\n",
              "      month  campaign  previous    y  poutcome_failure  poutcome_other  \\\n",
              "0  0.000000      0.00       0.0  0.0               0.0             1.0   \n",
              "1  0.090909      0.00       0.0  0.0               0.0             1.0   \n",
              "2  0.090909      0.00       0.0  0.0               0.0             1.0   \n",
              "3  0.272727      0.25       0.0  1.0               0.0             1.0   \n",
              "4  0.000000      0.00       0.0  0.0               0.0             1.0   \n",
              "5  0.363636      0.50       0.0  0.0               0.0             1.0   \n",
              "6  0.000000      0.00       1.0  1.0               0.0             0.0   \n",
              "7  0.363636      0.00       0.0  0.0               0.0             1.0   \n",
              "8  0.181818      0.00       0.0  0.0               0.0             1.0   \n",
              "9  0.181818      0.00       0.0  1.0               0.0             1.0   \n",
              "\n",
              "   poutcome_success  \n",
              "0               0.0  \n",
              "1               0.0  \n",
              "2               0.0  \n",
              "3               0.0  \n",
              "4               0.0  \n",
              "5               0.0  \n",
              "6               1.0  \n",
              "7               0.0  \n",
              "8               0.0  \n",
              "9               0.0  "
            ]
          },
          "execution_count": 44,
          "metadata": {},
          "output_type": "execute_result"
        }
      ],
      "source": [
        "def pre_process(df):\n",
        "    # treating outliers\n",
        "    for column in ['age', 'balance', 'day', 'campaign', 'previous']:\n",
        "        Q1 = df[column].quantile(0.25)\n",
        "        Q3 = df[column].quantile(0.75)\n",
        "        IQR = Q3 - Q1\n",
        "        df = df[(df[column] < (Q3 + 1.5 * IQR)) & (df[column] > (Q1 - 1.5 * IQR))]\n",
        "\n",
        "\n",
        "    df[df['y'] == 'no']['education'].value_counts() # it's the same for both\n",
        "    df.loc[df['education'] == 'unknown', 'education'] = 'secondary'\n",
        "\n",
        "    oe_education = OrdinalEncoder(categories = [['primary', 'secondary', 'tertiary']])\n",
        "    oe_month = OrdinalEncoder(categories = [['may', 'apr', 'feb', 'jun', 'aug', 'jul', 'nov', 'sep', 'oct', 'jan', 'dec', 'mar']])\n",
        "\n",
        "    df['education'] = oe_education.fit_transform(df[['education']])\n",
        "    df['month'] = oe_month.fit_transform(df[['month']])\n",
        "\n",
        "    le_default = LabelEncoder()\n",
        "    le_housing = LabelEncoder()\n",
        "    le_loan = LabelEncoder()\n",
        "    le_contact = LabelEncoder() # result of using OneHotEncoder would be the same, as there are only two possible values\n",
        "    le_y = LabelEncoder()\n",
        "\n",
        "    df['default'] = le_default.fit_transform(df['default'])\n",
        "    df['housing'] = le_default.fit_transform(df['housing'])\n",
        "    df['loan'] = le_default.fit_transform(df['loan'])\n",
        "    df['contact'] = le_contact.fit_transform(df['contact'])\n",
        "    df['y'] = le_y.fit_transform(df['y'])\n",
        "\n",
        "    ohe = OneHotEncoder(sparse_output=False)\n",
        "    poutcome = ohe.fit_transform(df[['poutcome']])\n",
        "    df_poutcome = pd.DataFrame(poutcome, columns=ohe.get_feature_names_out(['poutcome']))\n",
        "    df.drop(columns=['poutcome'], axis = 1, inplace = True)\n",
        "    df.reset_index(drop=True, inplace=True)\n",
        "    df_poutcome.reset_index(drop=True, inplace=True)\n",
        "    df = pd.concat([df, df_poutcome], axis = 1)\n",
        "\n",
        "    scaler = MinMaxScaler()\n",
        "    df[df.columns] = scaler.fit_transform(df[df.columns])\n",
        "    return df\n",
        "\n",
        "df = pre_process(df)\n",
        "df.head(10)"
      ]
    },
    {
      "cell_type": "markdown",
      "metadata": {
        "id": "niK2Ow3m0liO"
      },
      "source": [
        "# **Criação de Conjuntos de Treinamento, Teste e Validação**\n",
        "\n",
        "Divida os dados em conjuntos de treino, validação e teste. Para isso, selecione aleatoriamente 70% dos registros, sem reposição, para o conjunto de treinamento. Os 30% restantes deverão ser divididos igualmente entre os conjuntos de validação e teste.\n",
        "\n",
        "Dicas:\n",
        "- Fixe a semente de geração de dados aleatórios, utilize o comando `np.random.seed(escolha um número)`, antes de executar qualquer célula de comando que possa variar de valor resultante toda vez que for executada.\n",
        "\n",
        "- Para fazer a divisão de treino, validação, teste use a função `train_test_split()`"
      ]
    },
    {
      "cell_type": "code",
      "execution_count": 45,
      "metadata": {
        "id": "33TbzSbHxuw4"
      },
      "outputs": [],
      "source": [
        "np.random.seed(42)\n",
        "X = df.drop('y', axis=1)\n",
        "y = df['y']\n",
        "X_train, X_temp, y_train, y_temp = train_test_split(X, y, test_size=0.30)\n",
        "X_val, X_test, y_val, y_test = train_test_split(X_temp, y_temp, test_size=0.5)"
      ]
    },
    {
      "cell_type": "markdown",
      "metadata": {
        "id": "2sqPg3Gk0YvV"
      },
      "source": [
        "# **Treine e Teste o Modelo de Árvore de Decisão**\n",
        "\n",
        "Treinar três versões diferentes do modelo de Árvore de Decisão utilizando valores variados para a sua profundidade.\n",
        "\n",
        "**Dica:**\n",
        "\n",
        "- Busque pela função `DecisionTreeClassifier(max_depth=?)` da biblioteca scikitlearn"
      ]
    },
    {
      "cell_type": "code",
      "execution_count": 46,
      "metadata": {
        "collapsed": true,
        "id": "lOsH924Ryp9w"
      },
      "outputs": [],
      "source": [
        "depths = [3, 6, 9]\n",
        "metrics = {}\n",
        "trees = []\n",
        "\n",
        "for i, n in enumerate(depths):\n",
        "    trees.append({'model' : DecisionTreeClassifier(max_depth=n)})\n",
        "\n",
        "    trees[i]['model'].fit(X_train, y_train)\n",
        "    y_val_pred = trees[i]['model'].predict(X_val)\n",
        "    trees[i]['pred'] = y_val_pred\n"
      ]
    },
    {
      "cell_type": "markdown",
      "metadata": {
        "id": "UIfeMwqW9Oik"
      },
      "source": [
        "# **Escolha e Avaliação do Modelo**\n",
        "\n",
        "Neste momento, é importante avaliar cada um dos modelos gerados utilizando o **dataset de validação**. Apresente a matriz de confusão, bem como as métricas de acurácia, precisão, recall e F1-score para cada modelo. Após avaliá-los **escolha o melhor modelo**\n",
        "\n",
        "**Dica:**\n",
        "\n",
        "- Você pode usar a função `confusion_matrix(_, _)` da biblioteca `scikitlearn.metrics`\n",
        "- Para calcular as métricas do modelo busque pelas funções `accuracy_score()`, `recall_score()`, `precision_score()`, `f1_score()`"
      ]
    },
    {
      "cell_type": "code",
      "execution_count": 6,
      "metadata": {
        "id": "0QhASpshzCQv"
      },
      "outputs": [
        {
          "name": "stdout",
          "output_type": "stream",
          "text": [
            "Results for Decision Tree with depth = 3:\n",
            "Accuracy: 63.4009%\n",
            "Precision: 69.4989%\n",
            "Recall: 63.2937%\n",
            "F1 Score: 66.2513%\n"
          ]
        },
        {
          "data": {
            "image/png": "[encoded data removed]",
            "text/plain": [
              "<Figure size 600x400 with 2 Axes>"
            ]
          },
          "metadata": {},
          "output_type": "display_data"
        },
        {
          "name": "stdout",
          "output_type": "stream",
          "text": [
            "Results for Decision Tree with depth = 6:\n",
            "Accuracy: 64.7523%\n",
            "Precision: 74.8052%\n",
            "Recall: 57.1429%\n",
            "F1 Score: 64.7919%\n"
          ]
        },
        {
          "data": {
            "image/png": "[encoded data removed]",
            "text/plain": [
              "<Figure size 600x400 with 2 Axes>"
            ]
          },
          "metadata": {},
          "output_type": "display_data"
        },
        {
          "name": "stdout",
          "output_type": "stream",
          "text": [
            "Results for Decision Tree with depth = 9:\n",
            "Accuracy: 65.7658%\n",
            "Precision: 77.3224%\n",
            "Recall: 56.1508%\n",
            "F1 Score: 65.0575%\n"
          ]
        },
        {
          "data": {
            "image/png": "[encoded data removed]",
            "text/plain": [
              "<Figure size 600x400 with 2 Axes>"
            ]
          },
          "metadata": {},
          "output_type": "display_data"
        },
        {
          "name": "stdout",
          "output_type": "stream",
          "text": [
            "The best model is the Decision Tree with depth = 3, based on F1-score.\n"
          ]
        }
      ],
      "source": [
        "confusion_matrices = {}\n",
        "metrics = {}\n",
        "\n",
        "# Evaluate models on validation dataset\n",
        "for i, depth in enumerate(depths):\n",
        "    # Get the model trained with the current depth\n",
        "    tree = trees[i]['model']  # Access the 'model' key from the dictionary\n",
        "    \n",
        "    # Make predictions on the validation dataset\n",
        "    y_val_pred = tree.predict(X_val)\n",
        "    \n",
        "    # Get the correct labels for your dataset (e.g., 'yes', 'no' or [0, 1])\n",
        "    unique_labels = np.unique(y_val)\n",
        "    \n",
        "    # Compute confusion matrix with the actual labels\n",
        "    cm = confusion_matrix(y_val, y_val_pred, labels=unique_labels)\n",
        "    confusion_matrices[depth] = cm\n",
        "    \n",
        "    # Calculate accuracy, precision, recall, F1-score (adjust pos_label to match your positive class)\n",
        "    accuracy = accuracy_score(y_val, y_val_pred)\n",
        "    precision = precision_score(y_val, y_val_pred, pos_label=unique_labels[1])  # Adjust as needed\n",
        "    recall = recall_score(y_val, y_val_pred, pos_label=unique_labels[1])        # Adjust as needed\n",
        "    f1 = f1_score(y_val, y_val_pred, pos_label=unique_labels[1])                # Adjust as needed\n",
        "    \n",
        "    # Store the metrics for each depth\n",
        "    metrics[depth] = {\n",
        "        'accuracy': accuracy,\n",
        "        'precision': precision,\n",
        "        'recall': recall,\n",
        "        'f1': f1\n",
        "    }\n",
        "    \n",
        "    # Display the results\n",
        "    print(f\"Results for Decision Tree with depth = {depth}:\")\n",
        "    print(f\"Accuracy: {accuracy:.4%}\")\n",
        "    print(f\"Precision: {precision:.4%}\")\n",
        "    print(f\"Recall: {recall:.4%}\")\n",
        "    print(f\"F1 Score: {f1:.4%}\")\n",
        "\n",
        "    # Plot the confusion matrix\n",
        "    plt.figure(figsize=(6, 4))\n",
        "    sns.heatmap(cm, annot=True, fmt='d', cmap='Blues', xticklabels=unique_labels, yticklabels=unique_labels)\n",
        "    plt.title(f'Confusion Matrix for Depth = {depth}')\n",
        "    plt.xlabel('Predicted')\n",
        "    plt.ylabel('Actual')\n",
        "    plt.show()\n",
        "\n",
        "# Choose the best model based on F1-score (or any other metric)\n",
        "best_depth = max(metrics, key=lambda x: metrics[x]['f1'])\n",
        "best_model = trees[depths.index(best_depth)]['model']\n",
        "\n",
        "print(f\"The best model is the Decision Tree with depth = {best_depth}, based on F1-score.\")"
      ]
    },
    {
      "cell_type": "markdown",
      "metadata": {
        "id": "oX5MzDWA9d06"
      },
      "source": [
        "# **Feature Importance**\n",
        "\n",
        "Utilizando o melhor modelo gere o gráfico de importância das features para o modelo que obteve o melhor desempenho nos dados de validação. Em seguida, **remova as** **cinco** **features com menor importância e treine o modelo com o conjunto de treino novamente.**\n",
        "\n",
        "**Dica**\n",
        "\n",
        "- Utilize o método `.feature_importances_` da biblioteca `sklearn` para obter os valores de importância de cada feature.\n",
        "\n"
      ]
    },
    {
      "cell_type": "code",
      "execution_count": 7,
      "metadata": {},
      "outputs": [
        {
          "data": {
            "text/html": [
              "<div>\n",
              "<style scoped>\n",
              "    .dataframe tbody tr th:only-of-type {\n",
              "        vertical-align: middle;\n",
              "    }\n",
              "\n",
              "    .dataframe tbody tr th {\n",
              "        vertical-align: top;\n",
              "    }\n",
              "\n",
              "    .dataframe thead th {\n",
              "        text-align: right;\n",
              "    }\n",
              "</style>\n",
              "<table border=\"1\" class=\"dataframe\">\n",
              "  <thead>\n",
              "    <tr style=\"text-align: right;\">\n",
              "      <th></th>\n",
              "      <th>feature</th>\n",
              "      <th>value</th>\n",
              "    </tr>\n",
              "  </thead>\n",
              "  <tbody>\n",
              "    <tr>\n",
              "      <th>13</th>\n",
              "      <td>poutcome_success</td>\n",
              "      <td>0.263618</td>\n",
              "    </tr>\n",
              "    <tr>\n",
              "      <th>8</th>\n",
              "      <td>month</td>\n",
              "      <td>0.231133</td>\n",
              "    </tr>\n",
              "    <tr>\n",
              "      <th>3</th>\n",
              "      <td>balance</td>\n",
              "      <td>0.162817</td>\n",
              "    </tr>\n",
              "    <tr>\n",
              "      <th>7</th>\n",
              "      <td>day</td>\n",
              "      <td>0.151596</td>\n",
              "    </tr>\n",
              "    <tr>\n",
              "      <th>4</th>\n",
              "      <td>housing</td>\n",
              "      <td>0.134155</td>\n",
              "    </tr>\n",
              "    <tr>\n",
              "      <th>0</th>\n",
              "      <td>age</td>\n",
              "      <td>0.031324</td>\n",
              "    </tr>\n",
              "    <tr>\n",
              "      <th>5</th>\n",
              "      <td>loan</td>\n",
              "      <td>0.009759</td>\n",
              "    </tr>\n",
              "    <tr>\n",
              "      <th>10</th>\n",
              "      <td>previous</td>\n",
              "      <td>0.008029</td>\n",
              "    </tr>\n",
              "    <tr>\n",
              "      <th>2</th>\n",
              "      <td>default</td>\n",
              "      <td>0.004140</td>\n",
              "    </tr>\n",
              "    <tr>\n",
              "      <th>9</th>\n",
              "      <td>campaign</td>\n",
              "      <td>0.002128</td>\n",
              "    </tr>\n",
              "    <tr>\n",
              "      <th>1</th>\n",
              "      <td>education</td>\n",
              "      <td>0.001303</td>\n",
              "    </tr>\n",
              "    <tr>\n",
              "      <th>6</th>\n",
              "      <td>contact</td>\n",
              "      <td>0.000000</td>\n",
              "    </tr>\n",
              "    <tr>\n",
              "      <th>11</th>\n",
              "      <td>poutcome_failure</td>\n",
              "      <td>0.000000</td>\n",
              "    </tr>\n",
              "    <tr>\n",
              "      <th>12</th>\n",
              "      <td>poutcome_other</td>\n",
              "      <td>0.000000</td>\n",
              "    </tr>\n",
              "  </tbody>\n",
              "</table>\n",
              "</div>"
            ],
            "text/plain": [
              "             feature     value\n",
              "13  poutcome_success  0.263618\n",
              "8              month  0.231133\n",
              "3            balance  0.162817\n",
              "7                day  0.151596\n",
              "4            housing  0.134155\n",
              "0                age  0.031324\n",
              "5               loan  0.009759\n",
              "10          previous  0.008029\n",
              "2            default  0.004140\n",
              "9           campaign  0.002128\n",
              "1          education  0.001303\n",
              "6            contact  0.000000\n",
              "11  poutcome_failure  0.000000\n",
              "12    poutcome_other  0.000000"
            ]
          },
          "execution_count": 7,
          "metadata": {},
          "output_type": "execute_result"
        }
      ],
      "source": [
        "best_model = trees[1]['model']\n",
        "feature_relevance = pd.DataFrame({'feature':df.columns.drop('y'),'value':best_model.feature_importances_})\n",
        "feature_relevance.sort_values('value',ascending=False)"
      ]
    },
    {
      "cell_type": "code",
      "execution_count": 8,
      "metadata": {},
      "outputs": [],
      "source": [
        "columns_of_least_importance = ['poutcome_other','poutcome_failure','contact','education','campaign']\n",
        "\n",
        "\n",
        "X_train.drop(columns=columns_of_least_importance)\n",
        "X_val.drop(columns=columns_of_least_importance)\n",
        "X_test.drop(columns=columns_of_least_importance)\n",
        "\n",
        "for tree in trees:\n",
        "    tree['model'].fit(X_train,y_train)\n",
        "    tree['pred'] = tree['model'].predict(X_val)"
      ]
    },
    {
      "cell_type": "markdown",
      "metadata": {
        "id": "hCuZ3m9j-0ih"
      },
      "source": [
        "# **Avaliação do Novo Modelo**\n",
        "\n",
        "Com as cinco features removidas, avalie novamente o modelo de árvore de decisão escolhido, utilizando apenas o **conjunto de validação**."
      ]
    },
    {
      "cell_type": "code",
      "execution_count": 9,
      "metadata": {},
      "outputs": [
        {
          "name": "stdout",
          "output_type": "stream",
          "text": [
            "Results for Decision Tree with depth = 3:\n",
            "Accuracy: 63.4009%\n",
            "Precision: 69.4989%\n",
            "Recall: 63.2937%\n",
            "F1 Score: 66.2513%\n",
            "\n",
            "Results for Decision Tree with depth = 6:\n",
            "Accuracy: 64.8649%\n",
            "Precision: 75.0000%\n",
            "Recall: 57.1429%\n",
            "F1 Score: 64.8649%\n",
            "\n",
            "Results for Decision Tree with depth = 9:\n",
            "Accuracy: 66.3288%\n",
            "Precision: 77.6280%\n",
            "Recall: 57.1429%\n",
            "F1 Score: 65.8286%\n",
            "\n"
          ]
        }
      ],
      "source": [
        "for i, tree in enumerate(trees):\n",
        "    pred = tree['pred']\n",
        "    accuracy = accuracy_score(y_val, pred)\n",
        "    precision = precision_score(y_val, pred)\n",
        "    recall = recall_score(y_val, pred)\n",
        "    f1 = f1_score(y_val, pred)\n",
        "\n",
        "    print(f\"Results for Decision Tree with depth = {(i+1)*3}:\")\n",
        "    print(f\"Accuracy: {accuracy:.4%}\")\n",
        "    print(f\"Precision: {precision:.4%}\")\n",
        "    print(f\"Recall: {recall:.4%}\")\n",
        "    print(f\"F1 Score: {f1:.4%}\\n\")"
      ]
    },
    {
      "cell_type": "markdown",
      "metadata": {
        "id": "H5Ehqu9C--Lu"
      },
      "source": [
        "# **Plotar a árvore do melhor modelo**\n",
        "\n",
        "Gere a visualização da Árvore de Decisão do novo modelo\n",
        "\n",
        "**Dica:**\n",
        "\n",
        "- Use a função `plot_tree()` da biblioteca `sklearn`\n",
        "\n",
        "- Para tornar a visualização mais clara e facilitar a interpretação dos resultados, ajuste o parâmetro max_depth em `plot_tree(max_depth=?)`, limitando a profundidade da árvore exibida e destacando os nós mais significativos."
      ]
    },
    {
      "cell_type": "code",
      "execution_count": null,
      "metadata": {
        "id": "aFo0y1qQwKO_"
      },
      "outputs": [],
      "source": []
    },
    {
      "cell_type": "markdown",
      "metadata": {
        "id": "7ABFSW18DNcU"
      },
      "source": [
        "# **Criação de Exemplos Fictícios**\n",
        "\n",
        "Observe a estrutura da árvore de decisão treinada e crie dois exemplos fictícios, um para cada possível valor do target. Para cada exemplo, descreva detalhadamente o caminho que ele seguirá na árvore, ou seja, a sequência de nós que serão percorridos até chegar à folha correspondente."
      ]
    },
    {
      "cell_type": "code",
      "execution_count": 10,
      "metadata": {
        "id": "SJD9waZp_2E5"
      },
      "outputs": [
        {
          "ename": "NameError",
          "evalue": "name 'pre_process' is not defined",
          "output_type": "error",
          "traceback": [
            "\u001b[1;31m---------------------------------------------------------------------------\u001b[0m",
            "\u001b[1;31mNameError\u001b[0m                                 Traceback (most recent call last)",
            "Cell \u001b[1;32mIn[10], line 15\u001b[0m\n\u001b[0;32m      1\u001b[0m test_df \u001b[38;5;241m=\u001b[39m pd\u001b[38;5;241m.\u001b[39mDataFrame(data\u001b[38;5;241m=\u001b[39m{\n\u001b[0;32m      2\u001b[0m     \u001b[38;5;124m'\u001b[39m\u001b[38;5;124mage\u001b[39m\u001b[38;5;124m'\u001b[39m: [\u001b[38;5;241m42\u001b[39m, \u001b[38;5;241m35\u001b[39m], \n\u001b[0;32m      3\u001b[0m     \u001b[38;5;124m'\u001b[39m\u001b[38;5;124meducation\u001b[39m\u001b[38;5;124m'\u001b[39m: [\u001b[38;5;124m'\u001b[39m\u001b[38;5;124mtertiary\u001b[39m\u001b[38;5;124m'\u001b[39m, \u001b[38;5;124m'\u001b[39m\u001b[38;5;124mprimary\u001b[39m\u001b[38;5;124m'\u001b[39m], \n\u001b[1;32m   (...)\u001b[0m\n\u001b[0;32m     13\u001b[0m     \u001b[38;5;124m'\u001b[39m\u001b[38;5;124mpoutcome\u001b[39m\u001b[38;5;124m'\u001b[39m: [\u001b[38;5;124m'\u001b[39m\u001b[38;5;124mother\u001b[39m\u001b[38;5;124m'\u001b[39m, \u001b[38;5;124m'\u001b[39m\u001b[38;5;124msuccess\u001b[39m\u001b[38;5;124m'\u001b[39m]\n\u001b[0;32m     14\u001b[0m })\n\u001b[1;32m---> 15\u001b[0m test_df \u001b[38;5;241m=\u001b[39m \u001b[43mpre_process\u001b[49m(test_df)\n\u001b[0;32m     16\u001b[0m test_df\u001b[38;5;241m.\u001b[39mhead()\n",
            "\u001b[1;31mNameError\u001b[0m: name 'pre_process' is not defined"
          ]
        }
      ],
      "source": [
        "test_df = pd.DataFrame(data={\n",
        "    'age': [42, 35], \n",
        "    'education': ['tertiary', 'primary'], \n",
        "    'default': ['no', 'yes'], \n",
        "    'balance': [1568, 890], \n",
        "    'housing': ['yes', 'yes'],\n",
        "    'loan': ['no', 'no'], \n",
        "    'contact': ['cellular', 'telephone'], \n",
        "    'day': [29, 3], \n",
        "    'month': ['may', 'jun'], \n",
        "    'campaign': [2, 1], \n",
        "    'previous': [0, 5], \n",
        "    'poutcome': ['other', 'success']\n",
        "})\n",
        "test_df = pre_process(test_df)\n",
        "test_df.head()"
      ]
    },
    {
      "cell_type": "code",
      "execution_count": null,
      "metadata": {},
      "outputs": [],
      "source": []
    },
    {
      "cell_type": "markdown",
      "metadata": {
        "id": "XRHay9QsEG0Z"
      },
      "source": [
        "# **Inferência e Verificação**\n",
        "\n",
        "Realize uma inferência utilizando esses dois exemplos fictícios no modelo treinado. Verifique se os resultados obtidos na inferência correspondem aos valores do target que você imaginou ao criar os exemplos."
      ]
    },
    {
      "cell_type": "code",
      "execution_count": null,
      "metadata": {
        "id": "_XGyFStVEQlC"
      },
      "outputs": [],
      "source": []
    },
    {
      "cell_type": "markdown",
      "metadata": {
        "id": "5537eg5RFCCP"
      },
      "source": [
        "# **Escolha do melhor modelo**\n",
        "\n",
        "Selecione o melhor modelo até agora com base no desempenho no conjunto de validação durante a etapa de avaliação e faça uma avaliação final do desempenho utilizando o **conjunto de** **teste**."
      ]
    },
    {
      "cell_type": "code",
      "execution_count": null,
      "metadata": {
        "id": "eaAMaI8TFNhy"
      },
      "outputs": [],
      "source": [
        "# Predict on the test set\n",
        "y_test_pred = best_model.predict(X_test)\n",
        "\n",
        "# Calculate metrics for the test dataset\n",
        "test_accuracy = accuracy_score(y_test, y_test_pred)\n",
        "test_precision = precision_score(y_test, y_test_pred)\n",
        "test_recall = recall_score(y_test, y_test_pred)\n",
        "test_f1 = f1_score(y_test, y_test_pred)\n",
        "\n",
        "print(\"Performance on the Test Set:\")\n",
        "print(f\"Test Accuracy: {test_accuracy:.4%}\")\n",
        "print(f\"Test Precision: {test_precision:.4%}\")\n",
        "print(f\"Test Recall: {test_recall:.4%}\")\n",
        "print(f\"Test F1 Score: {test_f1:.4%}\")"
      ]
    },
    {
      "cell_type": "markdown",
      "metadata": {
        "id": "rTtGDGOlDXSO"
      },
      "source": [
        "# **Mostre uma análise comparativa entre validação e teste para o modelo escolhido**\n",
        "\n",
        "**Observação:** Se houver uma discrepância muito grande nos resultados, algo pode estar errado, verifique seu treinamento e avaliação do modelo."
      ]
    },
    {
      "cell_type": "code",
      "execution_count": null,
      "metadata": {
        "id": "tkRrDHPqn5LO"
      },
      "outputs": [],
      "source": []
    }
  ],
  "metadata": {
    "colab": {
      "provenance": []
    },
    "kernelspec": {
      "display_name": "Python 3",
      "name": "python3"
    },
    "language_info": {
      "codemirror_mode": {
        "name": "ipython",
        "version": 3
      },
      "file_extension": ".py",
      "mimetype": "text/x-python",
      "name": "python",
      "nbconvert_exporter": "python",
      "pygments_lexer": "ipython3",
      "version": "3.12.6"
    }
  },
  "nbformat": 4,
  "nbformat_minor": 0
}
