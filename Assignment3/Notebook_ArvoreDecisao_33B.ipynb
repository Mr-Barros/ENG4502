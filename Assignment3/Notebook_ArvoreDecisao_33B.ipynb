{
  "cells": [
    {
      "cell_type": "markdown",
      "metadata": {
        "id": "_55Dkof4qEBc"
      },
      "source": [
        "# **Tarefa 3 - Árvore de decisão**\n",
        "\n",
        "####**Dicas:**\n",
        "\n",
        "- Tutorial para iniciantes em Python: https://www.datacamp.com/cheat-sheet/getting-started-with-python-cheat-sheet\n",
        "\n",
        "- Documentação do pandas: https://colab.research.google.com/drive/1a4sbKG7jOJGn4oeonQPA8XjJm7OYgcdX\n",
        "\n",
        "- Documentação do scikit-learn: https://scikit-learn.org/stable/\n",
        "\n",
        "- Documentação do matplotlib: https://matplotlib.org/stable/index.html\n",
        "\n",
        "- Documentação do seaborn: https://seaborn.pydata.org/tutorial.html\n",
        "\n",
        "---\n",
        "## **Dataset:**\n",
        "\n",
        "Nesse dataset os dados estão relacionados com campanhas de marketing direto (telefonemas) de uma instituição bancária portuguesa. O objetivo da classificação é prever se o cliente irá subscrever um depósito a prazo (**feature y**).\n",
        "\n",
        "\n",
        "---\n",
        "\n",
        "\n",
        "**Colunas:**\n",
        "\n",
        "1 - **age**\n",
        "\n",
        "2 - **education**\n",
        "\n",
        "3 - **default**: tem crédito em atraso?\n",
        "\n",
        "4 - **balance**: saldo médio anual, em euros\n",
        "\n",
        "5 - **housing**: tem empréstimo para habitação?\n",
        "\n",
        "6 - **loan**: tem empréstimo pessoal?\n",
        "\n",
        "7 - **contact**: tipo de comunicação de contato\n",
        "\n",
        "8 - **day**: último dia de contato do mês\n",
        "\n",
        "9 - **month**: último mês de contato do ano\n",
        "\n",
        "10 - **campaign**: número de contatos realizados durante esta campanha e para este cliente\n",
        "\n",
        "11 - **previous**: número de contatos realizados antes desta campanha e para este cliente\n",
        "\n",
        "12 - **poutcome**: resultado da campanha de marketing anterior\n",
        "\n",
        "13 - **y** - o cliente subscreveu um depósito a prazo?"
      ]
    },
    {
      "cell_type": "markdown",
      "metadata": {
        "id": "R5SImmMsxFN4"
      },
      "source": [
        "## **Importe os pacotes**"
      ]
    },
    {
      "cell_type": "code",
      "execution_count": 41,
      "metadata": {
        "id": "wbUpEefdqC7D"
      },
      "outputs": [],
      "source": [
        "import pandas as pd\n",
        "from sklearn.preprocessing import MinMaxScaler, OrdinalEncoder, LabelEncoder, OneHotEncoder\n",
        "import numpy as np\n",
        "from sklearn.model_selection import train_test_split\n"
      ]
    },
    {
      "cell_type": "markdown",
      "metadata": {
        "id": "0M5Q1zWOxNYI"
      },
      "source": [
        "## **Crie os datasets**\n",
        "### **Crie um DataFrame a partir do arquivo de dados disponibilizados no EaD**\n",
        "\n",
        "**Dicas:**\n",
        "\n",
        "* Certifique-se que os arquivos a serem lidos estão carregados na sua sessão do Colab, ou em um drive previamente montado, e ajuste o comando para incluir todo o caminho até cada um dos arquivos a serem lidos."
      ]
    },
    {
      "cell_type": "code",
      "execution_count": 42,
      "metadata": {
        "id": "a5xg9e7fsnGi"
      },
      "outputs": [
        {
          "name": "stdout",
          "output_type": "stream",
          "text": [
            "   age  education default  balance housing loan   contact  day month  \\\n",
            "0   23  secondary      no      567     yes  yes  cellular   15   may   \n",
            "1   35  secondary      no        0     yes   no  cellular   17   apr   \n",
            "2   42  secondary      no      400     yes   no  cellular    3   feb   \n",
            "3   35    primary      no      793     yes   no  cellular   17   apr   \n",
            "4   45  secondary      no     1723      no   no  cellular    1   jun   \n",
            "\n",
            "   campaign  previous poutcome    y  \n",
            "0         1         0    other   no  \n",
            "1         1         0    other   no  \n",
            "2         5         6  failure   no  \n",
            "3         1         0    other   no  \n",
            "4         2         0    other  yes  \n",
            "education\n",
            "secondary    3967\n",
            "tertiary     3055\n",
            "primary      1012\n",
            "unknown       356\n",
            "Name: count, dtype: int64\n",
            "['cellular' 'telephone']\n",
            "poutcome\n",
            "other      6181\n",
            "failure    1166\n",
            "success    1043\n",
            "Name: count, dtype: int64\n"
          ]
        },
        {
          "data": {
            "text/html": [
              "<div>\n",
              "<style scoped>\n",
              "    .dataframe tbody tr th:only-of-type {\n",
              "        vertical-align: middle;\n",
              "    }\n",
              "\n",
              "    .dataframe tbody tr th {\n",
              "        vertical-align: top;\n",
              "    }\n",
              "\n",
              "    .dataframe thead th {\n",
              "        text-align: right;\n",
              "    }\n",
              "</style>\n",
              "<table border=\"1\" class=\"dataframe\">\n",
              "  <thead>\n",
              "    <tr style=\"text-align: right;\">\n",
              "      <th></th>\n",
              "      <th>age</th>\n",
              "      <th>balance</th>\n",
              "      <th>day</th>\n",
              "      <th>campaign</th>\n",
              "      <th>previous</th>\n",
              "    </tr>\n",
              "  </thead>\n",
              "  <tbody>\n",
              "    <tr>\n",
              "      <th>count</th>\n",
              "      <td>8390.000000</td>\n",
              "      <td>8390.000000</td>\n",
              "      <td>8390.000000</td>\n",
              "      <td>8390.000000</td>\n",
              "      <td>8390.000000</td>\n",
              "    </tr>\n",
              "    <tr>\n",
              "      <th>mean</th>\n",
              "      <td>41.540167</td>\n",
              "      <td>1639.136949</td>\n",
              "      <td>15.557688</td>\n",
              "      <td>2.413468</td>\n",
              "      <td>1.050894</td>\n",
              "    </tr>\n",
              "    <tr>\n",
              "      <th>std</th>\n",
              "      <td>12.551213</td>\n",
              "      <td>3388.213746</td>\n",
              "      <td>8.389036</td>\n",
              "      <td>2.413275</td>\n",
              "      <td>2.510706</td>\n",
              "    </tr>\n",
              "    <tr>\n",
              "      <th>min</th>\n",
              "      <td>18.000000</td>\n",
              "      <td>-3058.000000</td>\n",
              "      <td>1.000000</td>\n",
              "      <td>1.000000</td>\n",
              "      <td>0.000000</td>\n",
              "    </tr>\n",
              "    <tr>\n",
              "      <th>25%</th>\n",
              "      <td>32.000000</td>\n",
              "      <td>139.000000</td>\n",
              "      <td>8.000000</td>\n",
              "      <td>1.000000</td>\n",
              "      <td>0.000000</td>\n",
              "    </tr>\n",
              "    <tr>\n",
              "      <th>50%</th>\n",
              "      <td>39.000000</td>\n",
              "      <td>592.000000</td>\n",
              "      <td>15.000000</td>\n",
              "      <td>2.000000</td>\n",
              "      <td>0.000000</td>\n",
              "    </tr>\n",
              "    <tr>\n",
              "      <th>75%</th>\n",
              "      <td>50.000000</td>\n",
              "      <td>1853.000000</td>\n",
              "      <td>22.000000</td>\n",
              "      <td>3.000000</td>\n",
              "      <td>1.000000</td>\n",
              "    </tr>\n",
              "    <tr>\n",
              "      <th>max</th>\n",
              "      <td>95.000000</td>\n",
              "      <td>81204.000000</td>\n",
              "      <td>31.000000</td>\n",
              "      <td>43.000000</td>\n",
              "      <td>58.000000</td>\n",
              "    </tr>\n",
              "  </tbody>\n",
              "</table>\n",
              "</div>"
            ],
            "text/plain": [
              "               age       balance          day     campaign     previous\n",
              "count  8390.000000   8390.000000  8390.000000  8390.000000  8390.000000\n",
              "mean     41.540167   1639.136949    15.557688     2.413468     1.050894\n",
              "std      12.551213   3388.213746     8.389036     2.413275     2.510706\n",
              "min      18.000000  -3058.000000     1.000000     1.000000     0.000000\n",
              "25%      32.000000    139.000000     8.000000     1.000000     0.000000\n",
              "50%      39.000000    592.000000    15.000000     2.000000     0.000000\n",
              "75%      50.000000   1853.000000    22.000000     3.000000     1.000000\n",
              "max      95.000000  81204.000000    31.000000    43.000000    58.000000"
            ]
          },
          "execution_count": 42,
          "metadata": {},
          "output_type": "execute_result"
        }
      ],
      "source": [
        "df = pd.read_csv(\"bank.csv\")\n",
        "print(df.head())\n",
        "print(df.education.value_counts())\n",
        "print(df.contact.unique())\n",
        "print(df.poutcome.value_counts())\n",
        "\n",
        "df.describe()"
      ]
    },
    {
      "cell_type": "markdown",
      "metadata": {
        "id": "Y4_QCv_y0PZ_"
      },
      "source": [
        "# **Pré-processamento**\n",
        "\n",
        "Utilize o conhecimento adquirido nos exercícios anteriores para realizar o pré-processamento desta base de dados, incluindo normalização, tratamento de features categóricas e manipulação de valores nulos."
      ]
    },
    {
      "cell_type": "code",
      "execution_count": 43,
      "metadata": {
        "id": "AD4rygHNjTJG"
      },
      "outputs": [
        {
          "data": {
            "text/html": [
              "<div>\n",
              "<style scoped>\n",
              "    .dataframe tbody tr th:only-of-type {\n",
              "        vertical-align: middle;\n",
              "    }\n",
              "\n",
              "    .dataframe tbody tr th {\n",
              "        vertical-align: top;\n",
              "    }\n",
              "\n",
              "    .dataframe thead th {\n",
              "        text-align: right;\n",
              "    }\n",
              "</style>\n",
              "<table border=\"1\" class=\"dataframe\">\n",
              "  <thead>\n",
              "    <tr style=\"text-align: right;\">\n",
              "      <th></th>\n",
              "      <th>age</th>\n",
              "      <th>education</th>\n",
              "      <th>default</th>\n",
              "      <th>balance</th>\n",
              "      <th>housing</th>\n",
              "      <th>loan</th>\n",
              "      <th>contact</th>\n",
              "      <th>day</th>\n",
              "      <th>month</th>\n",
              "      <th>campaign</th>\n",
              "      <th>previous</th>\n",
              "      <th>poutcome</th>\n",
              "      <th>y</th>\n",
              "    </tr>\n",
              "  </thead>\n",
              "  <tbody>\n",
              "    <tr>\n",
              "      <th>0</th>\n",
              "      <td>23</td>\n",
              "      <td>secondary</td>\n",
              "      <td>no</td>\n",
              "      <td>567</td>\n",
              "      <td>yes</td>\n",
              "      <td>yes</td>\n",
              "      <td>cellular</td>\n",
              "      <td>15</td>\n",
              "      <td>may</td>\n",
              "      <td>1</td>\n",
              "      <td>0</td>\n",
              "      <td>other</td>\n",
              "      <td>no</td>\n",
              "    </tr>\n",
              "    <tr>\n",
              "      <th>1</th>\n",
              "      <td>35</td>\n",
              "      <td>secondary</td>\n",
              "      <td>no</td>\n",
              "      <td>0</td>\n",
              "      <td>yes</td>\n",
              "      <td>no</td>\n",
              "      <td>cellular</td>\n",
              "      <td>17</td>\n",
              "      <td>apr</td>\n",
              "      <td>1</td>\n",
              "      <td>0</td>\n",
              "      <td>other</td>\n",
              "      <td>no</td>\n",
              "    </tr>\n",
              "    <tr>\n",
              "      <th>2</th>\n",
              "      <td>42</td>\n",
              "      <td>secondary</td>\n",
              "      <td>no</td>\n",
              "      <td>400</td>\n",
              "      <td>yes</td>\n",
              "      <td>no</td>\n",
              "      <td>cellular</td>\n",
              "      <td>3</td>\n",
              "      <td>feb</td>\n",
              "      <td>5</td>\n",
              "      <td>6</td>\n",
              "      <td>failure</td>\n",
              "      <td>no</td>\n",
              "    </tr>\n",
              "    <tr>\n",
              "      <th>3</th>\n",
              "      <td>35</td>\n",
              "      <td>primary</td>\n",
              "      <td>no</td>\n",
              "      <td>793</td>\n",
              "      <td>yes</td>\n",
              "      <td>no</td>\n",
              "      <td>cellular</td>\n",
              "      <td>17</td>\n",
              "      <td>apr</td>\n",
              "      <td>1</td>\n",
              "      <td>0</td>\n",
              "      <td>other</td>\n",
              "      <td>no</td>\n",
              "    </tr>\n",
              "    <tr>\n",
              "      <th>4</th>\n",
              "      <td>45</td>\n",
              "      <td>secondary</td>\n",
              "      <td>no</td>\n",
              "      <td>1723</td>\n",
              "      <td>no</td>\n",
              "      <td>no</td>\n",
              "      <td>cellular</td>\n",
              "      <td>1</td>\n",
              "      <td>jun</td>\n",
              "      <td>2</td>\n",
              "      <td>0</td>\n",
              "      <td>other</td>\n",
              "      <td>yes</td>\n",
              "    </tr>\n",
              "    <tr>\n",
              "      <th>...</th>\n",
              "      <td>...</td>\n",
              "      <td>...</td>\n",
              "      <td>...</td>\n",
              "      <td>...</td>\n",
              "      <td>...</td>\n",
              "      <td>...</td>\n",
              "      <td>...</td>\n",
              "      <td>...</td>\n",
              "      <td>...</td>\n",
              "      <td>...</td>\n",
              "      <td>...</td>\n",
              "      <td>...</td>\n",
              "      <td>...</td>\n",
              "    </tr>\n",
              "    <tr>\n",
              "      <th>8385</th>\n",
              "      <td>60</td>\n",
              "      <td>tertiary</td>\n",
              "      <td>no</td>\n",
              "      <td>2222</td>\n",
              "      <td>yes</td>\n",
              "      <td>no</td>\n",
              "      <td>cellular</td>\n",
              "      <td>11</td>\n",
              "      <td>jul</td>\n",
              "      <td>2</td>\n",
              "      <td>0</td>\n",
              "      <td>other</td>\n",
              "      <td>yes</td>\n",
              "    </tr>\n",
              "    <tr>\n",
              "      <th>8386</th>\n",
              "      <td>39</td>\n",
              "      <td>secondary</td>\n",
              "      <td>no</td>\n",
              "      <td>150</td>\n",
              "      <td>no</td>\n",
              "      <td>no</td>\n",
              "      <td>cellular</td>\n",
              "      <td>3</td>\n",
              "      <td>jun</td>\n",
              "      <td>4</td>\n",
              "      <td>0</td>\n",
              "      <td>other</td>\n",
              "      <td>yes</td>\n",
              "    </tr>\n",
              "    <tr>\n",
              "      <th>8387</th>\n",
              "      <td>44</td>\n",
              "      <td>secondary</td>\n",
              "      <td>no</td>\n",
              "      <td>545</td>\n",
              "      <td>yes</td>\n",
              "      <td>no</td>\n",
              "      <td>cellular</td>\n",
              "      <td>6</td>\n",
              "      <td>apr</td>\n",
              "      <td>3</td>\n",
              "      <td>1</td>\n",
              "      <td>failure</td>\n",
              "      <td>no</td>\n",
              "    </tr>\n",
              "    <tr>\n",
              "      <th>8388</th>\n",
              "      <td>73</td>\n",
              "      <td>primary</td>\n",
              "      <td>no</td>\n",
              "      <td>1388</td>\n",
              "      <td>no</td>\n",
              "      <td>no</td>\n",
              "      <td>telephone</td>\n",
              "      <td>11</td>\n",
              "      <td>jan</td>\n",
              "      <td>2</td>\n",
              "      <td>1</td>\n",
              "      <td>success</td>\n",
              "      <td>yes</td>\n",
              "    </tr>\n",
              "    <tr>\n",
              "      <th>8389</th>\n",
              "      <td>59</td>\n",
              "      <td>secondary</td>\n",
              "      <td>no</td>\n",
              "      <td>1139</td>\n",
              "      <td>no</td>\n",
              "      <td>no</td>\n",
              "      <td>cellular</td>\n",
              "      <td>14</td>\n",
              "      <td>jul</td>\n",
              "      <td>2</td>\n",
              "      <td>0</td>\n",
              "      <td>other</td>\n",
              "      <td>no</td>\n",
              "    </tr>\n",
              "  </tbody>\n",
              "</table>\n",
              "<p>8390 rows × 13 columns</p>\n",
              "</div>"
            ],
            "text/plain": [
              "      age  education default  balance housing loan    contact  day month  \\\n",
              "0      23  secondary      no      567     yes  yes   cellular   15   may   \n",
              "1      35  secondary      no        0     yes   no   cellular   17   apr   \n",
              "2      42  secondary      no      400     yes   no   cellular    3   feb   \n",
              "3      35    primary      no      793     yes   no   cellular   17   apr   \n",
              "4      45  secondary      no     1723      no   no   cellular    1   jun   \n",
              "...   ...        ...     ...      ...     ...  ...        ...  ...   ...   \n",
              "8385   60   tertiary      no     2222     yes   no   cellular   11   jul   \n",
              "8386   39  secondary      no      150      no   no   cellular    3   jun   \n",
              "8387   44  secondary      no      545     yes   no   cellular    6   apr   \n",
              "8388   73    primary      no     1388      no   no  telephone   11   jan   \n",
              "8389   59  secondary      no     1139      no   no   cellular   14   jul   \n",
              "\n",
              "      campaign  previous poutcome    y  \n",
              "0            1         0    other   no  \n",
              "1            1         0    other   no  \n",
              "2            5         6  failure   no  \n",
              "3            1         0    other   no  \n",
              "4            2         0    other  yes  \n",
              "...        ...       ...      ...  ...  \n",
              "8385         2         0    other  yes  \n",
              "8386         4         0    other  yes  \n",
              "8387         3         1  failure   no  \n",
              "8388         2         1  success  yes  \n",
              "8389         2         0    other   no  \n",
              "\n",
              "[8390 rows x 13 columns]"
            ]
          },
          "execution_count": 3,
          "metadata": {},
          "output_type": "execute_result"
        }
      ],
      "source": [
        "df[df['y'] == 'no']['education'].value_counts() # it's the same for both\n",
        "df[df['education'] == 'unknown'] = 'secondary'\n",
        "\n",
        "oe_education = OrdinalEncoder(categories = [['primary', 'secondary', 'tertiary']])\n",
        "oe_month = OrdinalEncoder(categories = [[\n",
        "    'january', 'february', 'march', 'april', 'may', 'june', \n",
        "    'july', 'august', 'september', 'october', 'november', 'december'\n",
        "]])\n",
        "\n",
        "df['education'] = oe_education.fit_transform(df['education'])\n",
        "df['month'] = oe_month.fit_transform(df['month'])\n",
        "\n",
        "le_default = LabelEncoder()\n",
        "le_housing = LabelEncoder()\n",
        "le_loan = LabelEncoder()\n",
        "le_contact = LabelEncoder() # result of using OneHotEncoder would be the same, as there are only two possible values\n",
        "\n",
        "df['default'] = le_default.fit_transform(df['default'])\n",
        "df['housing'] = le_default.fit_transform(df['housing'])\n",
        "df['loan'] = le_default.fit_transform(df['loan'])\n",
        "df['contact'] = le_contact.fit_transform(df['contact'])\n",
        "\n",
        "ohe = OneHotEncoder(sparse_output=False)\n",
        "\n",
        "\n"
      ]
    },
    {
      "cell_type": "markdown",
      "metadata": {
        "id": "niK2Ow3m0liO"
      },
      "source": [
        "# **Criação de Conjuntos de Treinamento, Teste e Validação**\n",
        "\n",
        "Divida os dados em conjuntos de treino, validação e teste. Para isso, selecione aleatoriamente 70% dos registros, sem reposição, para o conjunto de treinamento. Os 30% restantes deverão ser divididos igualmente entre os conjuntos de validação e teste.\n",
        "\n",
        "Dicas:\n",
        "- Fixe a semente de geração de dados aleatórios, utilize o comando `np.random.seed(escolha um número)`, antes de executar qualquer célula de comando que possa variar de valor resultante toda vez que for executada.\n",
        "\n",
        "- Para fazer a divisão de treino, validação, teste use a função `train_test_split()`"
      ]
    },
    {
      "cell_type": "code",
      "execution_count": 4,
      "metadata": {
        "id": "33TbzSbHxuw4"
      },
      "outputs": [],
      "source": [
        "np.random.seed(42)\n",
        "X = df.drop('y', axis=1)\n",
        "y = df['y']\n",
        "X_train, X_temp, y_train, y_temp = train_test_split(X, y, test_size=0.30)\n",
        "X_val, X_test, y_val, y_test = train_test_split(X_temp, y_temp, test_size=0.5)"
      ]
    },
    {
      "cell_type": "markdown",
      "metadata": {
        "id": "2sqPg3Gk0YvV"
      },
      "source": [
        "# **Treine e Teste o Modelo de Árvore de Decisão**\n",
        "\n",
        "Treinar três versões diferentes do modelo de Árvore de Decisão utilizando valores variados para a sua profundidade.\n",
        "\n",
        "**Dica:**\n",
        "\n",
        "- Busque pela função `DecisionTreeClassifier(max_depth=?)` da biblioteca scikitlearn"
      ]
    },
    {
      "cell_type": "code",
      "execution_count": null,
      "metadata": {
        "collapsed": true,
        "id": "lOsH924Ryp9w"
      },
      "outputs": [],
      "source": []
    },
    {
      "cell_type": "markdown",
      "metadata": {
        "id": "UIfeMwqW9Oik"
      },
      "source": [
        "# **Escolha e Avaliação do Modelo**\n",
        "\n",
        "Neste momento, é importante avaliar cada um dos modelos gerados utilizando o **dataset de validação**. Apresente a matriz de confusão, bem como as métricas de acurácia, precisão, recall e F1-score para cada modelo. Após avaliá-los **escolha o melhor modelo**\n",
        "\n",
        "**Dica:**\n",
        "\n",
        "- Você pode usar a função `confusion_matrix(_, _)` da biblioteca `scikitlearn.metrics`\n",
        "- Para calcular as métricas do modelo busque pelas funções `accuracy_score()`, `recall_score()`, `precision_score()`, `f1_score()`"
      ]
    },
    {
      "cell_type": "code",
      "execution_count": null,
      "metadata": {
        "id": "0QhASpshzCQv"
      },
      "outputs": [],
      "source": []
    },
    {
      "cell_type": "markdown",
      "metadata": {
        "id": "oX5MzDWA9d06"
      },
      "source": [
        "# **Feature Importance**\n",
        "\n",
        "Utilizando o melhor modelo gere o gráfico de importância das features para o modelo que obteve o melhor desempenho nos dados de validação. Em seguida, **remova as** **cinco** **features com menor importância e treine o modelo com o conjunto de treino novamente.**\n",
        "\n",
        "**Dica**\n",
        "\n",
        "- Utilize o método `.feature_importances_` da biblioteca `sklearn` para obter os valores de importância de cada feature.\n",
        "\n"
      ]
    },
    {
      "cell_type": "markdown",
      "metadata": {
        "id": "hCuZ3m9j-0ih"
      },
      "source": [
        "# **Avaliação do Novo Modelo**\n",
        "\n",
        "Com as cinco features removidas, avalie novamente o modelo de árvore de decisão escolhido, utilizando apenas o **conjunto de validação**."
      ]
    },
    {
      "cell_type": "markdown",
      "metadata": {
        "id": "H5Ehqu9C--Lu"
      },
      "source": [
        "# **Plotar a árvore do melhor modelo**\n",
        "\n",
        "Gere a visualização da Árvore de Decisão do novo modelo\n",
        "\n",
        "**Dica:**\n",
        "\n",
        "- Use a função `plot_tree()` da biblioteca `sklearn`\n",
        "\n",
        "- Para tornar a visualização mais clara e facilitar a interpretação dos resultados, ajuste o parâmetro max_depth em `plot_tree(max_depth=?)`, limitando a profundidade da árvore exibida e destacando os nós mais significativos."
      ]
    },
    {
      "cell_type": "code",
      "execution_count": null,
      "metadata": {
        "id": "aFo0y1qQwKO_"
      },
      "outputs": [],
      "source": []
    },
    {
      "cell_type": "markdown",
      "metadata": {
        "id": "7ABFSW18DNcU"
      },
      "source": [
        "# **Criação de Exemplos Fictícios**\n",
        "\n",
        "Observe a estrutura da árvore de decisão treinada e crie dois exemplos fictícios, um para cada possível valor do target. Para cada exemplo, descreva detalhadamente o caminho que ele seguirá na árvore, ou seja, a sequência de nós que serão percorridos até chegar à folha correspondente."
      ]
    },
    {
      "cell_type": "code",
      "execution_count": null,
      "metadata": {
        "id": "SJD9waZp_2E5"
      },
      "outputs": [],
      "source": []
    },
    {
      "cell_type": "markdown",
      "metadata": {
        "id": "XRHay9QsEG0Z"
      },
      "source": [
        "# **Inferência e Verificação**\n",
        "\n",
        "Realize uma inferência utilizando esses dois exemplos fictícios no modelo treinado. Verifique se os resultados obtidos na inferência correspondem aos valores do target que você imaginou ao criar os exemplos."
      ]
    },
    {
      "cell_type": "code",
      "execution_count": null,
      "metadata": {
        "id": "_XGyFStVEQlC"
      },
      "outputs": [],
      "source": []
    },
    {
      "cell_type": "markdown",
      "metadata": {
        "id": "5537eg5RFCCP"
      },
      "source": [
        "# **Escolha do melhor modelo**\n",
        "\n",
        "Selecione o melhor modelo até agora com base no desempenho no conjunto de validação durante a etapa de avaliação e faça uma avaliação final do desempenho utilizando o **conjunto de** **teste**."
      ]
    },
    {
      "cell_type": "code",
      "execution_count": null,
      "metadata": {
        "id": "eaAMaI8TFNhy"
      },
      "outputs": [],
      "source": []
    },
    {
      "cell_type": "markdown",
      "metadata": {
        "id": "rTtGDGOlDXSO"
      },
      "source": [
        "# **Mostre uma análise comparativa entre validação e teste para o modelo escolhido**\n",
        "\n",
        "**Observação:** Se houver uma discrepância muito grande nos resultados, algo pode estar errado, verifique seu treinamento e avaliação do modelo."
      ]
    },
    {
      "cell_type": "code",
      "execution_count": null,
      "metadata": {
        "id": "tkRrDHPqn5LO"
      },
      "outputs": [],
      "source": []
    }
  ],
  "metadata": {
    "colab": {
      "provenance": []
    },
    "kernelspec": {
      "display_name": "Python 3",
      "name": "python3"
    },
    "language_info": {
      "codemirror_mode": {
        "name": "ipython",
        "version": 3
      },
      "file_extension": ".py",
      "mimetype": "text/x-python",
      "name": "python",
      "nbconvert_exporter": "python",
      "pygments_lexer": "ipython3",
      "version": "3.12.6"
    }
  },
  "nbformat": 4,
  "nbformat_minor": 0
}
