{
  "cells": [
    {
      "cell_type": "markdown",
      "metadata": {
        "id": "-BS4YV3nc4v7"
      },
      "source": [
        "#Tarefa 4 - Regras de associação\n",
        "\n",
        "Neste exercício, você deve aplicar regras de associação para analisar um dataset utilizando o algoritmo Apriori. A ideia é identificar padrões frequentes de co-ocorrência entre os itens e extrair regras que possam ser úteis para insights de negócios.\n",
        "\n",
        "---\n",
        "\n",
        "## **Dicas:**\n",
        "\n",
        "- Tutorial para iniciantes em Python: https://www.datacamp.com/cheat-sheet/getting-started-with-python-cheat-sheet\n",
        "\n",
        "- Documentação do pandas: https://colab.research.google.com/drive/1a4sbKG7jOJGn4oeonQPA8XjJm7OYgcdX\n",
        "\n",
        "- Documentação do scikit-learn: https://scikit-learn.org/stable/\n",
        "\n",
        "- Documentação do matplotlib: https://matplotlib.org/stable/index.html\n",
        "\n",
        "- Documentação do seaborn: https://seaborn.pydata.org/tutorial.html\n",
        "\n",
        "## **Dataset:**\n",
        "\n",
        "O conjunto de dados contém 38.765 linhas com os pedidos de compra de pessoas em supermercados. Esses pedidos podem ser analisados, e regras de associação podem ser geradas utilizando a Análise de Cesta de Compras por meio de algoritmos como o Algoritmo Apriori.\n",
        "\n",
        "**Colunas:**\n",
        "\n",
        "1. **Member_number** → Id do cliente\n",
        "2. **Date** → Data da compra\n",
        "3. **itemDescription** → Item comprado"
      ]
    },
    {
      "cell_type": "markdown",
      "metadata": {
        "id": "2LPSMxQWKdk0"
      },
      "source": [
        "## **Importe os pacotes**"
      ]
    },
    {
      "cell_type": "code",
      "execution_count": 26,
      "metadata": {
        "id": "-9pUzN4xm753"
      },
      "outputs": [],
      "source": [
        "import pandas as pd\n",
        "import mlxtend.preprocessing as mlpre\n",
        "from mlxtend.preprocessing import TransactionEncoder\n",
        "from mlxtend.frequent_patterns import apriori, association_rules"
      ]
    },
    {
      "cell_type": "markdown",
      "metadata": {
        "id": "U5DSlwdbzOYq"
      },
      "source": [
        "## **Crie os datasets**\n",
        "### **Crie um DataFrame a partir do arquivo de dados disponibilizados no EaD**\n",
        "\n",
        "**Dicas:**\n",
        "\n",
        "* Certifique-se que os arquivos a serem lidos estão carregados na sua sessão do Colab, ou em um drive previamente montado, e ajuste o comando para incluir todo o caminho até cada um dos arquivos a serem lidos.\n",
        "* Se clicar com o botão direito do mouse no arquivo que deseja ser carregado que está ali nas esquerda (após upload) você pode clicar na opção de \"copy path\" que vai já pegar o caminho necessário para inserir no comando. Para inserir só pressionar \"cntrl + C\""
      ]
    },
    {
      "cell_type": "code",
      "execution_count": 27,
      "metadata": {
        "id": "t3XJ0Kn38umE"
      },
      "outputs": [
        {
          "name": "stdout",
          "output_type": "stream",
          "text": [
            "   Member_number        Date   itemDescription\n",
            "0           1808  21-07-2015    tropical fruit\n",
            "1           2552  05-01-2015        whole milk\n",
            "2           2300  19-09-2015         pip fruit\n",
            "3           1187  12-12-2015  other vegetables\n",
            "4           3037  01-02-2015        whole milk\n"
          ]
        },
        {
          "data": {
            "text/html": [
              "<div>\n",
              "<style scoped>\n",
              "    .dataframe tbody tr th:only-of-type {\n",
              "        vertical-align: middle;\n",
              "    }\n",
              "\n",
              "    .dataframe tbody tr th {\n",
              "        vertical-align: top;\n",
              "    }\n",
              "\n",
              "    .dataframe thead th {\n",
              "        text-align: right;\n",
              "    }\n",
              "</style>\n",
              "<table border=\"1\" class=\"dataframe\">\n",
              "  <thead>\n",
              "    <tr style=\"text-align: right;\">\n",
              "      <th></th>\n",
              "      <th>Member_number</th>\n",
              "    </tr>\n",
              "  </thead>\n",
              "  <tbody>\n",
              "    <tr>\n",
              "      <th>count</th>\n",
              "      <td>38765.000000</td>\n",
              "    </tr>\n",
              "    <tr>\n",
              "      <th>mean</th>\n",
              "      <td>3003.641868</td>\n",
              "    </tr>\n",
              "    <tr>\n",
              "      <th>std</th>\n",
              "      <td>1153.611031</td>\n",
              "    </tr>\n",
              "    <tr>\n",
              "      <th>min</th>\n",
              "      <td>1000.000000</td>\n",
              "    </tr>\n",
              "    <tr>\n",
              "      <th>25%</th>\n",
              "      <td>2002.000000</td>\n",
              "    </tr>\n",
              "    <tr>\n",
              "      <th>50%</th>\n",
              "      <td>3005.000000</td>\n",
              "    </tr>\n",
              "    <tr>\n",
              "      <th>75%</th>\n",
              "      <td>4007.000000</td>\n",
              "    </tr>\n",
              "    <tr>\n",
              "      <th>max</th>\n",
              "      <td>5000.000000</td>\n",
              "    </tr>\n",
              "  </tbody>\n",
              "</table>\n",
              "</div>"
            ],
            "text/plain": [
              "       Member_number\n",
              "count   38765.000000\n",
              "mean     3003.641868\n",
              "std      1153.611031\n",
              "min      1000.000000\n",
              "25%      2002.000000\n",
              "50%      3005.000000\n",
              "75%      4007.000000\n",
              "max      5000.000000"
            ]
          },
          "execution_count": 27,
          "metadata": {},
          "output_type": "execute_result"
        }
      ],
      "source": [
        "df = pd.read_csv(\"Groceries_dataset.csv\")\n",
        "print(df.head())\n",
        "\n",
        "df.describe()"
      ]
    },
    {
      "cell_type": "markdown",
      "metadata": {
        "id": "9WYDZbuWwgtc"
      },
      "source": []
    },
    {
      "cell_type": "markdown",
      "metadata": {},
      "source": [
        "# **Transforme as bases de dados**\n",
        "\n",
        "Para aplicar o algoritmo Apriori, primeiro precisamos transformar o dataset para um formato adequado. No caso de transações com múltiplos itens, vamos converter os dados em um formato de lista de itens por transação. Em seguida, devemos transformar essas listas em uma matriz booleana.\n",
        "\n",
        "**Dica:**\n",
        "- Primeiramente agrupe os dados de modo que cada transação contenha uma lista de itens, isso pode ser feito utilizando a função `groupby()`. O resultado disso será um DataFrame com as colunas 'Member_Number' sendo o id do cliente e  'itemDescription' como a lista de todos os itens que ele comprou\n",
        "\n",
        "Ex:\n",
        "\n",
        "     Member_number   |     itemDescription\n",
        "     1004            |   [dessert,salty snack]\n",
        "- Após agrupar use o `TransactionEncoder()` para transformar as listas de itens em um formato de matriz binária. Ou seja, o resultado disso será um DataFrame em que as linhas continuam como registros de transações mas os itens comprados tornam-se colunas e seus valores variam de True ou False caso durante a transação a pessoa tenha comprado ou não aquele produto.\n",
        "\n",
        "Ex:\n",
        "\n",
        "      dessert     |     beef    |    salty snack   |.....\n",
        "      True        |     False   |         True     |....."
      ]
    },
    {
      "cell_type": "code",
      "execution_count": 28,
      "metadata": {
        "id": "M1U0GeTanGqH"
      },
      "outputs": [
        {
          "name": "stdout",
          "output_type": "stream",
          "text": [
            "   Member_number                                    itemDescription\n",
            "0           1000  [soda, canned beer, sausage, sausage, whole mi...\n",
            "1           1001  [frankfurter, frankfurter, beef, sausage, whol...\n",
            "2           1002  [tropical fruit, butter milk, butter, frozen v...\n",
            "3           1003  [sausage, root vegetables, rolls/buns, deterge...\n",
            "4           1004  [other vegetables, pip fruit, root vegetables,...\n",
            "   Instant food products  UHT-milk  abrasive cleaner  artif. sweetener  \\\n",
            "0                  False     False             False             False   \n",
            "1                  False     False             False             False   \n",
            "2                  False     False             False             False   \n",
            "3                  False     False             False             False   \n",
            "4                  False     False             False             False   \n",
            "\n",
            "   baby cosmetics   bags  baking powder  bathroom cleaner   beef  berries  \\\n",
            "0           False  False          False             False  False    False   \n",
            "1           False  False          False             False   True    False   \n",
            "2           False  False          False             False  False    False   \n",
            "3           False  False          False             False  False    False   \n",
            "4           False  False          False             False  False    False   \n",
            "\n",
            "   ...  turkey  vinegar  waffles  whipped/sour cream  whisky  white bread  \\\n",
            "0  ...   False    False    False               False   False        False   \n",
            "1  ...   False    False    False                True   False         True   \n",
            "2  ...   False    False    False               False   False        False   \n",
            "3  ...   False    False    False               False   False        False   \n",
            "4  ...   False    False    False               False   False        False   \n",
            "\n",
            "   white wine  whole milk  yogurt  zwieback  \n",
            "0       False        True    True     False  \n",
            "1       False        True   False     False  \n",
            "2       False        True   False     False  \n",
            "3       False       False   False     False  \n",
            "4       False        True   False     False  \n",
            "\n",
            "[5 rows x 167 columns]\n"
          ]
        }
      ],
      "source": [
        "df_grouped = df.groupby('Member_number')['itemDescription'].apply(list).reset_index()\n",
        "print(df_grouped.head())\n",
        "\n",
        "transactions = df_grouped['itemDescription'].tolist()\n",
        "\n",
        "te = TransactionEncoder()\n",
        "te_ary = te.fit(transactions).transform(transactions)\n",
        "df_binary = pd.DataFrame(te_ary, columns=te.columns_)\n",
        "print(df_binary.head())"
      ]
    },
    {
      "cell_type": "markdown",
      "metadata": {
        "id": "sGEJJ11xKsNY"
      },
      "source": [
        "### **Encontre os itemsets mais frequentes**\n",
        "\n",
        "Agora com a base de dados transformada para o formato adequado, utilize o algoritmo apriori para encontrar as combinações de produtos mais frequentes de serem compradas.\n",
        "\n",
        "\n",
        "Para começar, você pode definir um suporte mínimo de 6% (se quiser, varie esse valor para visualizar os efeitos)\n",
        "\n",
        "**Dica:**\n",
        "\n",
        "- Busque pela função `apriori()` da biblioteca `mlxtend`"
      ]
    },
    {
      "cell_type": "code",
      "execution_count": 29,
      "metadata": {
        "id": "2FRHb8Q--syK"
      },
      "outputs": [
        {
          "name": "stdout",
          "output_type": "stream",
          "text": [
            "    support        itemsets\n",
            "0  0.078502      (UHT-milk)\n",
            "1  0.119548          (beef)\n",
            "2  0.079785       (berries)\n",
            "3  0.062083     (beverages)\n",
            "4  0.158799  (bottled beer)\n"
          ]
        }
      ],
      "source": [
        "frequent_itemsets = apriori(df_binary, min_support=0.06, use_colnames=True)\n",
        "\n",
        "print(frequent_itemsets.head())"
      ]
    },
    {
      "cell_type": "markdown",
      "metadata": {
        "id": "jMfiFc9kK3lC"
      },
      "source": [
        "#**Gere e visualize as regras de associação**\n",
        "\n",
        "Para gerar e visualizar as regras de associação, comece definindo uma confiança mínima de 50%. Se desejar, você pode ajustar esse valor para observar como ele afeta os resultados. Após a geração das regras, organize-as em ordem decrescente de confiança para facilitar a visualização.\n",
        "\n",
        "**Dica:**\n",
        "\n",
        "- Busque pela função `association_rules()` da biblioteca `mlxtend`"
      ]
    },
    {
      "cell_type": "code",
      "execution_count": 30,
      "metadata": {
        "collapsed": true,
        "id": "m6kYRapeApa4"
      },
      "outputs": [
        {
          "name": "stdout",
          "output_type": "stream",
          "text": [
            "       antecedents   consequents  antecedent support  consequent support  \\\n",
            "0           (beef)  (whole milk)            0.119548            0.458184   \n",
            "1   (bottled beer)  (whole milk)            0.158799            0.458184   \n",
            "2  (bottled water)  (whole milk)            0.213699            0.458184   \n",
            "3    (brown bread)  (whole milk)            0.135967            0.458184   \n",
            "4         (butter)  (whole milk)            0.126475            0.458184   \n",
            "\n",
            "    support  confidence      lift  leverage  conviction  zhangs_metric  \n",
            "0  0.064135    0.536481  1.170886  0.009360    1.168919       0.165762  \n",
            "1  0.085428    0.537964  1.174124  0.012669    1.172672       0.176297  \n",
            "2  0.112365    0.525810  1.147597  0.014452    1.142615       0.163569  \n",
            "3  0.069779    0.513208  1.120091  0.007481    1.113034       0.124087  \n",
            "4  0.066188    0.523327  1.142176  0.008239    1.136661       0.142501  \n",
            "                       antecedents   consequents  antecedent support  \\\n",
            "20      (yogurt, other vegetables)  (whole milk)            0.120318   \n",
            "22            (rolls/buns, yogurt)  (whole milk)            0.111339   \n",
            "18  (rolls/buns, other vegetables)  (whole milk)            0.146742   \n",
            "19        (soda, other vegetables)  (whole milk)            0.124166   \n",
            "21              (rolls/buns, soda)  (whole milk)            0.119805   \n",
            "\n",
            "    consequent support   support  confidence      lift  leverage  conviction  \\\n",
            "20            0.458184  0.071832    0.597015  1.303003  0.016704    1.344507   \n",
            "22            0.458184  0.065931    0.592166  1.292420  0.014917    1.328521   \n",
            "18            0.458184  0.082093    0.559441  1.220996  0.014859    1.229837   \n",
            "19            0.458184  0.069266    0.557851  1.217528  0.012375    1.225416   \n",
            "21            0.458184  0.065162    0.543897  1.187072  0.010269    1.187926   \n",
            "\n",
            "    zhangs_metric  \n",
            "20       0.264348  \n",
            "22       0.254605  \n",
            "18       0.212124  \n",
            "19       0.203992  \n",
            "21       0.179041  \n"
          ]
        }
      ],
      "source": [
        "rules = association_rules(frequent_itemsets, metric=\"confidence\", min_threshold=0.5)\n",
        "\n",
        "print(rules.head())\n",
        "\n",
        "rules_sorted = rules.sort_values(by=\"confidence\", ascending=False)\n",
        "\n",
        "print(rules_sorted.head())"
      ]
    },
    {
      "cell_type": "markdown",
      "metadata": {
        "id": "epx13hH8K8_0"
      },
      "source": [
        "### **Descreva a regra gerada com o maior valor de confiança**"
      ]
    },
    {
      "cell_type": "markdown",
      "metadata": {
        "id": "vNidUUoxLAYN"
      },
      "source": [
        "A regra \"Se outros vegetais e iogurte são comprados, então leite integral também será comprado\" tem uma confiança de 59.7%, o que significa que em cerca de 60% das vezes que \"outros vegetais e iogurte\" são comprados, o cliente também compra \"leite integral\". O lift de 1.30 sugere que essa combinação de itens tem uma probabilidade de compra conjunta 30% maior do que a compra de \"leite integral\" sozinho. Essa regra é útil para estratégias de marketing, como promoções de vendas cruzadas."
      ]
    },
    {
      "cell_type": "markdown",
      "metadata": {
        "id": "F9x4na9jLEo2"
      },
      "source": [
        "### **Qual o suporte e a confiança desta regra?**\n",
        "\n",
        "*   **Suporte:** 0.071832\n",
        "*   **Confiança:** 0.597015\n",
        "\n",
        "\n"
      ]
    },
    {
      "cell_type": "markdown",
      "metadata": {
        "id": "69sKy6SxLJEn"
      },
      "source": [
        "# **Filtrar Regras Relevantes**\n",
        "\n",
        "A partir do DataFrame gerado com as regras de associação, selecione as regras com valores de confiança superiores a 55%."
      ]
    },
    {
      "cell_type": "code",
      "execution_count": null,
      "metadata": {
        "id": "OyuJXGqEBFPo"
      },
      "outputs": [],
      "source": []
    },
    {
      "cell_type": "markdown",
      "metadata": {
        "id": "ihZk7PicLYac"
      },
      "source": [
        "# **Analise as regras de associação**\n",
        "\n",
        "Plote  um gráfico para analisar as regras de associação.\n",
        "\n",
        "Para analisar as regras de associação, considere a **confiança**, o **suporte** e a **elevação (lift)**.\n",
        "\n",
        "**Dica:**\n",
        "\n",
        "- Uma abordagem eficaz é utilizar um gráfico de dispersão (`plt.scatter()`)\n",
        "- Escolha duas dessas variáveis para representar os eixos x e y, e use a terceira variável para determinar a escala de cor dos pontos\n",
        "\n",
        "\n"
      ]
    },
    {
      "cell_type": "code",
      "execution_count": null,
      "metadata": {
        "id": "N8t3RCJXBSmv"
      },
      "outputs": [],
      "source": []
    },
    {
      "cell_type": "markdown",
      "metadata": {
        "id": "iwFYNG22p32g"
      },
      "source": [
        "# **Cenário**\n",
        "\n",
        "Imagine o seguinte cenário: o gerente de um supermercado deseja aumentar as vendas de \"yogurt\" (iogurte), que, apesar de ser popular, não é o produto mais comprado. O plano é criar uma promoção que incentive os clientes a adicionar iogurte ao carrinho junto com outros itens que costumam ser comprados junto com ele. Seu objetivo é identificar os itens frequentemente associados ao iogurte para criar uma promoção eficaz.\n",
        "\n",
        "**Dica:**\n",
        "- Explore a relação entre os antecedentes (itens comprados antes) e os consequentes (itens que tendem a ser comprados depois)\n",
        "- Altere a confiança mínima no algoritmo de regras de associação para encontrar as combinações mais fortes relacionadas ao iogurte.\n"
      ]
    },
    {
      "cell_type": "code",
      "execution_count": null,
      "metadata": {
        "id": "bNK_0wiHu1qo"
      },
      "outputs": [],
      "source": []
    },
    {
      "cell_type": "markdown",
      "metadata": {
        "id": "mBXn4q6z2Kci"
      },
      "source": [
        "### **Descreva a promoção que o gerente deve implementar para aumentar as vendas de iogurte.**"
      ]
    },
    {
      "cell_type": "markdown",
      "metadata": {
        "id": "nnfT7gRm2aU_"
      },
      "source": [
        "Responda aqui..."
      ]
    }
  ],
  "metadata": {
    "colab": {
      "provenance": []
    },
    "kernelspec": {
      "display_name": "Python 3",
      "name": "python3"
    },
    "language_info": {
      "codemirror_mode": {
        "name": "ipython",
        "version": 3
      },
      "file_extension": ".py",
      "mimetype": "text/x-python",
      "name": "python",
      "nbconvert_exporter": "python",
      "pygments_lexer": "ipython3",
      "version": "3.12.6"
    }
  },
  "nbformat": 4,
  "nbformat_minor": 0
}
