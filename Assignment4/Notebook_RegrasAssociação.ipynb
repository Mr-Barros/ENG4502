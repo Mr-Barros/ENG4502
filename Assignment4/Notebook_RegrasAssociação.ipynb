{
  "nbformat": 4,
  "nbformat_minor": 0,
  "metadata": {
    "colab": {
      "provenance": []
    },
    "kernelspec": {
      "name": "python3",
      "display_name": "Python 3"
    },
    "language_info": {
      "name": "python"
    }
  },
  "cells": [
    {
      "cell_type": "markdown",
      "source": [
        "#Tarefa 4 - Regras de associação\n",
        "\n",
        "Neste exercício, você deve aplicar regras de associação para analisar um dataset utilizando o algoritmo Apriori. A ideia é identificar padrões frequentes de co-ocorrência entre os itens e extrair regras que possam ser úteis para insights de negócios.\n",
        "\n",
        "---\n",
        "\n",
        "## **Dicas:**\n",
        "\n",
        "- Tutorial para iniciantes em Python: https://www.datacamp.com/cheat-sheet/getting-started-with-python-cheat-sheet\n",
        "\n",
        "- Documentação do pandas: https://colab.research.google.com/drive/1a4sbKG7jOJGn4oeonQPA8XjJm7OYgcdX\n",
        "\n",
        "- Documentação do scikit-learn: https://scikit-learn.org/stable/\n",
        "\n",
        "- Documentação do matplotlib: https://matplotlib.org/stable/index.html\n",
        "\n",
        "- Documentação do seaborn: https://seaborn.pydata.org/tutorial.html\n",
        "\n",
        "## **Dataset:**\n",
        "\n",
        "O conjunto de dados contém 38.765 linhas com os pedidos de compra de pessoas em supermercados. Esses pedidos podem ser analisados, e regras de associação podem ser geradas utilizando a Análise de Cesta de Compras por meio de algoritmos como o Algoritmo Apriori.\n",
        "\n",
        "**Colunas:**\n",
        "\n",
        "1. **Member_number** → Id do cliente\n",
        "2. **Date** → Data da compra\n",
        "3. **itemDescription** → Item comprado"
      ],
      "metadata": {
        "id": "-BS4YV3nc4v7"
      }
    },
    {
      "cell_type": "markdown",
      "source": [
        "## **Importe os pacotes**"
      ],
      "metadata": {
        "id": "2LPSMxQWKdk0"
      }
    },
    {
      "cell_type": "code",
      "source": [],
      "metadata": {
        "id": "-9pUzN4xm753"
      },
      "execution_count": null,
      "outputs": []
    },
    {
      "cell_type": "markdown",
      "source": [
        "## **Crie os datasets**\n",
        "### **Crie um DataFrame a partir do arquivo de dados disponibilizados no EaD**\n",
        "\n",
        "**Dicas:**\n",
        "\n",
        "* Certifique-se que os arquivos a serem lidos estão carregados na sua sessão do Colab, ou em um drive previamente montado, e ajuste o comando para incluir todo o caminho até cada um dos arquivos a serem lidos.\n",
        "* Se clicar com o botão direito do mouse no arquivo que deseja ser carregado que está ali nas esquerda (após upload) você pode clicar na opção de \"copy path\" que vai já pegar o caminho necessário para inserir no comando. Para inserir só pressionar \"cntrl + C\""
      ],
      "metadata": {
        "id": "U5DSlwdbzOYq"
      }
    },
    {
      "cell_type": "code",
      "source": [],
      "metadata": {
        "id": "t3XJ0Kn38umE"
      },
      "execution_count": null,
      "outputs": []
    },
    {
      "cell_type": "markdown",
      "source": [
        "# **Transforme as bases de dados**\n",
        "\n",
        "Para aplicar o algoritmo Apriori, primeiro precisamos transformar o dataset para um formato adequado. No caso de transações com múltiplos itens, vamos converter os dados em um formato de lista de itens por transação. Em seguida, devemos transformar essas listas em uma matriz booleana.\n",
        "\n",
        "**Dica:**\n",
        "- Primeiramente agrupe os dados de modo que cada transação contenha uma lista de itens, isso pode ser feito utilizando a função `groupby()`. O resultado disso será um DataFrame com as colunas 'Member_Number' sendo o id do cliente e  'itemDescription' como a lista de todos os itens que ele comprou\n",
        "\n",
        "Ex:\n",
        "\n",
        "     Member_number   |     itemDescription\n",
        "     1004            |   [dessert,salty snack]\n",
        "- Após agrupar use o `TransactionEncoder()` para transformar as listas de itens em um formato de matriz binária. Ou seja, o resultado disso será um DataFrame em que as linhas continuam como registros de transações mas os itens comprados tornam-se colunas e seus valores variam de True ou False caso durante a transação a pessoa tenha comprado ou não aquele produto.\n",
        "\n",
        "Ex:\n",
        "\n",
        "      dessert     |     beef    |    salty snack   |.....\n",
        "      True        |     False   |         True     |....."
      ],
      "metadata": {
        "id": "9WYDZbuWwgtc"
      }
    },
    {
      "cell_type": "code",
      "source": [],
      "metadata": {
        "id": "M1U0GeTanGqH"
      },
      "execution_count": null,
      "outputs": []
    },
    {
      "cell_type": "markdown",
      "source": [
        "### **Encontre os itemsets mais frequentes**\n",
        "\n",
        "Agora com a base de dados transformada para o formato adequado, utilize o algoritmo apriori para encontrar as combinações de produtos mais frequentes de serem compradas.\n",
        "\n",
        "\n",
        "Para começar, você pode definir um suporte mínimo de 6% (se quiser, varie esse valor para visualizar os efeitos)\n",
        "\n",
        "**Dica:**\n",
        "\n",
        "- Busque pela função `apriori()` da biblioteca `mlxtend`"
      ],
      "metadata": {
        "id": "sGEJJ11xKsNY"
      }
    },
    {
      "cell_type": "code",
      "source": [],
      "metadata": {
        "id": "2FRHb8Q--syK"
      },
      "execution_count": null,
      "outputs": []
    },
    {
      "cell_type": "markdown",
      "source": [
        "#**Gere e visualize as regras de associação**\n",
        "\n",
        "Para gerar e visualizar as regras de associação, comece definindo uma confiança mínima de 50%. Se desejar, você pode ajustar esse valor para observar como ele afeta os resultados. Após a geração das regras, organize-as em ordem decrescente de confiança para facilitar a visualização.\n",
        "\n",
        "**Dica:**\n",
        "\n",
        "- Busque pela função `association_rules()` da biblioteca `mlxtend`"
      ],
      "metadata": {
        "id": "jMfiFc9kK3lC"
      }
    },
    {
      "cell_type": "code",
      "source": [],
      "metadata": {
        "id": "m6kYRapeApa4",
        "collapsed": true
      },
      "execution_count": null,
      "outputs": []
    },
    {
      "cell_type": "markdown",
      "source": [
        "### **Descreva a regra gerada com o maior valor de confiança**"
      ],
      "metadata": {
        "id": "epx13hH8K8_0"
      }
    },
    {
      "cell_type": "markdown",
      "source": [
        "A regra \"Se outros vegetais e iogurte são comprados, então leite integral também será comprado\" tem uma confiança de 59.7%, o que significa que em cerca de 60% das vezes que \"outros vegetais e iogurte\" são comprados, o cliente também compra \"leite integral\". O lift de 1.30 sugere que essa combinação de itens tem uma probabilidade de compra conjunta 30% maior do que a compra de \"leite integral\" sozinho. Essa regra é útil para estratégias de marketing, como promoções de vendas cruzadas."
      ],
      "metadata": {
        "id": "vNidUUoxLAYN"
      }
    },
    {
      "cell_type": "markdown",
      "source": [
        "### **Qual o suporte e a confiança desta regra?**\n",
        "\n",
        "*   **Suporte:** 0.071832\n",
        "*   **Confiança:** 0.597015\n",
        "\n",
        "\n"
      ],
      "metadata": {
        "id": "F9x4na9jLEo2"
      }
    },
    {
      "cell_type": "markdown",
      "source": [
        "# **Filtrar Regras Relevantes**\n",
        "\n",
        "A partir do DataFrame gerado com as regras de associação, selecione as regras com valores de confiança superiores a 55%."
      ],
      "metadata": {
        "id": "69sKy6SxLJEn"
      }
    },
    {
      "cell_type": "code",
      "source": [],
      "metadata": {
        "id": "OyuJXGqEBFPo"
      },
      "execution_count": null,
      "outputs": []
    },
    {
      "cell_type": "markdown",
      "source": [
        "# **Analise as regras de associação**\n",
        "\n",
        "Plote  um gráfico para analisar as regras de associação.\n",
        "\n",
        "Para analisar as regras de associação, considere a **confiança**, o **suporte** e a **elevação (lift)**.\n",
        "\n",
        "**Dica:**\n",
        "\n",
        "- Uma abordagem eficaz é utilizar um gráfico de dispersão (`plt.scatter()`)\n",
        "- Escolha duas dessas variáveis para representar os eixos x e y, e use a terceira variável para determinar a escala de cor dos pontos\n",
        "\n",
        "\n"
      ],
      "metadata": {
        "id": "ihZk7PicLYac"
      }
    },
    {
      "cell_type": "code",
      "source": [],
      "metadata": {
        "id": "N8t3RCJXBSmv"
      },
      "execution_count": null,
      "outputs": []
    },
    {
      "cell_type": "markdown",
      "source": [
        "# **Cenário**\n",
        "\n",
        "Imagine o seguinte cenário: o gerente de um supermercado deseja aumentar as vendas de \"yogurt\" (iogurte), que, apesar de ser popular, não é o produto mais comprado. O plano é criar uma promoção que incentive os clientes a adicionar iogurte ao carrinho junto com outros itens que costumam ser comprados junto com ele. Seu objetivo é identificar os itens frequentemente associados ao iogurte para criar uma promoção eficaz.\n",
        "\n",
        "**Dica:**\n",
        "- Explore a relação entre os antecedentes (itens comprados antes) e os consequentes (itens que tendem a ser comprados depois)\n",
        "- Altere a confiança mínima no algoritmo de regras de associação para encontrar as combinações mais fortes relacionadas ao iogurte.\n"
      ],
      "metadata": {
        "id": "iwFYNG22p32g"
      }
    },
    {
      "cell_type": "code",
      "source": [],
      "metadata": {
        "id": "bNK_0wiHu1qo"
      },
      "execution_count": null,
      "outputs": []
    },
    {
      "cell_type": "markdown",
      "source": [
        "### **Descreva a promoção que o gerente deve implementar para aumentar as vendas de iogurte.**"
      ],
      "metadata": {
        "id": "mBXn4q6z2Kci"
      }
    },
    {
      "cell_type": "markdown",
      "source": [
        "Responda aqui..."
      ],
      "metadata": {
        "id": "nnfT7gRm2aU_"
      }
    }
  ]
}