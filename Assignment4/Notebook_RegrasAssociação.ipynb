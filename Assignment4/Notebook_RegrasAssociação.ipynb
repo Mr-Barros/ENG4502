{
  "cells": [
    {
      "cell_type": "markdown",
      "metadata": {
        "id": "-BS4YV3nc4v7"
      },
      "source": [
        "#Tarefa 4 - Regras de associação\n",
        "\n",
        "Neste exercício, você deve aplicar regras de associação para analisar um dataset utilizando o algoritmo Apriori. A ideia é identificar padrões frequentes de co-ocorrência entre os itens e extrair regras que possam ser úteis para insights de negócios.\n",
        "\n",
        "---\n",
        "\n",
        "## **Dicas:**\n",
        "\n",
        "- Tutorial para iniciantes em Python: https://www.datacamp.com/cheat-sheet/getting-started-with-python-cheat-sheet\n",
        "\n",
        "- Documentação do pandas: https://colab.research.google.com/drive/1a4sbKG7jOJGn4oeonQPA8XjJm7OYgcdX\n",
        "\n",
        "- Documentação do scikit-learn: https://scikit-learn.org/stable/\n",
        "\n",
        "- Documentação do matplotlib: https://matplotlib.org/stable/index.html\n",
        "\n",
        "- Documentação do seaborn: https://seaborn.pydata.org/tutorial.html\n",
        "\n",
        "## **Dataset:**\n",
        "\n",
        "O conjunto de dados contém 38.765 linhas com os pedidos de compra de pessoas em supermercados. Esses pedidos podem ser analisados, e regras de associação podem ser geradas utilizando a Análise de Cesta de Compras por meio de algoritmos como o Algoritmo Apriori.\n",
        "\n",
        "**Colunas:**\n",
        "\n",
        "1. **Member_number** → Id do cliente\n",
        "2. **Date** → Data da compra\n",
        "3. **itemDescription** → Item comprado"
      ]
    },
    {
      "cell_type": "markdown",
      "metadata": {
        "id": "2LPSMxQWKdk0"
      },
      "source": [
        "## **Importe os pacotes**"
      ]
    },
    {
      "cell_type": "code",
      "execution_count": 48,
      "metadata": {
        "id": "-9pUzN4xm753"
      },
      "outputs": [],
      "source": [
        "import pandas as pd\n",
        "import mlxtend.preprocessing as mlpre\n",
        "from mlxtend.preprocessing import TransactionEncoder\n",
        "from mlxtend.frequent_patterns import apriori, association_rules\n",
        "import matplotlib.pyplot as plt"
      ]
    },
    {
      "cell_type": "markdown",
      "metadata": {
        "id": "U5DSlwdbzOYq"
      },
      "source": [
        "## **Crie os datasets**\n",
        "### **Crie um DataFrame a partir do arquivo de dados disponibilizados no EaD**\n",
        "\n",
        "**Dicas:**\n",
        "\n",
        "* Certifique-se que os arquivos a serem lidos estão carregados na sua sessão do Colab, ou em um drive previamente montado, e ajuste o comando para incluir todo o caminho até cada um dos arquivos a serem lidos.\n",
        "* Se clicar com o botão direito do mouse no arquivo que deseja ser carregado que está ali nas esquerda (após upload) você pode clicar na opção de \"copy path\" que vai já pegar o caminho necessário para inserir no comando. Para inserir só pressionar \"cntrl + C\""
      ]
    },
    {
      "cell_type": "code",
      "execution_count": 43,
      "metadata": {
        "id": "t3XJ0Kn38umE"
      },
      "outputs": [
        {
          "name": "stdout",
          "output_type": "stream",
          "text": [
            "   Member_number        Date   itemDescription\n",
            "0           1808  21-07-2015    tropical fruit\n",
            "1           2552  05-01-2015        whole milk\n",
            "2           2300  19-09-2015         pip fruit\n",
            "3           1187  12-12-2015  other vegetables\n",
            "4           3037  01-02-2015        whole milk\n"
          ]
        },
        {
          "data": {
            "text/html": [
              "<div>\n",
              "<style scoped>\n",
              "    .dataframe tbody tr th:only-of-type {\n",
              "        vertical-align: middle;\n",
              "    }\n",
              "\n",
              "    .dataframe tbody tr th {\n",
              "        vertical-align: top;\n",
              "    }\n",
              "\n",
              "    .dataframe thead th {\n",
              "        text-align: right;\n",
              "    }\n",
              "</style>\n",
              "<table border=\"1\" class=\"dataframe\">\n",
              "  <thead>\n",
              "    <tr style=\"text-align: right;\">\n",
              "      <th></th>\n",
              "      <th>Member_number</th>\n",
              "    </tr>\n",
              "  </thead>\n",
              "  <tbody>\n",
              "    <tr>\n",
              "      <th>count</th>\n",
              "      <td>38765.000000</td>\n",
              "    </tr>\n",
              "    <tr>\n",
              "      <th>mean</th>\n",
              "      <td>3003.641868</td>\n",
              "    </tr>\n",
              "    <tr>\n",
              "      <th>std</th>\n",
              "      <td>1153.611031</td>\n",
              "    </tr>\n",
              "    <tr>\n",
              "      <th>min</th>\n",
              "      <td>1000.000000</td>\n",
              "    </tr>\n",
              "    <tr>\n",
              "      <th>25%</th>\n",
              "      <td>2002.000000</td>\n",
              "    </tr>\n",
              "    <tr>\n",
              "      <th>50%</th>\n",
              "      <td>3005.000000</td>\n",
              "    </tr>\n",
              "    <tr>\n",
              "      <th>75%</th>\n",
              "      <td>4007.000000</td>\n",
              "    </tr>\n",
              "    <tr>\n",
              "      <th>max</th>\n",
              "      <td>5000.000000</td>\n",
              "    </tr>\n",
              "  </tbody>\n",
              "</table>\n",
              "</div>"
            ],
            "text/plain": [
              "       Member_number\n",
              "count   38765.000000\n",
              "mean     3003.641868\n",
              "std      1153.611031\n",
              "min      1000.000000\n",
              "25%      2002.000000\n",
              "50%      3005.000000\n",
              "75%      4007.000000\n",
              "max      5000.000000"
            ]
          },
          "execution_count": 43,
          "metadata": {},
          "output_type": "execute_result"
        }
      ],
      "source": [
        "df = pd.read_csv(\"Groceries_dataset.csv\")\n",
        "print(df.head())\n",
        "\n",
        "df.describe()"
      ]
    },
    {
      "cell_type": "markdown",
      "metadata": {
        "id": "9WYDZbuWwgtc"
      },
      "source": []
    },
    {
      "cell_type": "markdown",
      "metadata": {},
      "source": [
        "# **Transforme as bases de dados**\n",
        "\n",
        "Para aplicar o algoritmo Apriori, primeiro precisamos transformar o dataset para um formato adequado. No caso de transações com múltiplos itens, vamos converter os dados em um formato de lista de itens por transação. Em seguida, devemos transformar essas listas em uma matriz booleana.\n",
        "\n",
        "**Dica:**\n",
        "- Primeiramente agrupe os dados de modo que cada transação contenha uma lista de itens, isso pode ser feito utilizando a função `groupby()`. O resultado disso será um DataFrame com as colunas 'Member_Number' sendo o id do cliente e  'itemDescription' como a lista de todos os itens que ele comprou\n",
        "\n",
        "Ex:\n",
        "\n",
        "     Member_number   |     itemDescription\n",
        "     1004            |   [dessert,salty snack]\n",
        "- Após agrupar use o `TransactionEncoder()` para transformar as listas de itens em um formato de matriz binária. Ou seja, o resultado disso será um DataFrame em que as linhas continuam como registros de transações mas os itens comprados tornam-se colunas e seus valores variam de True ou False caso durante a transação a pessoa tenha comprado ou não aquele produto.\n",
        "\n",
        "Ex:\n",
        "\n",
        "      dessert     |     beef    |    salty snack   |.....\n",
        "      True        |     False   |         True     |....."
      ]
    },
    {
      "cell_type": "code",
      "execution_count": 44,
      "metadata": {
        "id": "M1U0GeTanGqH"
      },
      "outputs": [
        {
          "name": "stdout",
          "output_type": "stream",
          "text": [
            "   Member_number                                    itemDescription\n",
            "0           1000  [soda, canned beer, sausage, sausage, whole mi...\n",
            "1           1001  [frankfurter, frankfurter, beef, sausage, whol...\n",
            "2           1002  [tropical fruit, butter milk, butter, frozen v...\n",
            "3           1003  [sausage, root vegetables, rolls/buns, deterge...\n",
            "4           1004  [other vegetables, pip fruit, root vegetables,...\n",
            "   Instant food products  UHT-milk  abrasive cleaner  artif. sweetener  \\\n",
            "0                  False     False             False             False   \n",
            "1                  False     False             False             False   \n",
            "2                  False     False             False             False   \n",
            "3                  False     False             False             False   \n",
            "4                  False     False             False             False   \n",
            "\n",
            "   baby cosmetics   bags  baking powder  bathroom cleaner   beef  berries  \\\n",
            "0           False  False          False             False  False    False   \n",
            "1           False  False          False             False   True    False   \n",
            "2           False  False          False             False  False    False   \n",
            "3           False  False          False             False  False    False   \n",
            "4           False  False          False             False  False    False   \n",
            "\n",
            "   ...  turkey  vinegar  waffles  whipped/sour cream  whisky  white bread  \\\n",
            "0  ...   False    False    False               False   False        False   \n",
            "1  ...   False    False    False                True   False         True   \n",
            "2  ...   False    False    False               False   False        False   \n",
            "3  ...   False    False    False               False   False        False   \n",
            "4  ...   False    False    False               False   False        False   \n",
            "\n",
            "   white wine  whole milk  yogurt  zwieback  \n",
            "0       False        True    True     False  \n",
            "1       False        True   False     False  \n",
            "2       False        True   False     False  \n",
            "3       False       False   False     False  \n",
            "4       False        True   False     False  \n",
            "\n",
            "[5 rows x 167 columns]\n"
          ]
        }
      ],
      "source": [
        "df_grouped = df.groupby('Member_number')['itemDescription'].apply(list).reset_index()\n",
        "print(df_grouped.head())\n",
        "\n",
        "transactions = df_grouped['itemDescription'].tolist()\n",
        "\n",
        "te = TransactionEncoder()\n",
        "te_ary = te.fit(transactions).transform(transactions)\n",
        "df_binary = pd.DataFrame(te_ary, columns=te.columns_)\n",
        "print(df_binary.head())"
      ]
    },
    {
      "cell_type": "markdown",
      "metadata": {
        "id": "sGEJJ11xKsNY"
      },
      "source": [
        "### **Encontre os itemsets mais frequentes**\n",
        "\n",
        "Agora com a base de dados transformada para o formato adequado, utilize o algoritmo apriori para encontrar as combinações de produtos mais frequentes de serem compradas.\n",
        "\n",
        "\n",
        "Para começar, você pode definir um suporte mínimo de 6% (se quiser, varie esse valor para visualizar os efeitos)\n",
        "\n",
        "**Dica:**\n",
        "\n",
        "- Busque pela função `apriori()` da biblioteca `mlxtend`"
      ]
    },
    {
      "cell_type": "code",
      "execution_count": 45,
      "metadata": {
        "id": "2FRHb8Q--syK"
      },
      "outputs": [
        {
          "name": "stdout",
          "output_type": "stream",
          "text": [
            "    support        itemsets\n",
            "0  0.078502      (UHT-milk)\n",
            "1  0.119548          (beef)\n",
            "2  0.079785       (berries)\n",
            "3  0.062083     (beverages)\n",
            "4  0.158799  (bottled beer)\n"
          ]
        }
      ],
      "source": [
        "frequent_itemsets = apriori(df_binary, min_support=0.06, use_colnames=True)\n",
        "\n",
        "print(frequent_itemsets.head())"
      ]
    },
    {
      "cell_type": "markdown",
      "metadata": {
        "id": "jMfiFc9kK3lC"
      },
      "source": [
        "#**Gere e visualize as regras de associação**\n",
        "\n",
        "Para gerar e visualizar as regras de associação, comece definindo uma confiança mínima de 50%. Se desejar, você pode ajustar esse valor para observar como ele afeta os resultados. Após a geração das regras, organize-as em ordem decrescente de confiança para facilitar a visualização.\n",
        "\n",
        "**Dica:**\n",
        "\n",
        "- Busque pela função `association_rules()` da biblioteca `mlxtend`"
      ]
    },
    {
      "cell_type": "code",
      "execution_count": 46,
      "metadata": {
        "collapsed": true,
        "id": "m6kYRapeApa4"
      },
      "outputs": [
        {
          "name": "stdout",
          "output_type": "stream",
          "text": [
            "                       antecedents   consequents  antecedent support  \\\n",
            "20      (yogurt, other vegetables)  (whole milk)            0.120318   \n",
            "22            (rolls/buns, yogurt)  (whole milk)            0.111339   \n",
            "18  (rolls/buns, other vegetables)  (whole milk)            0.146742   \n",
            "19        (soda, other vegetables)  (whole milk)            0.124166   \n",
            "21              (rolls/buns, soda)  (whole milk)            0.119805   \n",
            "\n",
            "    consequent support   support  confidence      lift  leverage  conviction  \\\n",
            "20            0.458184  0.071832    0.597015  1.303003  0.016704    1.344507   \n",
            "22            0.458184  0.065931    0.592166  1.292420  0.014917    1.328521   \n",
            "18            0.458184  0.082093    0.559441  1.220996  0.014859    1.229837   \n",
            "19            0.458184  0.069266    0.557851  1.217528  0.012375    1.225416   \n",
            "21            0.458184  0.065162    0.543897  1.187072  0.010269    1.187926   \n",
            "\n",
            "    zhangs_metric  \n",
            "20       0.264348  \n",
            "22       0.254605  \n",
            "18       0.212124  \n",
            "19       0.203992  \n",
            "21       0.179041  \n"
          ]
        }
      ],
      "source": [
        "rules = association_rules(frequent_itemsets, metric=\"confidence\", min_threshold=0.5)\n",
        "\n",
        "rules_sorted = rules.sort_values(by=\"confidence\", ascending=False)\n",
        "\n",
        "print(rules_sorted.head())"
      ]
    },
    {
      "cell_type": "markdown",
      "metadata": {
        "id": "epx13hH8K8_0"
      },
      "source": [
        "### **Descreva a regra gerada com o maior valor de confiança**"
      ]
    },
    {
      "cell_type": "markdown",
      "metadata": {
        "id": "vNidUUoxLAYN"
      },
      "source": [
        "A regra \"Se outros vegetais e iogurte são comprados, então leite integral também será comprado\" tem uma confiança de 59.7%, o que significa que em cerca de 60% das vezes que \"outros vegetais e iogurte\" são comprados, o cliente também compra \"leite integral\". O lift de 1.30 sugere que essa combinação de itens tem uma probabilidade de compra conjunta 30% maior do que a compra de \"leite integral\" sozinho. Essa regra é útil para estratégias de marketing, como promoções de vendas cruzadas."
      ]
    },
    {
      "cell_type": "markdown",
      "metadata": {
        "id": "F9x4na9jLEo2"
      },
      "source": [
        "### **Qual o suporte e a confiança desta regra?**\n",
        "\n",
        "*   **Suporte:** 0.071832\n",
        "*   **Confiança:** 0.597015\n",
        "\n",
        "\n"
      ]
    },
    {
      "cell_type": "markdown",
      "metadata": {
        "id": "69sKy6SxLJEn"
      },
      "source": [
        "# **Filtrar Regras Relevantes**\n",
        "\n",
        "A partir do DataFrame gerado com as regras de associação, selecione as regras com valores de confiança superiores a 55%."
      ]
    },
    {
      "cell_type": "code",
      "execution_count": 47,
      "metadata": {
        "id": "OyuJXGqEBFPo"
      },
      "outputs": [
        {
          "name": "stdout",
          "output_type": "stream",
          "text": [
            "                       antecedents   consequents  antecedent support  \\\n",
            "20      (yogurt, other vegetables)  (whole milk)            0.120318   \n",
            "22            (rolls/buns, yogurt)  (whole milk)            0.111339   \n",
            "18  (rolls/buns, other vegetables)  (whole milk)            0.146742   \n",
            "19        (soda, other vegetables)  (whole milk)            0.124166   \n",
            "\n",
            "    consequent support   support  confidence      lift  leverage  conviction  \\\n",
            "20            0.458184  0.071832    0.597015  1.303003  0.016704    1.344507   \n",
            "22            0.458184  0.065931    0.592166  1.292420  0.014917    1.328521   \n",
            "18            0.458184  0.082093    0.559441  1.220996  0.014859    1.229837   \n",
            "19            0.458184  0.069266    0.557851  1.217528  0.012375    1.225416   \n",
            "\n",
            "    zhangs_metric  \n",
            "20       0.264348  \n",
            "22       0.254605  \n",
            "18       0.212124  \n",
            "19       0.203992  \n"
          ]
        }
      ],
      "source": [
        "rules_55 = rules[rules['confidence'] > 0.55]\n",
        "\n",
        "rules_55_sorted = rules_55.sort_values(by='confidence', ascending=False)\n",
        "\n",
        "print(rules_55_sorted)"
      ]
    },
    {
      "cell_type": "markdown",
      "metadata": {
        "id": "ihZk7PicLYac"
      },
      "source": [
        "# **Analise as regras de associação**\n",
        "\n",
        "Plote  um gráfico para analisar as regras de associação.\n",
        "\n",
        "Para analisar as regras de associação, considere a **confiança**, o **suporte** e a **elevação (lift)**.\n",
        "\n",
        "**Dica:**\n",
        "\n",
        "- Uma abordagem eficaz é utilizar um gráfico de dispersão (`plt.scatter()`)\n",
        "- Escolha duas dessas variáveis para representar os eixos x e y, e use a terceira variável para determinar a escala de cor dos pontos\n",
        "\n",
        "\n"
      ]
    },
    {
      "cell_type": "code",
      "execution_count": 50,
      "metadata": {
        "id": "N8t3RCJXBSmv"
      },
      "outputs": [
        {
          "data": {
            "image/png": "[encoded data removed]",
            "text/plain": [
              "<Figure size 1000x600 with 2 Axes>"
            ]
          },
          "metadata": {},
          "output_type": "display_data"
        }
      ],
      "source": [
        "# Scatter plot using support (x), confidence (y), and lift (color scale)\n",
        "\n",
        "plt.figure(figsize=(10,6))\n",
        "scatter = plt.scatter(rules_55['support'], rules_55['confidence'], c=rules_55['lift'], cmap='viridis', s=100, edgecolor='k', alpha=0.7)\n",
        "plt.title('Grafico regras de associação', fontsize=15)\n",
        "plt.xlabel('Suporte', fontsize=12)\n",
        "plt.ylabel('Confiança', fontsize=12)\n",
        "colorbar = plt.colorbar(scatter)\n",
        "colorbar.set_label('Elevação', fontsize=12)\n",
        "plt.show()\n"
      ]
    },
    {
      "cell_type": "markdown",
      "metadata": {
        "id": "iwFYNG22p32g"
      },
      "source": [
        "# **Cenário**\n",
        "\n",
        "Imagine o seguinte cenário: o gerente de um supermercado deseja aumentar as vendas de \"yogurt\" (iogurte), que, apesar de ser popular, não é o produto mais comprado. O plano é criar uma promoção que incentive os clientes a adicionar iogurte ao carrinho junto com outros itens que costumam ser comprados junto com ele. Seu objetivo é identificar os itens frequentemente associados ao iogurte para criar uma promoção eficaz.\n",
        "\n",
        "**Dica:**\n",
        "- Explore a relação entre os antecedentes (itens comprados antes) e os consequentes (itens que tendem a ser comprados depois)\n",
        "- Altere a confiança mínima no algoritmo de regras de associação para encontrar as combinações mais fortes relacionadas ao iogurte.\n"
      ]
    },
    {
      "cell_type": "code",
      "execution_count": 55,
      "metadata": {
        "id": "bNK_0wiHu1qo"
      },
      "outputs": [
        {
          "name": "stdout",
          "output_type": "stream",
          "text": [
            "                   antecedents         consequents  antecedent support  \\\n",
            "81  (yogurt, other vegetables)        (whole milk)            0.120318   \n",
            "86        (rolls/buns, yogurt)        (whole milk)            0.111339   \n",
            "72                    (yogurt)        (whole milk)            0.282966   \n",
            "80        (yogurt, whole milk)  (other vegetables)            0.150590   \n",
            "88        (yogurt, whole milk)        (rolls/buns)            0.150590   \n",
            "\n",
            "    consequent support   support  confidence      lift  leverage  conviction  \\\n",
            "81            0.458184  0.071832    0.597015  1.303003  0.016704    1.344507   \n",
            "86            0.458184  0.065931    0.592166  1.292420  0.014917    1.328521   \n",
            "72            0.458184  0.150590    0.532185  1.161510  0.020940    1.158185   \n",
            "80            0.376603  0.071832    0.477002  1.266589  0.015119    1.191967   \n",
            "88            0.349666  0.065931    0.437819  1.252106  0.013275    1.156805   \n",
            "\n",
            "    zhangs_metric  \n",
            "81       0.264348  \n",
            "86       0.254605  \n",
            "72       0.193926  \n",
            "80       0.247793  \n",
            "88       0.237041  \n"
          ]
        },
        {
          "data": {
            "image/png": "[encoded data removed]",
            "text/plain": [
              "<Figure size 1000x600 with 2 Axes>"
            ]
          },
          "metadata": {},
          "output_type": "display_data"
        }
      ],
      "source": [
        "rules_yogurt = association_rules(frequent_itemsets, metric=\"confidence\", min_threshold=0.30)\n",
        "\n",
        "yogurt_rules = rules_yogurt[rules_yogurt['antecedents'].apply(lambda x: 'yogurt' in x) | \n",
        "                            rules_yogurt['consequents'].apply(lambda x: 'yogurt' in x)]\n",
        "yogurt_rules_sorted = yogurt_rules.sort_values(by='confidence', ascending=False)\n",
        "\n",
        "print(yogurt_rules_sorted.head())\n",
        "\n",
        "import matplotlib.pyplot as plt\n",
        "\n",
        "plt.figure(figsize=(10, 6))\n",
        "scatter = plt.scatter( yogurt_rules_sorted['support'], yogurt_rules_sorted['confidence'], c=yogurt_rules_sorted['lift'], cmap='viridis', s=100, edgecolor='k', alpha=0.7)\n",
        "plt.title('Regras de associação iogurte', fontsize=15)\n",
        "plt.xlabel('Suporte', fontsize=12)\n",
        "plt.ylabel('Confiança', fontsize=12)\n",
        "colorbar = plt.colorbar(scatter)\n",
        "colorbar.set_label('Elevação', fontsize=12)\n",
        "plt.show()\n",
        "\n"
      ]
    },
    {
      "cell_type": "markdown",
      "metadata": {
        "id": "mBXn4q6z2Kci"
      },
      "source": [
        "### **Descreva a promoção que o gerente deve implementar para aumentar as vendas de iogurte.**"
      ]
    },
    {
      "cell_type": "markdown",
      "metadata": {
        "id": "nnfT7gRm2aU_"
      },
      "source": [
        "Responda aqui..."
      ]
    }
  ],
  "metadata": {
    "colab": {
      "provenance": []
    },
    "kernelspec": {
      "display_name": "Python 3",
      "name": "python3"
    },
    "language_info": {
      "codemirror_mode": {
        "name": "ipython",
        "version": 3
      },
      "file_extension": ".py",
      "mimetype": "text/x-python",
      "name": "python",
      "nbconvert_exporter": "python",
      "pygments_lexer": "ipython3",
      "version": "3.12.6"
    }
  },
  "nbformat": 4,
  "nbformat_minor": 0
}
